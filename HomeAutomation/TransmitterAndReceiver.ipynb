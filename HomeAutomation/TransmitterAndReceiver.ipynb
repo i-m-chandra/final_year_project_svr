{
 "cells": [
  {
   "cell_type": "code",
   "execution_count": 7,
   "metadata": {},
   "outputs": [],
   "source": [
    "import serial\n",
    "import syslog\n",
    "import time\n",
    "\n",
    "#The following line is for serial over GPIO\n",
    "port = '/dev/ttyUSB0' # note I'm using Mac OS-X\n",
    "\n",
    "def Sw1():\n",
    "    ard = serial.Serial(port,9600,timeout=5)\n",
    "    time.sleep(2) # wait for Arduino\n",
    "\n",
    "    i = 0\n",
    "\n",
    "    while (i < 1):\n",
    "        # Serial write section\n",
    "        ard.flush()\n",
    "        print (\"Python value sent: \")\n",
    "        print ('5')\n",
    "        ard.write(b'5')\n",
    "        ard.flush()\n",
    "        time.sleep(1) # I shortened this to match the new value in your Arduino code\n",
    "        i = i + 1\n",
    "        break\n",
    "def Sw2():\n",
    "    ard = serial.Serial(port,9600,timeout=5)\n",
    "    time.sleep(2) # wait for Arduino\n",
    "\n",
    "    i = 0\n",
    "\n",
    "    while (i < 1):\n",
    "        # Serial write section\n",
    "        ard.flush()\n",
    "        print (\"Python value sent: \")\n",
    "        print ('6')\n",
    "        ard.write(b'6')\n",
    "        ard.flush()\n",
    "        time.sleep(1) # I shortened this to match the new value in your Arduino code\n",
    "        i = i + 1\n",
    "        break\n",
    "def Sw3():\n",
    "    ard = serial.Serial(port,9600,timeout=5)\n",
    "    time.sleep(2) # wait for Arduino\n",
    "\n",
    "    i = 0\n",
    "\n",
    "    while (i < 1):\n",
    "        # Serial write section\n",
    "        ard.flush()\n",
    "        print (\"Python value sent: \")\n",
    "        print ('7')\n",
    "        ard.write(b'7')\n",
    "        ard.flush()\n",
    "        time.sleep(1) # I shortened this to match the new value in your Arduino code\n",
    "        i = i + 1\n",
    "        break\n",
    "def Sw4():\n",
    "    ard = serial.Serial(port,9600,timeout=5)\n",
    "    time.sleep(2) # wait for Arduino\n",
    "\n",
    "    i = 0\n",
    "\n",
    "    while (i < 1):\n",
    "        # Serial write section\n",
    "        ard.flush()\n",
    "        print (\"Python value sent: \")\n",
    "        print ('8')\n",
    "        ard.write(b'8')\n",
    "        ard.flush()\n",
    "        time.sleep(1) # I shortened this to match the new value in your Arduino code\n",
    "        i = i + 1\n",
    "        break\n",
    "def SwMain():\n",
    "    ard = serial.Serial(port,9600,timeout=5)\n",
    "    time.sleep(2) # wait for Arduino\n",
    "\n",
    "    i = 0\n",
    "\n",
    "    while (i < 1):\n",
    "        # Serial write section\n",
    "        ard.flush()\n",
    "        print (\"Python value sent: \")\n",
    "        print ('9')\n",
    "        ard.write(b'9')\n",
    "        ard.flush()\n",
    "        time.sleep(1) # I shortened this to match the new value in your Arduino code\n",
    "        i = i + 1\n",
    "        break"
   ]
  },
  {
   "cell_type": "code",
   "execution_count": 8,
   "metadata": {},
   "outputs": [],
   "source": [
    "ser = serial.Serial(port='/dev/ttyUSB0', baudrate=9600)"
   ]
  },
  {
   "cell_type": "code",
   "execution_count": 9,
   "metadata": {},
   "outputs": [
    {
     "name": "stdout",
     "output_type": "stream",
     "text": [
      "Python value sent: \n",
      "5\n"
     ]
    }
   ],
   "source": [
    "Sw1()"
   ]
  },
  {
   "cell_type": "code",
   "execution_count": 10,
   "metadata": {},
   "outputs": [
    {
     "name": "stdout",
     "output_type": "stream",
     "text": [
      "Python value sent: \n",
      "6\n"
     ]
    }
   ],
   "source": [
    "Sw2()"
   ]
  },
  {
   "cell_type": "code",
   "execution_count": 11,
   "metadata": {},
   "outputs": [
    {
     "name": "stdout",
     "output_type": "stream",
     "text": [
      "Python value sent: \n",
      "7\n"
     ]
    }
   ],
   "source": [
    "Sw3()"
   ]
  },
  {
   "cell_type": "code",
   "execution_count": 12,
   "metadata": {},
   "outputs": [
    {
     "name": "stdout",
     "output_type": "stream",
     "text": [
      "Python value sent: \n",
      "8\n"
     ]
    }
   ],
   "source": [
    "Sw4()"
   ]
  },
  {
   "cell_type": "code",
   "execution_count": 13,
   "metadata": {},
   "outputs": [
    {
     "name": "stdout",
     "output_type": "stream",
     "text": [
      "Python value sent: \n",
      "9\n"
     ]
    }
   ],
   "source": [
    "SwMain()"
   ]
  },
  {
   "cell_type": "code",
   "execution_count": null,
   "metadata": {},
   "outputs": [],
   "source": []
  }
 ],
 "metadata": {
  "kernelspec": {
   "display_name": "Python 3",
   "language": "python",
   "name": "python3"
  },
  "language_info": {
   "codemirror_mode": {
    "name": "ipython",
    "version": 3
   },
   "file_extension": ".py",
   "mimetype": "text/x-python",
   "name": "python",
   "nbconvert_exporter": "python",
   "pygments_lexer": "ipython3",
   "version": "3.7.3"
  }
 },
 "nbformat": 4,
 "nbformat_minor": 2
}
