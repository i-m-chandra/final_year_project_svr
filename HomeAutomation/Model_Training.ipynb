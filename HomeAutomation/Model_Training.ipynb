{
 "cells": [
  {
   "cell_type": "code",
   "execution_count": 140,
   "metadata": {},
   "outputs": [],
   "source": [
    "import os\n",
    "import time\n",
    "import glob\n",
    "\n",
    "import pandas as pd\n",
    "import numpy as np\n",
    "\n",
    "from sklearn import preprocessing\n",
    "\n",
    "from keras.utils.np_utils import to_categorical\n",
    "\n",
    "from keras.models import Sequential\n",
    "\n",
    "from sklearn.utils import shuffle\n",
    "\n",
    "from keras.models import Sequential\n",
    "\n",
    "from keras.layers import Dense\n",
    "\n",
    "from keras.layers import BatchNormalization\n",
    "\n",
    "from sklearn.model_selection import train_test_split"
   ]
  },
  {
   "cell_type": "code",
   "execution_count": 141,
   "metadata": {},
   "outputs": [
    {
     "name": "stdout",
     "output_type": "stream",
     "text": [
      "/home/imchandra/Desktop/SVRNEW/HomeAutomation\n"
     ]
    }
   ],
   "source": [
    "execution_path = os.getcwd()\n",
    "print(execution_path)"
   ]
  },
  {
   "cell_type": "code",
   "execution_count": 142,
   "metadata": {},
   "outputs": [],
   "source": [
    "combined_csv = pd.read_csv(os.path.join(execution_path, 'combined_signs.csv'))"
   ]
  },
  {
   "cell_type": "code",
   "execution_count": 143,
   "metadata": {},
   "outputs": [
    {
     "data": {
      "text/html": [
       "<div>\n",
       "<style scoped>\n",
       "    .dataframe tbody tr th:only-of-type {\n",
       "        vertical-align: middle;\n",
       "    }\n",
       "\n",
       "    .dataframe tbody tr th {\n",
       "        vertical-align: top;\n",
       "    }\n",
       "\n",
       "    .dataframe thead th {\n",
       "        text-align: right;\n",
       "    }\n",
       "</style>\n",
       "<table border=\"1\" class=\"dataframe\">\n",
       "  <thead>\n",
       "    <tr style=\"text-align: right;\">\n",
       "      <th></th>\n",
       "      <th>0</th>\n",
       "      <th>1</th>\n",
       "      <th>2</th>\n",
       "      <th>3</th>\n",
       "      <th>4</th>\n",
       "      <th>5</th>\n",
       "      <th>6</th>\n",
       "      <th>7</th>\n",
       "      <th>8</th>\n",
       "      <th>9</th>\n",
       "      <th>10</th>\n",
       "      <th>11</th>\n",
       "      <th>12</th>\n",
       "    </tr>\n",
       "  </thead>\n",
       "  <tbody>\n",
       "    <tr>\n",
       "      <th>0</th>\n",
       "      <td>0.02</td>\n",
       "      <td>-0.31</td>\n",
       "      <td>0.94</td>\n",
       "      <td>255</td>\n",
       "      <td>255</td>\n",
       "      <td>1</td>\n",
       "      <td>1</td>\n",
       "      <td>1</td>\n",
       "      <td>1020</td>\n",
       "      <td>0</td>\n",
       "      <td>0</td>\n",
       "      <td>0</td>\n",
       "      <td>0</td>\n",
       "    </tr>\n",
       "    <tr>\n",
       "      <th>1</th>\n",
       "      <td>0.01</td>\n",
       "      <td>-0.30</td>\n",
       "      <td>0.94</td>\n",
       "      <td>255</td>\n",
       "      <td>255</td>\n",
       "      <td>1</td>\n",
       "      <td>1</td>\n",
       "      <td>1</td>\n",
       "      <td>1020</td>\n",
       "      <td>0</td>\n",
       "      <td>0</td>\n",
       "      <td>0</td>\n",
       "      <td>0</td>\n",
       "    </tr>\n",
       "    <tr>\n",
       "      <th>2</th>\n",
       "      <td>-0.13</td>\n",
       "      <td>-0.39</td>\n",
       "      <td>0.85</td>\n",
       "      <td>255</td>\n",
       "      <td>255</td>\n",
       "      <td>1</td>\n",
       "      <td>1</td>\n",
       "      <td>1</td>\n",
       "      <td>1020</td>\n",
       "      <td>0</td>\n",
       "      <td>0</td>\n",
       "      <td>0</td>\n",
       "      <td>0</td>\n",
       "    </tr>\n",
       "    <tr>\n",
       "      <th>3</th>\n",
       "      <td>0.13</td>\n",
       "      <td>-0.45</td>\n",
       "      <td>0.86</td>\n",
       "      <td>255</td>\n",
       "      <td>255</td>\n",
       "      <td>1</td>\n",
       "      <td>1</td>\n",
       "      <td>1</td>\n",
       "      <td>1020</td>\n",
       "      <td>0</td>\n",
       "      <td>0</td>\n",
       "      <td>0</td>\n",
       "      <td>0</td>\n",
       "    </tr>\n",
       "    <tr>\n",
       "      <th>4</th>\n",
       "      <td>0.07</td>\n",
       "      <td>-0.47</td>\n",
       "      <td>0.87</td>\n",
       "      <td>255</td>\n",
       "      <td>255</td>\n",
       "      <td>1</td>\n",
       "      <td>1</td>\n",
       "      <td>1</td>\n",
       "      <td>1019</td>\n",
       "      <td>0</td>\n",
       "      <td>0</td>\n",
       "      <td>0</td>\n",
       "      <td>0</td>\n",
       "    </tr>\n",
       "    <tr>\n",
       "      <th>5</th>\n",
       "      <td>0.07</td>\n",
       "      <td>-0.46</td>\n",
       "      <td>0.87</td>\n",
       "      <td>255</td>\n",
       "      <td>255</td>\n",
       "      <td>1</td>\n",
       "      <td>1</td>\n",
       "      <td>1</td>\n",
       "      <td>1019</td>\n",
       "      <td>0</td>\n",
       "      <td>0</td>\n",
       "      <td>0</td>\n",
       "      <td>0</td>\n",
       "    </tr>\n",
       "    <tr>\n",
       "      <th>6</th>\n",
       "      <td>0.09</td>\n",
       "      <td>-0.46</td>\n",
       "      <td>0.88</td>\n",
       "      <td>255</td>\n",
       "      <td>255</td>\n",
       "      <td>1</td>\n",
       "      <td>1</td>\n",
       "      <td>1</td>\n",
       "      <td>1020</td>\n",
       "      <td>0</td>\n",
       "      <td>0</td>\n",
       "      <td>0</td>\n",
       "      <td>0</td>\n",
       "    </tr>\n",
       "    <tr>\n",
       "      <th>7</th>\n",
       "      <td>0.07</td>\n",
       "      <td>-0.46</td>\n",
       "      <td>0.87</td>\n",
       "      <td>255</td>\n",
       "      <td>255</td>\n",
       "      <td>1</td>\n",
       "      <td>1</td>\n",
       "      <td>1</td>\n",
       "      <td>1019</td>\n",
       "      <td>0</td>\n",
       "      <td>0</td>\n",
       "      <td>0</td>\n",
       "      <td>0</td>\n",
       "    </tr>\n",
       "    <tr>\n",
       "      <th>8</th>\n",
       "      <td>0.08</td>\n",
       "      <td>-0.46</td>\n",
       "      <td>0.87</td>\n",
       "      <td>255</td>\n",
       "      <td>255</td>\n",
       "      <td>1</td>\n",
       "      <td>1</td>\n",
       "      <td>1</td>\n",
       "      <td>1020</td>\n",
       "      <td>0</td>\n",
       "      <td>0</td>\n",
       "      <td>0</td>\n",
       "      <td>0</td>\n",
       "    </tr>\n",
       "    <tr>\n",
       "      <th>9</th>\n",
       "      <td>0.07</td>\n",
       "      <td>-0.45</td>\n",
       "      <td>0.87</td>\n",
       "      <td>255</td>\n",
       "      <td>255</td>\n",
       "      <td>1</td>\n",
       "      <td>1</td>\n",
       "      <td>1</td>\n",
       "      <td>1021</td>\n",
       "      <td>0</td>\n",
       "      <td>0</td>\n",
       "      <td>0</td>\n",
       "      <td>0</td>\n",
       "    </tr>\n",
       "  </tbody>\n",
       "</table>\n",
       "</div>"
      ],
      "text/plain": [
       "      0     1     2    3    4  5  6  7     8  9  10  11  12\n",
       "0  0.02 -0.31  0.94  255  255  1  1  1  1020  0   0   0   0\n",
       "1  0.01 -0.30  0.94  255  255  1  1  1  1020  0   0   0   0\n",
       "2 -0.13 -0.39  0.85  255  255  1  1  1  1020  0   0   0   0\n",
       "3  0.13 -0.45  0.86  255  255  1  1  1  1020  0   0   0   0\n",
       "4  0.07 -0.47  0.87  255  255  1  1  1  1019  0   0   0   0\n",
       "5  0.07 -0.46  0.87  255  255  1  1  1  1019  0   0   0   0\n",
       "6  0.09 -0.46  0.88  255  255  1  1  1  1020  0   0   0   0\n",
       "7  0.07 -0.46  0.87  255  255  1  1  1  1019  0   0   0   0\n",
       "8  0.08 -0.46  0.87  255  255  1  1  1  1020  0   0   0   0\n",
       "9  0.07 -0.45  0.87  255  255  1  1  1  1021  0   0   0   0"
      ]
     },
     "execution_count": 143,
     "metadata": {},
     "output_type": "execute_result"
    }
   ],
   "source": [
    "combined_csv[0:10]"
   ]
  },
  {
   "cell_type": "code",
   "execution_count": 144,
   "metadata": {},
   "outputs": [
    {
     "name": "stdout",
     "output_type": "stream",
     "text": [
      "(14000, 13)\n"
     ]
    }
   ],
   "source": [
    "X_numpy = combined_csv.values\n",
    "print(X_numpy.shape)"
   ]
  },
  {
   "cell_type": "code",
   "execution_count": 145,
   "metadata": {},
   "outputs": [
    {
     "name": "stdout",
     "output_type": "stream",
     "text": [
      "[1.000e+00 1.000e+00 1.000e+00 2.550e+02 2.550e+02 2.550e+02 2.550e+02\n",
      " 2.550e+02 1.023e+03 1.000e+00 1.000e+00 1.000e+00 1.000e+00]\n",
      "(14000, 13)\n"
     ]
    }
   ],
   "source": [
    "norm_array = np.array([1, 1, 1, 255.0, 255.0, 255.0, 255.0, 255.0, 1023.0, 1, 1, 1, 1])\n",
    "print(norm_array)\n",
    "\n",
    "normalized_X = X_numpy / norm_array[None, :]\n",
    "print(normalized_X.shape)"
   ]
  },
  {
   "cell_type": "code",
   "execution_count": 146,
   "metadata": {},
   "outputs": [
    {
     "data": {
      "text/plain": [
       "array([ 0.02      , -0.31      ,  0.94      ,  1.        ,  1.        ,\n",
       "        0.00392157,  0.00392157,  0.00392157,  0.99706745,  0.        ,\n",
       "        0.        ,  0.        ,  0.        ])"
      ]
     },
     "execution_count": 146,
     "metadata": {},
     "output_type": "execute_result"
    }
   ],
   "source": [
    "normalized_X[0]"
   ]
  },
  {
   "cell_type": "code",
   "execution_count": 147,
   "metadata": {},
   "outputs": [],
   "source": [
    "combined_csv_labels = pd.read_csv(os.path.join(execution_path, \"combined_signs_labels.csv\"))"
   ]
  },
  {
   "cell_type": "code",
   "execution_count": 148,
   "metadata": {},
   "outputs": [
    {
     "data": {
      "text/html": [
       "<div>\n",
       "<style scoped>\n",
       "    .dataframe tbody tr th:only-of-type {\n",
       "        vertical-align: middle;\n",
       "    }\n",
       "\n",
       "    .dataframe tbody tr th {\n",
       "        vertical-align: top;\n",
       "    }\n",
       "\n",
       "    .dataframe thead th {\n",
       "        text-align: right;\n",
       "    }\n",
       "</style>\n",
       "<table border=\"1\" class=\"dataframe\">\n",
       "  <thead>\n",
       "    <tr style=\"text-align: right;\">\n",
       "      <th></th>\n",
       "      <th>0</th>\n",
       "    </tr>\n",
       "  </thead>\n",
       "  <tbody>\n",
       "    <tr>\n",
       "      <th>0</th>\n",
       "      <td>22</td>\n",
       "    </tr>\n",
       "    <tr>\n",
       "      <th>1</th>\n",
       "      <td>22</td>\n",
       "    </tr>\n",
       "    <tr>\n",
       "      <th>2</th>\n",
       "      <td>22</td>\n",
       "    </tr>\n",
       "    <tr>\n",
       "      <th>3</th>\n",
       "      <td>22</td>\n",
       "    </tr>\n",
       "    <tr>\n",
       "      <th>4</th>\n",
       "      <td>22</td>\n",
       "    </tr>\n",
       "    <tr>\n",
       "      <th>5</th>\n",
       "      <td>22</td>\n",
       "    </tr>\n",
       "    <tr>\n",
       "      <th>6</th>\n",
       "      <td>22</td>\n",
       "    </tr>\n",
       "    <tr>\n",
       "      <th>7</th>\n",
       "      <td>22</td>\n",
       "    </tr>\n",
       "    <tr>\n",
       "      <th>8</th>\n",
       "      <td>22</td>\n",
       "    </tr>\n",
       "    <tr>\n",
       "      <th>9</th>\n",
       "      <td>22</td>\n",
       "    </tr>\n",
       "  </tbody>\n",
       "</table>\n",
       "</div>"
      ],
      "text/plain": [
       "    0\n",
       "0  22\n",
       "1  22\n",
       "2  22\n",
       "3  22\n",
       "4  22\n",
       "5  22\n",
       "6  22\n",
       "7  22\n",
       "8  22\n",
       "9  22"
      ]
     },
     "execution_count": 148,
     "metadata": {},
     "output_type": "execute_result"
    }
   ],
   "source": [
    "combined_csv_labels[0:10]"
   ]
  },
  {
   "cell_type": "code",
   "execution_count": 149,
   "metadata": {},
   "outputs": [
    {
     "name": "stdout",
     "output_type": "stream",
     "text": [
      "(14000, 1)\n",
      "(14000, 44)\n"
     ]
    }
   ],
   "source": [
    "Y_numpy = combined_csv_labels.values\n",
    "print(Y_numpy.shape)\n",
    "\n",
    "labels_one_hot = to_categorical(Y_numpy)\n",
    "print(labels_one_hot.shape)"
   ]
  },
  {
   "cell_type": "code",
   "execution_count": 150,
   "metadata": {},
   "outputs": [
    {
     "name": "stdout",
     "output_type": "stream",
     "text": [
      "(14000, 13)\n"
     ]
    }
   ],
   "source": [
    "final_dataset, final_labels = shuffle(normalized_X, labels_one_hot)\n",
    "\n",
    "print(final_dataset.shape)"
   ]
  },
  {
   "cell_type": "code",
   "execution_count": 151,
   "metadata": {},
   "outputs": [
    {
     "name": "stdout",
     "output_type": "stream",
     "text": [
      "(12740, 13)\n",
      "(12740, 44)\n",
      "(1260, 13)\n",
      "(1260, 44)\n"
     ]
    }
   ],
   "source": [
    "X_train, X_val, y_train, y_val = train_test_split(final_dataset, final_labels, test_size=0.09, random_state=1)\n",
    "\n",
    "print(X_train.shape)\n",
    "print(y_train.shape)\n",
    "\n",
    "print(X_val.shape)\n",
    "print(y_val.shape)"
   ]
  },
  {
   "cell_type": "code",
   "execution_count": 152,
   "metadata": {},
   "outputs": [
    {
     "name": "stdout",
     "output_type": "stream",
     "text": [
      "13\n"
     ]
    }
   ],
   "source": [
    "input_shape = X_train.shape[1]\n",
    "\n",
    "print(input_shape)"
   ]
  },
  {
   "cell_type": "code",
   "execution_count": 153,
   "metadata": {},
   "outputs": [],
   "source": [
    "model1 = Sequential()\n",
    "\n",
    "model1.add(Dense(input_shape = (13,), units = 44, activation = 'softmax'))\n",
    "\n",
    "#model.add(Dense(units = 8, activation = 'sigmoid'))\n",
    "\n",
    "model1.compile(optimizer = 'adam', loss = 'categorical_crossentropy', metrics = ['accuracy'])"
   ]
  },
  {
   "cell_type": "code",
   "execution_count": 154,
   "metadata": {},
   "outputs": [
    {
     "name": "stdout",
     "output_type": "stream",
     "text": [
      "Model: \"sequential_5\"\n",
      "_________________________________________________________________\n",
      "Layer (type)                 Output Shape              Param #   \n",
      "=================================================================\n",
      "dense_5 (Dense)              (None, 44)                616       \n",
      "=================================================================\n",
      "Total params: 616\n",
      "Trainable params: 616\n",
      "Non-trainable params: 0\n",
      "_________________________________________________________________\n"
     ]
    }
   ],
   "source": [
    "model1.summary()"
   ]
  },
  {
   "cell_type": "code",
   "execution_count": 155,
   "metadata": {},
   "outputs": [
    {
     "name": "stdout",
     "output_type": "stream",
     "text": [
      "Train on 12740 samples, validate on 1260 samples\n",
      "Epoch 1/40\n",
      "12740/12740 [==============================] - 1s 51us/step - loss: 3.5125 - acc: 0.1003 - val_loss: 3.1858 - val_acc: 0.1905\n",
      "Epoch 2/40\n",
      "12740/12740 [==============================] - 0s 23us/step - loss: 2.9656 - acc: 0.3170 - val_loss: 2.7809 - val_acc: 0.4444\n",
      "Epoch 3/40\n",
      "12740/12740 [==============================] - 0s 23us/step - loss: 2.6211 - acc: 0.5122 - val_loss: 2.4941 - val_acc: 0.5810\n",
      "Epoch 4/40\n",
      "12740/12740 [==============================] - 0s 30us/step - loss: 2.3632 - acc: 0.5875 - val_loss: 2.2703 - val_acc: 0.6214\n",
      "Epoch 5/40\n",
      "12740/12740 [==============================] - 0s 33us/step - loss: 2.1575 - acc: 0.6259 - val_loss: 2.0869 - val_acc: 0.6373\n",
      "Epoch 6/40\n",
      "12740/12740 [==============================] - 0s 29us/step - loss: 1.9898 - acc: 0.6462 - val_loss: 1.9367 - val_acc: 0.6444\n",
      "Epoch 7/40\n",
      "12740/12740 [==============================] - 0s 28us/step - loss: 1.8510 - acc: 0.6525 - val_loss: 1.8114 - val_acc: 0.6508\n",
      "Epoch 8/40\n",
      "12740/12740 [==============================] - 0s 31us/step - loss: 1.7347 - acc: 0.6532 - val_loss: 1.7044 - val_acc: 0.6643\n",
      "Epoch 9/40\n",
      "12740/12740 [==============================] - 0s 32us/step - loss: 1.6363 - acc: 0.6750 - val_loss: 1.6148 - val_acc: 0.6651\n",
      "Epoch 10/40\n",
      "12740/12740 [==============================] - 0s 39us/step - loss: 1.5522 - acc: 0.6803 - val_loss: 1.5374 - val_acc: 0.6683\n",
      "Epoch 11/40\n",
      "12740/12740 [==============================] - 1s 54us/step - loss: 1.4805 - acc: 0.6817 - val_loss: 1.4708 - val_acc: 0.6786\n",
      "Epoch 12/40\n",
      "12740/12740 [==============================] - 1s 42us/step - loss: 1.4178 - acc: 0.6918 - val_loss: 1.4122 - val_acc: 0.6762\n",
      "Epoch 13/40\n",
      "12740/12740 [==============================] - 1s 43us/step - loss: 1.3633 - acc: 0.6943 - val_loss: 1.3608 - val_acc: 0.6762\n",
      "Epoch 14/40\n",
      "12740/12740 [==============================] - 1s 44us/step - loss: 1.3153 - acc: 0.6904 - val_loss: 1.3152 - val_acc: 0.6817\n",
      "Epoch 15/40\n",
      "12740/12740 [==============================] - 1s 43us/step - loss: 1.2727 - acc: 0.7040 - val_loss: 1.2752 - val_acc: 0.6841\n",
      "Epoch 16/40\n",
      "12740/12740 [==============================] - 1s 42us/step - loss: 1.2349 - acc: 0.7008 - val_loss: 1.2400 - val_acc: 0.6929\n",
      "Epoch 17/40\n",
      "12740/12740 [==============================] - 1s 42us/step - loss: 1.2009 - acc: 0.6997 - val_loss: 1.2071 - val_acc: 0.6937\n",
      "Epoch 18/40\n",
      "12740/12740 [==============================] - 1s 42us/step - loss: 1.1706 - acc: 0.7050 - val_loss: 1.1772 - val_acc: 0.6968\n",
      "Epoch 19/40\n",
      "12740/12740 [==============================] - 1s 44us/step - loss: 1.1433 - acc: 0.7143 - val_loss: 1.1529 - val_acc: 0.6968\n",
      "Epoch 20/40\n",
      "12740/12740 [==============================] - 1s 46us/step - loss: 1.1183 - acc: 0.7119 - val_loss: 1.1283 - val_acc: 0.7008\n",
      "Epoch 21/40\n",
      "12740/12740 [==============================] - 1s 43us/step - loss: 1.0959 - acc: 0.7133 - val_loss: 1.1072 - val_acc: 0.7040\n",
      "Epoch 22/40\n",
      "12740/12740 [==============================] - 1s 44us/step - loss: 1.0751 - acc: 0.7168 - val_loss: 1.0860 - val_acc: 0.7032\n",
      "Epoch 23/40\n",
      "12740/12740 [==============================] - 1s 44us/step - loss: 1.0564 - acc: 0.7209 - val_loss: 1.0693 - val_acc: 0.7056\n",
      "Epoch 24/40\n",
      "12740/12740 [==============================] - 1s 43us/step - loss: 1.0390 - acc: 0.7182 - val_loss: 1.0517 - val_acc: 0.7063\n",
      "Epoch 25/40\n",
      "12740/12740 [==============================] - 1s 44us/step - loss: 1.0231 - acc: 0.7175 - val_loss: 1.0365 - val_acc: 0.7087\n",
      "Epoch 26/40\n",
      "12740/12740 [==============================] - 1s 43us/step - loss: 1.0082 - acc: 0.7240 - val_loss: 1.0213 - val_acc: 0.7087\n",
      "Epoch 27/40\n",
      "12740/12740 [==============================] - 1s 44us/step - loss: 0.9947 - acc: 0.7211 - val_loss: 1.0082 - val_acc: 0.7151\n",
      "Epoch 28/40\n",
      "12740/12740 [==============================] - 1s 44us/step - loss: 0.9820 - acc: 0.7259 - val_loss: 0.9976 - val_acc: 0.7151\n",
      "Epoch 29/40\n",
      "12740/12740 [==============================] - 1s 44us/step - loss: 0.9702 - acc: 0.7284 - val_loss: 0.9853 - val_acc: 0.7198\n",
      "Epoch 30/40\n",
      "12740/12740 [==============================] - 1s 44us/step - loss: 0.9593 - acc: 0.7319 - val_loss: 0.9741 - val_acc: 0.7230\n",
      "Epoch 31/40\n",
      "12740/12740 [==============================] - 1s 44us/step - loss: 0.9490 - acc: 0.7305 - val_loss: 0.9639 - val_acc: 0.7246\n",
      "Epoch 32/40\n",
      "12740/12740 [==============================] - 1s 44us/step - loss: 0.9395 - acc: 0.7320 - val_loss: 0.9548 - val_acc: 0.7262\n",
      "Epoch 33/40\n",
      "12740/12740 [==============================] - 1s 44us/step - loss: 0.9303 - acc: 0.7331 - val_loss: 0.9463 - val_acc: 0.7294\n",
      "Epoch 34/40\n",
      "12740/12740 [==============================] - 1s 45us/step - loss: 0.9221 - acc: 0.7360 - val_loss: 0.9378 - val_acc: 0.7325\n",
      "Epoch 35/40\n",
      "12740/12740 [==============================] - 1s 45us/step - loss: 0.9141 - acc: 0.7376 - val_loss: 0.9301 - val_acc: 0.7325\n",
      "Epoch 36/40\n",
      "12740/12740 [==============================] - 1s 43us/step - loss: 0.9067 - acc: 0.7354 - val_loss: 0.9234 - val_acc: 0.7373\n",
      "Epoch 37/40\n",
      "12740/12740 [==============================] - 1s 42us/step - loss: 0.8997 - acc: 0.7392 - val_loss: 0.9160 - val_acc: 0.7373\n",
      "Epoch 38/40\n",
      "12740/12740 [==============================] - 1s 42us/step - loss: 0.8929 - acc: 0.7392 - val_loss: 0.9102 - val_acc: 0.7317\n",
      "Epoch 39/40\n",
      "12740/12740 [==============================] - 1s 44us/step - loss: 0.8867 - acc: 0.7410 - val_loss: 0.9029 - val_acc: 0.7397\n",
      "Epoch 40/40\n",
      "12740/12740 [==============================] - 1s 43us/step - loss: 0.8808 - acc: 0.7421 - val_loss: 0.8968 - val_acc: 0.7373\n"
     ]
    },
    {
     "data": {
      "text/plain": [
       "<keras.callbacks.History at 0x7fa5bef399e8>"
      ]
     },
     "execution_count": 155,
     "metadata": {},
     "output_type": "execute_result"
    }
   ],
   "source": [
    "model1.fit(X_train, y_train, validation_data = (X_val, y_val), epochs = 40, batch_size = 64)"
   ]
  },
  {
   "cell_type": "code",
   "execution_count": 156,
   "metadata": {},
   "outputs": [
    {
     "name": "stdout",
     "output_type": "stream",
     "text": [
      "Train on 12740 samples, validate on 1260 samples\n",
      "Epoch 1/40\n",
      "12740/12740 [==============================] - 1s 45us/step - loss: 0.8752 - acc: 0.7406 - val_loss: 0.8918 - val_acc: 0.7429\n",
      "Epoch 2/40\n",
      "12740/12740 [==============================] - 1s 42us/step - loss: 0.8697 - acc: 0.7438 - val_loss: 0.8869 - val_acc: 0.7349\n",
      "Epoch 3/40\n",
      "12740/12740 [==============================] - 1s 44us/step - loss: 0.8647 - acc: 0.7435 - val_loss: 0.8820 - val_acc: 0.7381\n",
      "Epoch 4/40\n",
      "12740/12740 [==============================] - 1s 45us/step - loss: 0.8599 - acc: 0.7425 - val_loss: 0.8778 - val_acc: 0.7389\n",
      "Epoch 5/40\n",
      "12740/12740 [==============================] - 1s 43us/step - loss: 0.8554 - acc: 0.7440 - val_loss: 0.8738 - val_acc: 0.7437\n",
      "Epoch 6/40\n",
      "12740/12740 [==============================] - 1s 42us/step - loss: 0.8508 - acc: 0.7469 - val_loss: 0.8700 - val_acc: 0.7429\n",
      "Epoch 7/40\n",
      "12740/12740 [==============================] - 1s 42us/step - loss: 0.8467 - acc: 0.7484 - val_loss: 0.8656 - val_acc: 0.7429\n",
      "Epoch 8/40\n",
      "12740/12740 [==============================] - 1s 44us/step - loss: 0.8427 - acc: 0.7473 - val_loss: 0.8609 - val_acc: 0.7429\n",
      "Epoch 9/40\n",
      "12740/12740 [==============================] - 1s 43us/step - loss: 0.8390 - acc: 0.7482 - val_loss: 0.8572 - val_acc: 0.7397\n",
      "Epoch 10/40\n",
      "12740/12740 [==============================] - 1s 43us/step - loss: 0.8352 - acc: 0.7484 - val_loss: 0.8537 - val_acc: 0.7484\n",
      "Epoch 11/40\n",
      "12740/12740 [==============================] - 1s 42us/step - loss: 0.8318 - acc: 0.7504 - val_loss: 0.8506 - val_acc: 0.7460\n",
      "Epoch 12/40\n",
      "12740/12740 [==============================] - 1s 45us/step - loss: 0.8286 - acc: 0.7497 - val_loss: 0.8469 - val_acc: 0.7452\n",
      "Epoch 13/40\n",
      "12740/12740 [==============================] - 1s 43us/step - loss: 0.8252 - acc: 0.7496 - val_loss: 0.8452 - val_acc: 0.7476\n",
      "Epoch 14/40\n",
      "12740/12740 [==============================] - 1s 44us/step - loss: 0.8221 - acc: 0.7525 - val_loss: 0.8421 - val_acc: 0.7460\n",
      "Epoch 15/40\n",
      "12740/12740 [==============================] - 1s 44us/step - loss: 0.8192 - acc: 0.7482 - val_loss: 0.8389 - val_acc: 0.7476\n",
      "Epoch 16/40\n",
      "12740/12740 [==============================] - 1s 44us/step - loss: 0.8164 - acc: 0.7546 - val_loss: 0.8368 - val_acc: 0.7452\n",
      "Epoch 17/40\n",
      "12740/12740 [==============================] - 1s 44us/step - loss: 0.8136 - acc: 0.7528 - val_loss: 0.8339 - val_acc: 0.7492\n",
      "Epoch 18/40\n",
      "12740/12740 [==============================] - 1s 42us/step - loss: 0.8110 - acc: 0.7518 - val_loss: 0.8321 - val_acc: 0.7516\n",
      "Epoch 19/40\n",
      "12740/12740 [==============================] - 1s 43us/step - loss: 0.8086 - acc: 0.7540 - val_loss: 0.8296 - val_acc: 0.7508\n",
      "Epoch 20/40\n",
      "12740/12740 [==============================] - 1s 44us/step - loss: 0.8061 - acc: 0.7536 - val_loss: 0.8272 - val_acc: 0.7508\n",
      "Epoch 21/40\n",
      "12740/12740 [==============================] - 1s 46us/step - loss: 0.8038 - acc: 0.7518 - val_loss: 0.8248 - val_acc: 0.7500\n",
      "Epoch 22/40\n",
      "12740/12740 [==============================] - 1s 44us/step - loss: 0.8014 - acc: 0.7542 - val_loss: 0.8225 - val_acc: 0.7508\n",
      "Epoch 23/40\n",
      "12740/12740 [==============================] - 1s 44us/step - loss: 0.7992 - acc: 0.7544 - val_loss: 0.8214 - val_acc: 0.7508\n",
      "Epoch 24/40\n",
      "12740/12740 [==============================] - 1s 45us/step - loss: 0.7971 - acc: 0.7542 - val_loss: 0.8196 - val_acc: 0.7508\n",
      "Epoch 25/40\n",
      "12740/12740 [==============================] - 1s 44us/step - loss: 0.7950 - acc: 0.7558 - val_loss: 0.8178 - val_acc: 0.7516\n",
      "Epoch 26/40\n",
      "12740/12740 [==============================] - 1s 44us/step - loss: 0.7932 - acc: 0.7552 - val_loss: 0.8158 - val_acc: 0.7508\n",
      "Epoch 27/40\n",
      "12740/12740 [==============================] - 1s 45us/step - loss: 0.7911 - acc: 0.7564 - val_loss: 0.8151 - val_acc: 0.7524\n",
      "Epoch 28/40\n",
      "12740/12740 [==============================] - 1s 44us/step - loss: 0.7894 - acc: 0.7550 - val_loss: 0.8124 - val_acc: 0.7532\n",
      "Epoch 29/40\n",
      "12740/12740 [==============================] - 1s 44us/step - loss: 0.7875 - acc: 0.7574 - val_loss: 0.8107 - val_acc: 0.7500\n",
      "Epoch 30/40\n",
      "12740/12740 [==============================] - 1s 45us/step - loss: 0.7856 - acc: 0.7571 - val_loss: 0.8090 - val_acc: 0.7524\n",
      "Epoch 31/40\n",
      "12740/12740 [==============================] - 1s 44us/step - loss: 0.7840 - acc: 0.7567 - val_loss: 0.8065 - val_acc: 0.7524\n",
      "Epoch 32/40\n",
      "12740/12740 [==============================] - 1s 44us/step - loss: 0.7825 - acc: 0.7571 - val_loss: 0.8050 - val_acc: 0.7524\n",
      "Epoch 33/40\n",
      "12740/12740 [==============================] - 1s 44us/step - loss: 0.7807 - acc: 0.7575 - val_loss: 0.8053 - val_acc: 0.7516\n",
      "Epoch 34/40\n",
      "12740/12740 [==============================] - 1s 44us/step - loss: 0.7792 - acc: 0.7574 - val_loss: 0.8033 - val_acc: 0.7516\n",
      "Epoch 35/40\n",
      "12740/12740 [==============================] - 1s 44us/step - loss: 0.7777 - acc: 0.7584 - val_loss: 0.8015 - val_acc: 0.7524\n",
      "Epoch 36/40\n",
      "12740/12740 [==============================] - 1s 45us/step - loss: 0.7762 - acc: 0.7596 - val_loss: 0.8005 - val_acc: 0.7563\n",
      "Epoch 37/40\n",
      "12740/12740 [==============================] - 1s 42us/step - loss: 0.7749 - acc: 0.7582 - val_loss: 0.7991 - val_acc: 0.7532\n",
      "Epoch 38/40\n",
      "12740/12740 [==============================] - 1s 43us/step - loss: 0.7736 - acc: 0.7570 - val_loss: 0.7983 - val_acc: 0.7524\n",
      "Epoch 39/40\n",
      "12740/12740 [==============================] - 1s 44us/step - loss: 0.7720 - acc: 0.7604 - val_loss: 0.7965 - val_acc: 0.7516\n",
      "Epoch 40/40\n",
      "12740/12740 [==============================] - 1s 45us/step - loss: 0.7707 - acc: 0.7591 - val_loss: 0.7952 - val_acc: 0.7540\n"
     ]
    },
    {
     "data": {
      "text/plain": [
       "<keras.callbacks.History at 0x7fa5bee4fbe0>"
      ]
     },
     "execution_count": 156,
     "metadata": {},
     "output_type": "execute_result"
    }
   ],
   "source": [
    "model1.fit(X_train, y_train, validation_data = (X_val, y_val), epochs = 40, batch_size = 64)"
   ]
  },
  {
   "cell_type": "code",
   "execution_count": 157,
   "metadata": {},
   "outputs": [
    {
     "name": "stdout",
     "output_type": "stream",
     "text": [
      "Train on 12740 samples, validate on 1260 samples\n",
      "Epoch 1/40\n",
      "12740/12740 [==============================] - 1s 44us/step - loss: 0.7694 - acc: 0.7601 - val_loss: 0.7943 - val_acc: 0.7516\n",
      "Epoch 2/40\n",
      "12740/12740 [==============================] - 1s 44us/step - loss: 0.7682 - acc: 0.7582 - val_loss: 0.7939 - val_acc: 0.7532\n",
      "Epoch 3/40\n",
      "12740/12740 [==============================] - 1s 45us/step - loss: 0.7669 - acc: 0.7622 - val_loss: 0.7933 - val_acc: 0.7548\n",
      "Epoch 4/40\n",
      "12740/12740 [==============================] - 1s 44us/step - loss: 0.7656 - acc: 0.7616 - val_loss: 0.7916 - val_acc: 0.7540\n",
      "Epoch 5/40\n",
      "12740/12740 [==============================] - 1s 44us/step - loss: 0.7646 - acc: 0.7603 - val_loss: 0.7910 - val_acc: 0.7532\n",
      "Epoch 6/40\n",
      "12740/12740 [==============================] - 1s 44us/step - loss: 0.7634 - acc: 0.7593 - val_loss: 0.7891 - val_acc: 0.7563\n",
      "Epoch 7/40\n",
      "12740/12740 [==============================] - 1s 49us/step - loss: 0.7623 - acc: 0.7609 - val_loss: 0.7888 - val_acc: 0.7548\n",
      "Epoch 8/40\n",
      "12740/12740 [==============================] - 1s 44us/step - loss: 0.7613 - acc: 0.7633 - val_loss: 0.7875 - val_acc: 0.7563\n",
      "Epoch 9/40\n",
      "12740/12740 [==============================] - 0s 37us/step - loss: 0.7601 - acc: 0.7612 - val_loss: 0.7875 - val_acc: 0.7587\n",
      "Epoch 10/40\n",
      "12740/12740 [==============================] - 1s 45us/step - loss: 0.7592 - acc: 0.7618 - val_loss: 0.7861 - val_acc: 0.7587\n",
      "Epoch 11/40\n",
      "12740/12740 [==============================] - 1s 45us/step - loss: 0.7582 - acc: 0.7631 - val_loss: 0.7857 - val_acc: 0.7587\n",
      "Epoch 12/40\n",
      "12740/12740 [==============================] - 1s 44us/step - loss: 0.7572 - acc: 0.7637 - val_loss: 0.7853 - val_acc: 0.7563\n",
      "Epoch 13/40\n",
      "12740/12740 [==============================] - 1s 44us/step - loss: 0.7561 - acc: 0.7610 - val_loss: 0.7842 - val_acc: 0.7587\n",
      "Epoch 14/40\n",
      "12740/12740 [==============================] - 1s 45us/step - loss: 0.7553 - acc: 0.7633 - val_loss: 0.7833 - val_acc: 0.7587\n",
      "Epoch 15/40\n",
      "12740/12740 [==============================] - 1s 43us/step - loss: 0.7543 - acc: 0.7626 - val_loss: 0.7832 - val_acc: 0.7595\n",
      "Epoch 16/40\n",
      "12740/12740 [==============================] - 1s 44us/step - loss: 0.7535 - acc: 0.7614 - val_loss: 0.7819 - val_acc: 0.7587\n",
      "Epoch 17/40\n",
      "12740/12740 [==============================] - 1s 45us/step - loss: 0.7526 - acc: 0.7619 - val_loss: 0.7815 - val_acc: 0.7611\n",
      "Epoch 18/40\n",
      "12740/12740 [==============================] - 1s 44us/step - loss: 0.7517 - acc: 0.7653 - val_loss: 0.7797 - val_acc: 0.7619\n",
      "Epoch 19/40\n",
      "12740/12740 [==============================] - 1s 44us/step - loss: 0.7507 - acc: 0.7645 - val_loss: 0.7795 - val_acc: 0.7603\n",
      "Epoch 20/40\n",
      "12740/12740 [==============================] - 1s 42us/step - loss: 0.7500 - acc: 0.7626 - val_loss: 0.7784 - val_acc: 0.7595\n",
      "Epoch 21/40\n",
      "12740/12740 [==============================] - 1s 43us/step - loss: 0.7491 - acc: 0.7645 - val_loss: 0.7781 - val_acc: 0.7603\n",
      "Epoch 22/40\n",
      "12740/12740 [==============================] - 1s 42us/step - loss: 0.7483 - acc: 0.7645 - val_loss: 0.7769 - val_acc: 0.7627\n",
      "Epoch 23/40\n",
      "12740/12740 [==============================] - 1s 43us/step - loss: 0.7475 - acc: 0.7673 - val_loss: 0.7765 - val_acc: 0.7627\n",
      "Epoch 24/40\n",
      "12740/12740 [==============================] - 1s 42us/step - loss: 0.7467 - acc: 0.7652 - val_loss: 0.7764 - val_acc: 0.7627\n",
      "Epoch 25/40\n",
      "12740/12740 [==============================] - 1s 43us/step - loss: 0.7457 - acc: 0.7666 - val_loss: 0.7765 - val_acc: 0.7603\n",
      "Epoch 26/40\n",
      "12740/12740 [==============================] - 1s 42us/step - loss: 0.7450 - acc: 0.7667 - val_loss: 0.7751 - val_acc: 0.7611\n",
      "Epoch 27/40\n",
      "12740/12740 [==============================] - 1s 44us/step - loss: 0.7445 - acc: 0.7647 - val_loss: 0.7744 - val_acc: 0.7627\n",
      "Epoch 28/40\n",
      "12740/12740 [==============================] - 1s 44us/step - loss: 0.7437 - acc: 0.7666 - val_loss: 0.7735 - val_acc: 0.7643\n",
      "Epoch 29/40\n",
      "12740/12740 [==============================] - 1s 44us/step - loss: 0.7428 - acc: 0.7673 - val_loss: 0.7735 - val_acc: 0.7603\n",
      "Epoch 30/40\n",
      "12740/12740 [==============================] - 1s 43us/step - loss: 0.7421 - acc: 0.7655 - val_loss: 0.7720 - val_acc: 0.7619\n",
      "Epoch 31/40\n",
      "12740/12740 [==============================] - 1s 44us/step - loss: 0.7415 - acc: 0.7661 - val_loss: 0.7724 - val_acc: 0.7635\n",
      "Epoch 32/40\n",
      "12740/12740 [==============================] - 1s 44us/step - loss: 0.7408 - acc: 0.7680 - val_loss: 0.7712 - val_acc: 0.7651\n",
      "Epoch 33/40\n",
      "12740/12740 [==============================] - 1s 44us/step - loss: 0.7403 - acc: 0.7676 - val_loss: 0.7710 - val_acc: 0.7627\n",
      "Epoch 34/40\n",
      "12740/12740 [==============================] - 1s 44us/step - loss: 0.7395 - acc: 0.7681 - val_loss: 0.7709 - val_acc: 0.7651\n",
      "Epoch 35/40\n",
      "12740/12740 [==============================] - 1s 45us/step - loss: 0.7390 - acc: 0.7683 - val_loss: 0.7705 - val_acc: 0.7619\n",
      "Epoch 36/40\n",
      "12740/12740 [==============================] - 1s 45us/step - loss: 0.7384 - acc: 0.7660 - val_loss: 0.7698 - val_acc: 0.7651\n",
      "Epoch 37/40\n",
      "12740/12740 [==============================] - 1s 42us/step - loss: 0.7377 - acc: 0.7674 - val_loss: 0.7699 - val_acc: 0.7667\n",
      "Epoch 38/40\n",
      "12740/12740 [==============================] - 1s 42us/step - loss: 0.7371 - acc: 0.7688 - val_loss: 0.7696 - val_acc: 0.7667\n",
      "Epoch 39/40\n",
      "12740/12740 [==============================] - 1s 44us/step - loss: 0.7365 - acc: 0.7693 - val_loss: 0.7692 - val_acc: 0.7651\n",
      "Epoch 40/40\n",
      "12740/12740 [==============================] - 1s 42us/step - loss: 0.7359 - acc: 0.7673 - val_loss: 0.7680 - val_acc: 0.7651\n"
     ]
    },
    {
     "data": {
      "text/plain": [
       "<keras.callbacks.History at 0x7fa5beebd550>"
      ]
     },
     "execution_count": 157,
     "metadata": {},
     "output_type": "execute_result"
    }
   ],
   "source": [
    "model1.fit(X_train, y_train, validation_data = (X_val, y_val), epochs = 40, batch_size = 64)"
   ]
  },
  {
   "cell_type": "code",
   "execution_count": 158,
   "metadata": {},
   "outputs": [
    {
     "name": "stdout",
     "output_type": "stream",
     "text": [
      "Train on 12740 samples, validate on 1260 samples\n",
      "Epoch 1/40\n",
      "12740/12740 [==============================] - 1s 45us/step - loss: 0.7352 - acc: 0.7689 - val_loss: 0.7683 - val_acc: 0.7667\n",
      "Epoch 2/40\n",
      "12740/12740 [==============================] - 1s 42us/step - loss: 0.7347 - acc: 0.7688 - val_loss: 0.7669 - val_acc: 0.7635\n",
      "Epoch 3/40\n",
      "12740/12740 [==============================] - 1s 43us/step - loss: 0.7342 - acc: 0.7691 - val_loss: 0.7668 - val_acc: 0.7651\n",
      "Epoch 4/40\n",
      "12740/12740 [==============================] - 1s 44us/step - loss: 0.7335 - acc: 0.7673 - val_loss: 0.7664 - val_acc: 0.7690\n",
      "Epoch 5/40\n",
      "12740/12740 [==============================] - 1s 44us/step - loss: 0.7330 - acc: 0.7675 - val_loss: 0.7657 - val_acc: 0.7690\n",
      "Epoch 6/40\n",
      "12740/12740 [==============================] - 1s 42us/step - loss: 0.7325 - acc: 0.7706 - val_loss: 0.7655 - val_acc: 0.7667\n",
      "Epoch 7/40\n",
      "12740/12740 [==============================] - 1s 42us/step - loss: 0.7319 - acc: 0.7694 - val_loss: 0.7653 - val_acc: 0.7667\n",
      "Epoch 8/40\n",
      "12740/12740 [==============================] - 1s 43us/step - loss: 0.7314 - acc: 0.7702 - val_loss: 0.7651 - val_acc: 0.7667\n",
      "Epoch 9/40\n",
      "12740/12740 [==============================] - 1s 45us/step - loss: 0.7308 - acc: 0.7710 - val_loss: 0.7649 - val_acc: 0.7690\n",
      "Epoch 10/40\n",
      "12740/12740 [==============================] - 1s 42us/step - loss: 0.7302 - acc: 0.7692 - val_loss: 0.7641 - val_acc: 0.7690\n",
      "Epoch 11/40\n",
      "12740/12740 [==============================] - 1s 42us/step - loss: 0.7298 - acc: 0.7701 - val_loss: 0.7635 - val_acc: 0.7706\n",
      "Epoch 12/40\n",
      "12740/12740 [==============================] - 1s 44us/step - loss: 0.7293 - acc: 0.7695 - val_loss: 0.7629 - val_acc: 0.7706\n",
      "Epoch 13/40\n",
      "12740/12740 [==============================] - 1s 43us/step - loss: 0.7287 - acc: 0.7706 - val_loss: 0.7624 - val_acc: 0.7690\n",
      "Epoch 14/40\n",
      "12740/12740 [==============================] - 1s 44us/step - loss: 0.7282 - acc: 0.7711 - val_loss: 0.7623 - val_acc: 0.7667\n",
      "Epoch 15/40\n",
      "12740/12740 [==============================] - 1s 44us/step - loss: 0.7277 - acc: 0.7689 - val_loss: 0.7620 - val_acc: 0.7714\n",
      "Epoch 16/40\n",
      "12740/12740 [==============================] - 1s 43us/step - loss: 0.7273 - acc: 0.7715 - val_loss: 0.7612 - val_acc: 0.7683\n",
      "Epoch 17/40\n",
      "12740/12740 [==============================] - 1s 44us/step - loss: 0.7267 - acc: 0.7690 - val_loss: 0.7620 - val_acc: 0.7698\n",
      "Epoch 18/40\n",
      "12740/12740 [==============================] - 1s 44us/step - loss: 0.7264 - acc: 0.7702 - val_loss: 0.7607 - val_acc: 0.7690\n",
      "Epoch 19/40\n",
      "12740/12740 [==============================] - 1s 44us/step - loss: 0.7258 - acc: 0.7708 - val_loss: 0.7609 - val_acc: 0.7690\n",
      "Epoch 20/40\n",
      "12740/12740 [==============================] - 1s 43us/step - loss: 0.7254 - acc: 0.7711 - val_loss: 0.7600 - val_acc: 0.7690\n",
      "Epoch 21/40\n",
      "12740/12740 [==============================] - 1s 44us/step - loss: 0.7249 - acc: 0.7700 - val_loss: 0.7603 - val_acc: 0.7722\n",
      "Epoch 22/40\n",
      "12740/12740 [==============================] - 1s 43us/step - loss: 0.7244 - acc: 0.7710 - val_loss: 0.7587 - val_acc: 0.7722\n",
      "Epoch 23/40\n",
      "12740/12740 [==============================] - 1s 45us/step - loss: 0.7240 - acc: 0.7716 - val_loss: 0.7593 - val_acc: 0.7730\n",
      "Epoch 24/40\n",
      "12740/12740 [==============================] - 1s 46us/step - loss: 0.7237 - acc: 0.7709 - val_loss: 0.7591 - val_acc: 0.7690\n",
      "Epoch 25/40\n",
      "12740/12740 [==============================] - 0s 24us/step - loss: 0.7232 - acc: 0.7712 - val_loss: 0.7592 - val_acc: 0.7659\n",
      "Epoch 26/40\n",
      "12740/12740 [==============================] - 1s 46us/step - loss: 0.7227 - acc: 0.7712 - val_loss: 0.7586 - val_acc: 0.7690\n",
      "Epoch 27/40\n",
      "12740/12740 [==============================] - 0s 33us/step - loss: 0.7223 - acc: 0.7710 - val_loss: 0.7582 - val_acc: 0.7690\n",
      "Epoch 28/40\n",
      "12740/12740 [==============================] - 1s 43us/step - loss: 0.7220 - acc: 0.7710 - val_loss: 0.7577 - val_acc: 0.7690\n",
      "Epoch 29/40\n",
      "12740/12740 [==============================] - 1s 44us/step - loss: 0.7215 - acc: 0.7705 - val_loss: 0.7572 - val_acc: 0.7722\n",
      "Epoch 30/40\n",
      "12740/12740 [==============================] - 1s 44us/step - loss: 0.7211 - acc: 0.7721 - val_loss: 0.7570 - val_acc: 0.7730\n",
      "Epoch 31/40\n",
      "12740/12740 [==============================] - 1s 44us/step - loss: 0.7206 - acc: 0.7716 - val_loss: 0.7567 - val_acc: 0.7722\n",
      "Epoch 32/40\n",
      "12740/12740 [==============================] - 1s 43us/step - loss: 0.7203 - acc: 0.7726 - val_loss: 0.7565 - val_acc: 0.7722\n",
      "Epoch 33/40\n",
      "12740/12740 [==============================] - 1s 44us/step - loss: 0.7199 - acc: 0.7727 - val_loss: 0.7561 - val_acc: 0.7683\n",
      "Epoch 34/40\n",
      "12740/12740 [==============================] - 1s 45us/step - loss: 0.7194 - acc: 0.7711 - val_loss: 0.7558 - val_acc: 0.7730\n",
      "Epoch 35/40\n",
      "12740/12740 [==============================] - 1s 42us/step - loss: 0.7191 - acc: 0.7724 - val_loss: 0.7557 - val_acc: 0.7738\n",
      "Epoch 36/40\n",
      "12740/12740 [==============================] - 1s 45us/step - loss: 0.7188 - acc: 0.7711 - val_loss: 0.7551 - val_acc: 0.7730\n",
      "Epoch 37/40\n",
      "12740/12740 [==============================] - 1s 43us/step - loss: 0.7183 - acc: 0.7719 - val_loss: 0.7555 - val_acc: 0.7730\n",
      "Epoch 38/40\n",
      "12740/12740 [==============================] - 1s 42us/step - loss: 0.7181 - acc: 0.7724 - val_loss: 0.7547 - val_acc: 0.7730\n",
      "Epoch 39/40\n",
      "12740/12740 [==============================] - 1s 43us/step - loss: 0.7178 - acc: 0.7731 - val_loss: 0.7543 - val_acc: 0.7698\n",
      "Epoch 40/40\n",
      "12740/12740 [==============================] - 1s 44us/step - loss: 0.7173 - acc: 0.7729 - val_loss: 0.7545 - val_acc: 0.7698\n"
     ]
    },
    {
     "data": {
      "text/plain": [
       "<keras.callbacks.History at 0x7fa5bee6c550>"
      ]
     },
     "execution_count": 158,
     "metadata": {},
     "output_type": "execute_result"
    }
   ],
   "source": [
    "model1.fit(X_train, y_train, validation_data = (X_val, y_val), epochs = 40, batch_size = 64)"
   ]
  },
  {
   "cell_type": "code",
   "execution_count": 159,
   "metadata": {},
   "outputs": [
    {
     "name": "stdout",
     "output_type": "stream",
     "text": [
      "Train on 12740 samples, validate on 1260 samples\n",
      "Epoch 1/40\n",
      "12740/12740 [==============================] - 1s 44us/step - loss: 0.7169 - acc: 0.7717 - val_loss: 0.7543 - val_acc: 0.7675\n",
      "Epoch 2/40\n",
      "12740/12740 [==============================] - 1s 44us/step - loss: 0.7167 - acc: 0.7717 - val_loss: 0.7545 - val_acc: 0.7714\n",
      "Epoch 3/40\n",
      "12740/12740 [==============================] - 1s 45us/step - loss: 0.7162 - acc: 0.7739 - val_loss: 0.7536 - val_acc: 0.7738\n",
      "Epoch 4/40\n",
      "12740/12740 [==============================] - 1s 42us/step - loss: 0.7158 - acc: 0.7740 - val_loss: 0.7538 - val_acc: 0.7706\n",
      "Epoch 5/40\n",
      "12740/12740 [==============================] - 1s 44us/step - loss: 0.7154 - acc: 0.7710 - val_loss: 0.7532 - val_acc: 0.7730\n",
      "Epoch 6/40\n",
      "12740/12740 [==============================] - 1s 44us/step - loss: 0.7152 - acc: 0.7737 - val_loss: 0.7527 - val_acc: 0.7714\n",
      "Epoch 7/40\n",
      "12740/12740 [==============================] - 1s 43us/step - loss: 0.7148 - acc: 0.7737 - val_loss: 0.7522 - val_acc: 0.7698\n",
      "Epoch 8/40\n",
      "12740/12740 [==============================] - 1s 43us/step - loss: 0.7143 - acc: 0.7739 - val_loss: 0.7523 - val_acc: 0.7706\n",
      "Epoch 9/40\n",
      "12740/12740 [==============================] - 1s 44us/step - loss: 0.7142 - acc: 0.7724 - val_loss: 0.7518 - val_acc: 0.7722\n",
      "Epoch 10/40\n",
      "12740/12740 [==============================] - 1s 42us/step - loss: 0.7140 - acc: 0.7724 - val_loss: 0.7519 - val_acc: 0.7698\n",
      "Epoch 11/40\n",
      "12740/12740 [==============================] - 1s 43us/step - loss: 0.7136 - acc: 0.7729 - val_loss: 0.7516 - val_acc: 0.7690\n",
      "Epoch 12/40\n",
      "12740/12740 [==============================] - 1s 44us/step - loss: 0.7132 - acc: 0.7743 - val_loss: 0.7511 - val_acc: 0.7683\n",
      "Epoch 13/40\n",
      "12740/12740 [==============================] - 1s 44us/step - loss: 0.7130 - acc: 0.7735 - val_loss: 0.7502 - val_acc: 0.7714\n",
      "Epoch 14/40\n",
      "12740/12740 [==============================] - 1s 45us/step - loss: 0.7126 - acc: 0.7744 - val_loss: 0.7502 - val_acc: 0.7690\n",
      "Epoch 15/40\n",
      "12740/12740 [==============================] - 1s 45us/step - loss: 0.7122 - acc: 0.7757 - val_loss: 0.7502 - val_acc: 0.7698\n",
      "Epoch 16/40\n",
      "12740/12740 [==============================] - 1s 44us/step - loss: 0.7120 - acc: 0.7734 - val_loss: 0.7500 - val_acc: 0.7690\n",
      "Epoch 17/40\n",
      "12740/12740 [==============================] - 1s 44us/step - loss: 0.7117 - acc: 0.7744 - val_loss: 0.7508 - val_acc: 0.7690\n",
      "Epoch 18/40\n",
      "12740/12740 [==============================] - 1s 45us/step - loss: 0.7114 - acc: 0.7724 - val_loss: 0.7501 - val_acc: 0.7738\n",
      "Epoch 19/40\n",
      "12740/12740 [==============================] - 1s 43us/step - loss: 0.7110 - acc: 0.7743 - val_loss: 0.7497 - val_acc: 0.7730\n",
      "Epoch 20/40\n",
      "12740/12740 [==============================] - 1s 42us/step - loss: 0.7107 - acc: 0.7754 - val_loss: 0.7492 - val_acc: 0.7706\n",
      "Epoch 21/40\n",
      "12740/12740 [==============================] - 1s 45us/step - loss: 0.7107 - acc: 0.7750 - val_loss: 0.7494 - val_acc: 0.7722\n",
      "Epoch 22/40\n",
      "12740/12740 [==============================] - 1s 44us/step - loss: 0.7102 - acc: 0.7756 - val_loss: 0.7492 - val_acc: 0.7738\n",
      "Epoch 23/40\n",
      "12740/12740 [==============================] - 1s 44us/step - loss: 0.7100 - acc: 0.7735 - val_loss: 0.7500 - val_acc: 0.7690\n",
      "Epoch 24/40\n",
      "12740/12740 [==============================] - 1s 44us/step - loss: 0.7097 - acc: 0.7724 - val_loss: 0.7484 - val_acc: 0.7730\n",
      "Epoch 25/40\n",
      "12740/12740 [==============================] - 1s 46us/step - loss: 0.7093 - acc: 0.7743 - val_loss: 0.7489 - val_acc: 0.7722\n",
      "Epoch 26/40\n",
      "12740/12740 [==============================] - 1s 44us/step - loss: 0.7092 - acc: 0.7754 - val_loss: 0.7487 - val_acc: 0.7690\n",
      "Epoch 27/40\n",
      "12740/12740 [==============================] - 1s 45us/step - loss: 0.7088 - acc: 0.7756 - val_loss: 0.7481 - val_acc: 0.7746\n",
      "Epoch 28/40\n",
      "12740/12740 [==============================] - 1s 45us/step - loss: 0.7084 - acc: 0.7746 - val_loss: 0.7481 - val_acc: 0.7706\n",
      "Epoch 29/40\n",
      "12740/12740 [==============================] - 1s 44us/step - loss: 0.7082 - acc: 0.7736 - val_loss: 0.7477 - val_acc: 0.7730\n",
      "Epoch 30/40\n",
      "12740/12740 [==============================] - 1s 45us/step - loss: 0.7080 - acc: 0.7746 - val_loss: 0.7483 - val_acc: 0.7746\n",
      "Epoch 31/40\n",
      "12740/12740 [==============================] - 1s 44us/step - loss: 0.7079 - acc: 0.7747 - val_loss: 0.7479 - val_acc: 0.7738\n",
      "Epoch 32/40\n",
      "12740/12740 [==============================] - 1s 44us/step - loss: 0.7075 - acc: 0.7755 - val_loss: 0.7470 - val_acc: 0.7730\n",
      "Epoch 33/40\n",
      "12740/12740 [==============================] - 1s 42us/step - loss: 0.7072 - acc: 0.7740 - val_loss: 0.7462 - val_acc: 0.7754\n",
      "Epoch 34/40\n",
      "12740/12740 [==============================] - 1s 45us/step - loss: 0.7070 - acc: 0.7757 - val_loss: 0.7467 - val_acc: 0.7722\n",
      "Epoch 35/40\n",
      "12740/12740 [==============================] - 1s 45us/step - loss: 0.7067 - acc: 0.7767 - val_loss: 0.7469 - val_acc: 0.7690\n",
      "Epoch 36/40\n",
      "12740/12740 [==============================] - 1s 44us/step - loss: 0.7063 - acc: 0.7733 - val_loss: 0.7466 - val_acc: 0.7738\n",
      "Epoch 37/40\n",
      "12740/12740 [==============================] - 1s 44us/step - loss: 0.7061 - acc: 0.7737 - val_loss: 0.7461 - val_acc: 0.7762\n",
      "Epoch 38/40\n",
      "12740/12740 [==============================] - 1s 43us/step - loss: 0.7059 - acc: 0.7776 - val_loss: 0.7459 - val_acc: 0.7706\n",
      "Epoch 39/40\n",
      "12740/12740 [==============================] - 1s 49us/step - loss: 0.7055 - acc: 0.7737 - val_loss: 0.7454 - val_acc: 0.7730\n",
      "Epoch 40/40\n",
      "12740/12740 [==============================] - 1s 43us/step - loss: 0.7053 - acc: 0.7760 - val_loss: 0.7457 - val_acc: 0.7746\n"
     ]
    },
    {
     "data": {
      "text/plain": [
       "<keras.callbacks.History at 0x7fa5bee6cc50>"
      ]
     },
     "execution_count": 159,
     "metadata": {},
     "output_type": "execute_result"
    }
   ],
   "source": [
    "model1.fit(X_train, y_train, validation_data = (X_val, y_val), epochs = 40, batch_size = 64)"
   ]
  },
  {
   "cell_type": "code",
   "execution_count": 160,
   "metadata": {},
   "outputs": [],
   "source": [
    "model1.save(\"svr_all_symbols.h5\")"
   ]
  },
  {
   "cell_type": "code",
   "execution_count": 161,
   "metadata": {},
   "outputs": [],
   "source": [
    "from keras.models import load_model"
   ]
  },
  {
   "cell_type": "code",
   "execution_count": 162,
   "metadata": {},
   "outputs": [],
   "source": [
    "model = load_model('svr_all_symbols.h5')"
   ]
  },
  {
   "cell_type": "code",
   "execution_count": 163,
   "metadata": {},
   "outputs": [],
   "source": [
    "model1.save('svr_all_symbols.h5')"
   ]
  },
  {
   "cell_type": "code",
   "execution_count": 164,
   "metadata": {},
   "outputs": [],
   "source": [
    "sample_number = 11"
   ]
  },
  {
   "cell_type": "code",
   "execution_count": 165,
   "metadata": {},
   "outputs": [
    {
     "name": "stdout",
     "output_type": "stream",
     "text": [
      "(1, 13)\n",
      "[0. 0. 0. 0. 0. 1. 0. 0. 0. 0. 0. 0. 0. 0. 0. 0. 0. 0. 0. 0. 0. 0. 0. 0.\n",
      " 0. 0. 0. 0. 0. 0. 0. 0. 0. 0. 0. 0. 0. 0. 0. 0. 0. 0. 0. 0.]\n"
     ]
    }
   ],
   "source": [
    "test_data_sample = X_val[sample_number].reshape(1, 13)\n",
    "test_data_actual_label = y_val[sample_number]\n",
    "\n",
    "print(test_data_sample.shape)\n",
    "print(test_data_actual_label)"
   ]
  },
  {
   "cell_type": "code",
   "execution_count": 166,
   "metadata": {},
   "outputs": [
    {
     "data": {
      "text/plain": [
       "array([[ 0.15      ,  0.93      , -0.33      ,  1.        ,  0.00392157,\n",
       "         0.00392157,  1.        ,  0.00392157,  0.99804497,  0.        ,\n",
       "         0.        ,  1.        ,  1.        ]])"
      ]
     },
     "execution_count": 166,
     "metadata": {},
     "output_type": "execute_result"
    }
   ],
   "source": [
    "test_data_sample"
   ]
  },
  {
   "cell_type": "code",
   "execution_count": 167,
   "metadata": {},
   "outputs": [],
   "source": [
    "predicted_prob = model1.predict(test_data_sample)\n",
    "predicted_label = np.argmax(predicted_prob)"
   ]
  },
  {
   "cell_type": "code",
   "execution_count": 168,
   "metadata": {},
   "outputs": [
    {
     "name": "stdout",
     "output_type": "stream",
     "text": [
      "[[1.70186024e-06 2.73801688e-05 8.09956477e-11 6.30807073e-10\n",
      "  2.83901556e-07 9.99950409e-01 1.23240871e-12 8.04101387e-14\n",
      "  7.78720664e-12 1.40309912e-05 1.25671845e-23 8.37367331e-09\n",
      "  6.90708930e-08 4.96652957e-13 2.59107014e-06 6.51946830e-10\n",
      "  5.70406500e-10 3.11175780e-10 3.18058505e-06 5.31413746e-10\n",
      "  1.40337730e-09 3.04546000e-10 8.95094274e-08 3.89283173e-07\n",
      "  9.51496098e-14 1.78751847e-10 6.25353014e-13 6.05002973e-13\n",
      "  5.09995366e-13 6.31839307e-13 7.96049045e-13 7.87606579e-13\n",
      "  6.38811866e-13 7.38782353e-13 6.08493290e-13 4.85986143e-13\n",
      "  8.16579172e-13 8.33278975e-13 1.02239289e-12 5.50795303e-13\n",
      "  6.24257861e-13 6.91983580e-13 6.57031504e-13 7.14443296e-11]]\n",
      "5\n"
     ]
    }
   ],
   "source": [
    "print(predicted_prob)\n",
    "print(predicted_label)"
   ]
  },
  {
   "cell_type": "code",
   "execution_count": 169,
   "metadata": {},
   "outputs": [
    {
     "data": {
      "text/plain": [
       "0.9999504"
      ]
     },
     "execution_count": 169,
     "metadata": {},
     "output_type": "execute_result"
    }
   ],
   "source": [
    "predicted_prob[0][predicted_label]"
   ]
  },
  {
   "cell_type": "code",
   "execution_count": 170,
   "metadata": {},
   "outputs": [
    {
     "name": "stdout",
     "output_type": "stream",
     "text": [
      "0\n"
     ]
    }
   ],
   "source": [
    "print(np.argmax(predicted_label))"
   ]
  },
  {
   "cell_type": "code",
   "execution_count": null,
   "metadata": {},
   "outputs": [],
   "source": []
  }
 ],
 "metadata": {
  "kernelspec": {
   "display_name": "Python 3",
   "language": "python",
   "name": "python3"
  },
  "language_info": {
   "codemirror_mode": {
    "name": "ipython",
    "version": 3
   },
   "file_extension": ".py",
   "mimetype": "text/x-python",
   "name": "python",
   "nbconvert_exporter": "python",
   "pygments_lexer": "ipython3",
   "version": "3.7.3"
  }
 },
 "nbformat": 4,
 "nbformat_minor": 2
}
