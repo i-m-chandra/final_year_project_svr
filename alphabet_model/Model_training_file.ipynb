{
 "cells": [
  {
   "cell_type": "code",
   "execution_count": 1,
   "metadata": {},
   "outputs": [
    {
     "name": "stderr",
     "output_type": "stream",
     "text": [
      "Using TensorFlow backend.\n"
     ]
    }
   ],
   "source": [
    "import os\n",
    "import time\n",
    "import glob\n",
    "\n",
    "import pandas as pd\n",
    "import numpy as np\n",
    "\n",
    "from sklearn import preprocessing\n",
    "\n",
    "from keras.utils.np_utils import to_categorical\n",
    "\n",
    "from keras.models import Sequential\n",
    "\n",
    "from sklearn.utils import shuffle\n",
    "\n",
    "from keras.models import Sequential\n",
    "\n",
    "from keras.layers import Dense\n",
    "\n",
    "from keras.layers import BatchNormalization\n",
    "\n",
    "from sklearn.model_selection import train_test_split"
   ]
  },
  {
   "cell_type": "code",
   "execution_count": 2,
   "metadata": {},
   "outputs": [
    {
     "name": "stdout",
     "output_type": "stream",
     "text": [
      "C:\\Users\\Puneet\\Documents\\svr_project_final\\alphabet_model\n"
     ]
    }
   ],
   "source": [
    "execution_path = os.getcwd()\n",
    "print(execution_path)"
   ]
  },
  {
   "cell_type": "code",
   "execution_count": 3,
   "metadata": {},
   "outputs": [],
   "source": [
    "combined_csv = pd.read_csv(os.path.join(execution_path, 'combined_12_signs.csv'))"
   ]
  },
  {
   "cell_type": "code",
   "execution_count": 4,
   "metadata": {},
   "outputs": [
    {
     "data": {
      "text/html": [
       "<div>\n",
       "<style scoped>\n",
       "    .dataframe tbody tr th:only-of-type {\n",
       "        vertical-align: middle;\n",
       "    }\n",
       "\n",
       "    .dataframe tbody tr th {\n",
       "        vertical-align: top;\n",
       "    }\n",
       "\n",
       "    .dataframe thead th {\n",
       "        text-align: right;\n",
       "    }\n",
       "</style>\n",
       "<table border=\"1\" class=\"dataframe\">\n",
       "  <thead>\n",
       "    <tr style=\"text-align: right;\">\n",
       "      <th></th>\n",
       "      <th>0</th>\n",
       "      <th>1</th>\n",
       "      <th>2</th>\n",
       "      <th>3</th>\n",
       "      <th>4</th>\n",
       "      <th>5</th>\n",
       "      <th>6</th>\n",
       "      <th>7</th>\n",
       "      <th>8</th>\n",
       "      <th>9</th>\n",
       "      <th>10</th>\n",
       "      <th>11</th>\n",
       "      <th>12</th>\n",
       "    </tr>\n",
       "  </thead>\n",
       "  <tbody>\n",
       "    <tr>\n",
       "      <th>0</th>\n",
       "      <td>0.31</td>\n",
       "      <td>0.85</td>\n",
       "      <td>0.37</td>\n",
       "      <td>217</td>\n",
       "      <td>62</td>\n",
       "      <td>39</td>\n",
       "      <td>32</td>\n",
       "      <td>62</td>\n",
       "      <td>928</td>\n",
       "      <td>1</td>\n",
       "      <td>1</td>\n",
       "      <td>1</td>\n",
       "      <td>1</td>\n",
       "    </tr>\n",
       "    <tr>\n",
       "      <th>1</th>\n",
       "      <td>0.31</td>\n",
       "      <td>0.87</td>\n",
       "      <td>0.40</td>\n",
       "      <td>217</td>\n",
       "      <td>61</td>\n",
       "      <td>42</td>\n",
       "      <td>32</td>\n",
       "      <td>62</td>\n",
       "      <td>930</td>\n",
       "      <td>1</td>\n",
       "      <td>1</td>\n",
       "      <td>1</td>\n",
       "      <td>1</td>\n",
       "    </tr>\n",
       "    <tr>\n",
       "      <th>2</th>\n",
       "      <td>0.30</td>\n",
       "      <td>0.86</td>\n",
       "      <td>0.40</td>\n",
       "      <td>210</td>\n",
       "      <td>62</td>\n",
       "      <td>43</td>\n",
       "      <td>33</td>\n",
       "      <td>64</td>\n",
       "      <td>931</td>\n",
       "      <td>1</td>\n",
       "      <td>1</td>\n",
       "      <td>1</td>\n",
       "      <td>1</td>\n",
       "    </tr>\n",
       "    <tr>\n",
       "      <th>3</th>\n",
       "      <td>0.31</td>\n",
       "      <td>0.86</td>\n",
       "      <td>0.39</td>\n",
       "      <td>217</td>\n",
       "      <td>62</td>\n",
       "      <td>43</td>\n",
       "      <td>36</td>\n",
       "      <td>61</td>\n",
       "      <td>931</td>\n",
       "      <td>1</td>\n",
       "      <td>1</td>\n",
       "      <td>1</td>\n",
       "      <td>1</td>\n",
       "    </tr>\n",
       "    <tr>\n",
       "      <th>4</th>\n",
       "      <td>0.28</td>\n",
       "      <td>0.86</td>\n",
       "      <td>0.38</td>\n",
       "      <td>217</td>\n",
       "      <td>64</td>\n",
       "      <td>40</td>\n",
       "      <td>33</td>\n",
       "      <td>62</td>\n",
       "      <td>931</td>\n",
       "      <td>1</td>\n",
       "      <td>1</td>\n",
       "      <td>1</td>\n",
       "      <td>1</td>\n",
       "    </tr>\n",
       "    <tr>\n",
       "      <th>5</th>\n",
       "      <td>0.30</td>\n",
       "      <td>0.87</td>\n",
       "      <td>0.39</td>\n",
       "      <td>217</td>\n",
       "      <td>64</td>\n",
       "      <td>42</td>\n",
       "      <td>30</td>\n",
       "      <td>62</td>\n",
       "      <td>931</td>\n",
       "      <td>1</td>\n",
       "      <td>1</td>\n",
       "      <td>1</td>\n",
       "      <td>1</td>\n",
       "    </tr>\n",
       "    <tr>\n",
       "      <th>6</th>\n",
       "      <td>0.28</td>\n",
       "      <td>0.87</td>\n",
       "      <td>0.39</td>\n",
       "      <td>215</td>\n",
       "      <td>62</td>\n",
       "      <td>42</td>\n",
       "      <td>33</td>\n",
       "      <td>67</td>\n",
       "      <td>928</td>\n",
       "      <td>1</td>\n",
       "      <td>1</td>\n",
       "      <td>1</td>\n",
       "      <td>1</td>\n",
       "    </tr>\n",
       "    <tr>\n",
       "      <th>7</th>\n",
       "      <td>0.29</td>\n",
       "      <td>0.87</td>\n",
       "      <td>0.39</td>\n",
       "      <td>215</td>\n",
       "      <td>61</td>\n",
       "      <td>42</td>\n",
       "      <td>36</td>\n",
       "      <td>61</td>\n",
       "      <td>931</td>\n",
       "      <td>1</td>\n",
       "      <td>1</td>\n",
       "      <td>1</td>\n",
       "      <td>1</td>\n",
       "    </tr>\n",
       "    <tr>\n",
       "      <th>8</th>\n",
       "      <td>0.29</td>\n",
       "      <td>0.87</td>\n",
       "      <td>0.38</td>\n",
       "      <td>217</td>\n",
       "      <td>62</td>\n",
       "      <td>45</td>\n",
       "      <td>32</td>\n",
       "      <td>62</td>\n",
       "      <td>930</td>\n",
       "      <td>1</td>\n",
       "      <td>1</td>\n",
       "      <td>1</td>\n",
       "      <td>1</td>\n",
       "    </tr>\n",
       "    <tr>\n",
       "      <th>9</th>\n",
       "      <td>0.29</td>\n",
       "      <td>0.86</td>\n",
       "      <td>0.39</td>\n",
       "      <td>217</td>\n",
       "      <td>64</td>\n",
       "      <td>40</td>\n",
       "      <td>36</td>\n",
       "      <td>64</td>\n",
       "      <td>933</td>\n",
       "      <td>1</td>\n",
       "      <td>1</td>\n",
       "      <td>1</td>\n",
       "      <td>1</td>\n",
       "    </tr>\n",
       "  </tbody>\n",
       "</table>\n",
       "</div>"
      ],
      "text/plain": [
       "      0     1     2    3   4   5   6   7    8  9  10  11  12\n",
       "0  0.31  0.85  0.37  217  62  39  32  62  928  1   1   1   1\n",
       "1  0.31  0.87  0.40  217  61  42  32  62  930  1   1   1   1\n",
       "2  0.30  0.86  0.40  210  62  43  33  64  931  1   1   1   1\n",
       "3  0.31  0.86  0.39  217  62  43  36  61  931  1   1   1   1\n",
       "4  0.28  0.86  0.38  217  64  40  33  62  931  1   1   1   1\n",
       "5  0.30  0.87  0.39  217  64  42  30  62  931  1   1   1   1\n",
       "6  0.28  0.87  0.39  215  62  42  33  67  928  1   1   1   1\n",
       "7  0.29  0.87  0.39  215  61  42  36  61  931  1   1   1   1\n",
       "8  0.29  0.87  0.38  217  62  45  32  62  930  1   1   1   1\n",
       "9  0.29  0.86  0.39  217  64  40  36  64  933  1   1   1   1"
      ]
     },
     "execution_count": 4,
     "metadata": {},
     "output_type": "execute_result"
    }
   ],
   "source": [
    "combined_csv[0:10]"
   ]
  },
  {
   "cell_type": "code",
   "execution_count": 5,
   "metadata": {},
   "outputs": [
    {
     "name": "stdout",
     "output_type": "stream",
     "text": [
      "(2400, 13)\n"
     ]
    }
   ],
   "source": [
    "X_numpy = combined_csv.values\n",
    "print(X_numpy.shape)"
   ]
  },
  {
   "cell_type": "code",
   "execution_count": 6,
   "metadata": {},
   "outputs": [
    {
     "name": "stdout",
     "output_type": "stream",
     "text": [
      "[1.000e+00 1.000e+00 1.000e+00 2.550e+02 2.550e+02 2.550e+02 2.550e+02\n",
      " 2.550e+02 1.023e+03 1.000e+00 1.000e+00 1.000e+00 1.000e+00]\n",
      "(2400, 13)\n"
     ]
    }
   ],
   "source": [
    "norm_array = np.array([1, 1, 1, 255.0, 255.0, 255.0, 255.0, 255.0, 1023.0, 1, 1, 1, 1])\n",
    "print(norm_array)\n",
    "\n",
    "normalized_X = X_numpy / norm_array[None, :]\n",
    "print(normalized_X.shape)"
   ]
  },
  {
   "cell_type": "code",
   "execution_count": 7,
   "metadata": {},
   "outputs": [
    {
     "data": {
      "text/plain": [
       "array([0.31      , 0.85      , 0.37      , 0.85098039, 0.24313725,\n",
       "       0.15294118, 0.1254902 , 0.24313725, 0.90713587, 1.        ,\n",
       "       1.        , 1.        , 1.        ])"
      ]
     },
     "execution_count": 7,
     "metadata": {},
     "output_type": "execute_result"
    }
   ],
   "source": [
    "normalized_X[0]"
   ]
  },
  {
   "cell_type": "code",
   "execution_count": 8,
   "metadata": {},
   "outputs": [],
   "source": [
    "combined_csv_labels = pd.read_csv(os.path.join(execution_path, \"combined_12_signs_labels.csv\"))"
   ]
  },
  {
   "cell_type": "code",
   "execution_count": 9,
   "metadata": {},
   "outputs": [
    {
     "data": {
      "text/html": [
       "<div>\n",
       "<style scoped>\n",
       "    .dataframe tbody tr th:only-of-type {\n",
       "        vertical-align: middle;\n",
       "    }\n",
       "\n",
       "    .dataframe tbody tr th {\n",
       "        vertical-align: top;\n",
       "    }\n",
       "\n",
       "    .dataframe thead th {\n",
       "        text-align: right;\n",
       "    }\n",
       "</style>\n",
       "<table border=\"1\" class=\"dataframe\">\n",
       "  <thead>\n",
       "    <tr style=\"text-align: right;\">\n",
       "      <th></th>\n",
       "      <th>0</th>\n",
       "    </tr>\n",
       "  </thead>\n",
       "  <tbody>\n",
       "    <tr>\n",
       "      <th>0</th>\n",
       "      <td>12</td>\n",
       "    </tr>\n",
       "    <tr>\n",
       "      <th>1</th>\n",
       "      <td>12</td>\n",
       "    </tr>\n",
       "    <tr>\n",
       "      <th>2</th>\n",
       "      <td>12</td>\n",
       "    </tr>\n",
       "    <tr>\n",
       "      <th>3</th>\n",
       "      <td>12</td>\n",
       "    </tr>\n",
       "    <tr>\n",
       "      <th>4</th>\n",
       "      <td>12</td>\n",
       "    </tr>\n",
       "    <tr>\n",
       "      <th>5</th>\n",
       "      <td>12</td>\n",
       "    </tr>\n",
       "    <tr>\n",
       "      <th>6</th>\n",
       "      <td>12</td>\n",
       "    </tr>\n",
       "    <tr>\n",
       "      <th>7</th>\n",
       "      <td>12</td>\n",
       "    </tr>\n",
       "    <tr>\n",
       "      <th>8</th>\n",
       "      <td>12</td>\n",
       "    </tr>\n",
       "    <tr>\n",
       "      <th>9</th>\n",
       "      <td>12</td>\n",
       "    </tr>\n",
       "  </tbody>\n",
       "</table>\n",
       "</div>"
      ],
      "text/plain": [
       "    0\n",
       "0  12\n",
       "1  12\n",
       "2  12\n",
       "3  12\n",
       "4  12\n",
       "5  12\n",
       "6  12\n",
       "7  12\n",
       "8  12\n",
       "9  12"
      ]
     },
     "execution_count": 9,
     "metadata": {},
     "output_type": "execute_result"
    }
   ],
   "source": [
    "combined_csv_labels[0:10]"
   ]
  },
  {
   "cell_type": "code",
   "execution_count": 11,
   "metadata": {},
   "outputs": [
    {
     "name": "stdout",
     "output_type": "stream",
     "text": [
      "(2400, 1)\n",
      "(2400, 26)\n"
     ]
    }
   ],
   "source": [
    "Y_numpy = combined_csv_labels.values\n",
    "Y_numpy = Y_numpy - 12\n",
    "print(Y_numpy.shape)\n",
    "\n",
    "labels_one_hot = to_categorical(Y_numpy)\n",
    "print(labels_one_hot.shape)"
   ]
  },
  {
   "cell_type": "code",
   "execution_count": 12,
   "metadata": {},
   "outputs": [
    {
     "name": "stdout",
     "output_type": "stream",
     "text": [
      "[[ 0]\n",
      " [ 0]\n",
      " [ 0]\n",
      " ...\n",
      " [25]\n",
      " [25]\n",
      " [25]]\n"
     ]
    }
   ],
   "source": [
    "print(Y_numpy)"
   ]
  },
  {
   "cell_type": "code",
   "execution_count": 13,
   "metadata": {},
   "outputs": [
    {
     "name": "stdout",
     "output_type": "stream",
     "text": [
      "(2400, 13)\n"
     ]
    }
   ],
   "source": [
    "final_dataset, final_labels = shuffle(normalized_X, labels_one_hot)\n",
    "\n",
    "print(final_dataset.shape)"
   ]
  },
  {
   "cell_type": "code",
   "execution_count": 14,
   "metadata": {},
   "outputs": [
    {
     "name": "stdout",
     "output_type": "stream",
     "text": [
      "(2399, 13)\n",
      "(2399, 26)\n",
      "(1, 13)\n",
      "(1, 26)\n"
     ]
    }
   ],
   "source": [
    "X_train, X_val, y_train, y_val = train_test_split(final_dataset, final_labels, test_size=0.000001, random_state=1)\n",
    "\n",
    "print(X_train.shape)\n",
    "print(y_train.shape)\n",
    "\n",
    "print(X_val.shape)\n",
    "print(y_val.shape)"
   ]
  },
  {
   "cell_type": "code",
   "execution_count": 15,
   "metadata": {},
   "outputs": [
    {
     "name": "stdout",
     "output_type": "stream",
     "text": [
      "13\n"
     ]
    }
   ],
   "source": [
    "input_shape = X_train.shape[1]\n",
    "\n",
    "print(input_shape)"
   ]
  },
  {
   "cell_type": "code",
   "execution_count": 16,
   "metadata": {},
   "outputs": [
    {
     "name": "stdout",
     "output_type": "stream",
     "text": [
      "WARNING:tensorflow:From C:\\Users\\Puneet\\Anaconda3\\lib\\site-packages\\tensorflow\\python\\framework\\op_def_library.py:263: colocate_with (from tensorflow.python.framework.ops) is deprecated and will be removed in a future version.\n",
      "Instructions for updating:\n",
      "Colocations handled automatically by placer.\n"
     ]
    }
   ],
   "source": [
    "model1 = Sequential()\n",
    "\n",
    "model1.add(Dense(input_shape = (13,), units = 26, activation = 'softmax'))\n",
    "\n",
    "#model.add(Dense(units = 8, activation = 'sigmoid'))\n",
    "\n",
    "model1.compile(optimizer = 'adam', loss = 'categorical_crossentropy', metrics = ['accuracy'])"
   ]
  },
  {
   "cell_type": "code",
   "execution_count": 17,
   "metadata": {},
   "outputs": [
    {
     "name": "stdout",
     "output_type": "stream",
     "text": [
      "_________________________________________________________________\n",
      "Layer (type)                 Output Shape              Param #   \n",
      "=================================================================\n",
      "dense_1 (Dense)              (None, 26)                364       \n",
      "=================================================================\n",
      "Total params: 364\n",
      "Trainable params: 364\n",
      "Non-trainable params: 0\n",
      "_________________________________________________________________\n"
     ]
    }
   ],
   "source": [
    "model1.summary()"
   ]
  },
  {
   "cell_type": "code",
   "execution_count": 18,
   "metadata": {},
   "outputs": [
    {
     "name": "stdout",
     "output_type": "stream",
     "text": [
      "WARNING:tensorflow:From C:\\Users\\Puneet\\Anaconda3\\lib\\site-packages\\tensorflow\\python\\ops\\math_ops.py:3066: to_int32 (from tensorflow.python.ops.math_ops) is deprecated and will be removed in a future version.\n",
      "Instructions for updating:\n",
      "Use tf.cast instead.\n",
      "Train on 2399 samples, validate on 1 samples\n",
      "Epoch 1/40\n",
      "2399/2399 [==============================] - 0s 199us/step - loss: 3.3463 - acc: 0.0409 - val_loss: 3.1863 - val_acc: 0.0000e+00\n",
      "Epoch 2/40\n",
      "2399/2399 [==============================] - 0s 24us/step - loss: 3.2172 - acc: 0.0546 - val_loss: 3.1117 - val_acc: 0.0000e+00\n",
      "Epoch 3/40\n",
      "2399/2399 [==============================] - 0s 29us/step - loss: 3.1054 - acc: 0.0546 - val_loss: 3.0206 - val_acc: 0.0000e+00\n",
      "Epoch 4/40\n",
      "2399/2399 [==============================] - 0s 36us/step - loss: 3.0042 - acc: 0.0888 - val_loss: 2.9525 - val_acc: 0.0000e+00\n",
      "Epoch 5/40\n",
      "2399/2399 [==============================] - 0s 26us/step - loss: 2.9103 - acc: 0.1605 - val_loss: 2.8952 - val_acc: 0.0000e+00\n",
      "Epoch 6/40\n",
      "2399/2399 [==============================] - 0s 29us/step - loss: 2.8224 - acc: 0.2747 - val_loss: 2.8334 - val_acc: 0.0000e+00\n",
      "Epoch 7/40\n",
      "2399/2399 [==============================] - 0s 25us/step - loss: 2.7382 - acc: 0.3243 - val_loss: 2.7443 - val_acc: 0.0000e+00\n",
      "Epoch 8/40\n",
      "2399/2399 [==============================] - 0s 31us/step - loss: 2.6588 - acc: 0.4060 - val_loss: 2.6909 - val_acc: 0.0000e+00\n",
      "Epoch 9/40\n",
      "2399/2399 [==============================] - 0s 29us/step - loss: 2.5820 - acc: 0.4960 - val_loss: 2.6224 - val_acc: 0.0000e+00\n",
      "Epoch 10/40\n",
      "2399/2399 [==============================] - 0s 32us/step - loss: 2.5085 - acc: 0.5331 - val_loss: 2.5828 - val_acc: 0.0000e+00\n",
      "Epoch 11/40\n",
      "2399/2399 [==============================] - 0s 30us/step - loss: 2.4383 - acc: 0.5573 - val_loss: 2.5115 - val_acc: 1.0000\n",
      "Epoch 12/40\n",
      "2399/2399 [==============================] - 0s 28us/step - loss: 2.3703 - acc: 0.6148 - val_loss: 2.4510 - val_acc: 1.0000\n",
      "Epoch 13/40\n",
      "2399/2399 [==============================] - 0s 35us/step - loss: 2.3052 - acc: 0.6561 - val_loss: 2.4134 - val_acc: 1.0000\n",
      "Epoch 14/40\n",
      "2399/2399 [==============================] - 0s 26us/step - loss: 2.2429 - acc: 0.6749 - val_loss: 2.3600 - val_acc: 1.0000\n",
      "Epoch 15/40\n",
      "2399/2399 [==============================] - 0s 34us/step - loss: 2.1831 - acc: 0.6824 - val_loss: 2.3230 - val_acc: 1.0000\n",
      "Epoch 16/40\n",
      "2399/2399 [==============================] - 0s 34us/step - loss: 2.1250 - acc: 0.7307 - val_loss: 2.2500 - val_acc: 1.0000\n",
      "Epoch 17/40\n",
      "2399/2399 [==============================] - 0s 40us/step - loss: 2.0694 - acc: 0.7866 - val_loss: 2.2094 - val_acc: 1.0000\n",
      "Epoch 18/40\n",
      "2399/2399 [==============================] - 0s 35us/step - loss: 2.0159 - acc: 0.7874 - val_loss: 2.1726 - val_acc: 1.0000\n",
      "Epoch 19/40\n",
      "2399/2399 [==============================] - 0s 43us/step - loss: 1.9649 - acc: 0.8016 - val_loss: 2.1259 - val_acc: 1.0000\n",
      "Epoch 20/40\n",
      "2399/2399 [==============================] - 0s 40us/step - loss: 1.9157 - acc: 0.8078 - val_loss: 2.0640 - val_acc: 1.0000\n",
      "Epoch 21/40\n",
      "2399/2399 [==============================] - 0s 42us/step - loss: 1.8683 - acc: 0.8283 - val_loss: 2.0624 - val_acc: 1.0000\n",
      "Epoch 22/40\n",
      "2399/2399 [==============================] - 0s 31us/step - loss: 1.8226 - acc: 0.8491 - val_loss: 2.0104 - val_acc: 1.0000\n",
      "Epoch 23/40\n",
      "2399/2399 [==============================] - 0s 29us/step - loss: 1.7790 - acc: 0.8733 - val_loss: 1.9764 - val_acc: 1.0000\n",
      "Epoch 24/40\n",
      "2399/2399 [==============================] - 0s 27us/step - loss: 1.7369 - acc: 0.8674 - val_loss: 1.9358 - val_acc: 1.0000\n",
      "Epoch 25/40\n",
      "2399/2399 [==============================] - 0s 25us/step - loss: 1.6966 - acc: 0.8762 - val_loss: 1.9027 - val_acc: 1.0000\n",
      "Epoch 26/40\n",
      "2399/2399 [==============================] - 0s 42us/step - loss: 1.6577 - acc: 0.8995 - val_loss: 1.8600 - val_acc: 1.0000\n",
      "Epoch 27/40\n",
      "2399/2399 [==============================] - 0s 34us/step - loss: 1.6201 - acc: 0.8887 - val_loss: 1.8570 - val_acc: 1.0000\n",
      "Epoch 28/40\n",
      "2399/2399 [==============================] - 0s 30us/step - loss: 1.5841 - acc: 0.8895 - val_loss: 1.7915 - val_acc: 1.0000\n",
      "Epoch 29/40\n",
      "2399/2399 [==============================] - 0s 34us/step - loss: 1.5494 - acc: 0.8920 - val_loss: 1.7714 - val_acc: 1.0000\n",
      "Epoch 30/40\n",
      "2399/2399 [==============================] - 0s 43us/step - loss: 1.5162 - acc: 0.9279 - val_loss: 1.7371 - val_acc: 1.0000\n",
      "Epoch 31/40\n",
      "2399/2399 [==============================] - 0s 32us/step - loss: 1.4840 - acc: 0.9279 - val_loss: 1.7077 - val_acc: 1.0000\n",
      "Epoch 32/40\n",
      "2399/2399 [==============================] - 0s 29us/step - loss: 1.4529 - acc: 0.9496 - val_loss: 1.6824 - val_acc: 1.0000\n",
      "Epoch 33/40\n",
      "2399/2399 [==============================] - 0s 44us/step - loss: 1.4230 - acc: 0.9375 - val_loss: 1.6423 - val_acc: 1.0000\n",
      "Epoch 34/40\n",
      "2399/2399 [==============================] - 0s 39us/step - loss: 1.3941 - acc: 0.9537 - val_loss: 1.6136 - val_acc: 1.0000\n",
      "Epoch 35/40\n",
      "2399/2399 [==============================] - 0s 25us/step - loss: 1.3662 - acc: 0.9583 - val_loss: 1.5851 - val_acc: 1.0000\n",
      "Epoch 36/40\n",
      "2399/2399 [==============================] - 0s 20us/step - loss: 1.3395 - acc: 0.9554 - val_loss: 1.5770 - val_acc: 1.0000\n",
      "Epoch 37/40\n",
      "2399/2399 [==============================] - 0s 20us/step - loss: 1.3135 - acc: 0.9729 - val_loss: 1.5294 - val_acc: 1.0000\n",
      "Epoch 38/40\n",
      "2399/2399 [==============================] - 0s 19us/step - loss: 1.2882 - acc: 0.9533 - val_loss: 1.5164 - val_acc: 1.0000\n",
      "Epoch 39/40\n",
      "2399/2399 [==============================] - 0s 22us/step - loss: 1.2643 - acc: 0.9571 - val_loss: 1.4975 - val_acc: 1.0000\n",
      "Epoch 40/40\n",
      "2399/2399 [==============================] - 0s 21us/step - loss: 1.2407 - acc: 0.9721 - val_loss: 1.4933 - val_acc: 1.0000\n"
     ]
    },
    {
     "data": {
      "text/plain": [
       "<keras.callbacks.History at 0x21c787d7ba8>"
      ]
     },
     "execution_count": 18,
     "metadata": {},
     "output_type": "execute_result"
    }
   ],
   "source": [
    "model1.fit(X_train, y_train, validation_data = (X_val, y_val), epochs = 40, batch_size = 64)"
   ]
  },
  {
   "cell_type": "code",
   "execution_count": 19,
   "metadata": {},
   "outputs": [
    {
     "name": "stdout",
     "output_type": "stream",
     "text": [
      "Train on 2399 samples, validate on 1 samples\n",
      "Epoch 1/40\n",
      "2399/2399 [==============================] - 0s 22us/step - loss: 1.2180 - acc: 0.9596 - val_loss: 1.4408 - val_acc: 1.0000\n",
      "Epoch 2/40\n",
      "2399/2399 [==============================] - 0s 36us/step - loss: 1.1960 - acc: 0.9767 - val_loss: 1.4432 - val_acc: 1.0000\n",
      "Epoch 3/40\n",
      "2399/2399 [==============================] - 0s 30us/step - loss: 1.1744 - acc: 0.9850 - val_loss: 1.4068 - val_acc: 1.0000\n",
      "Epoch 4/40\n",
      "2399/2399 [==============================] - 0s 26us/step - loss: 1.1538 - acc: 0.9837 - val_loss: 1.3738 - val_acc: 1.0000\n",
      "Epoch 5/40\n",
      "2399/2399 [==============================] - 0s 23us/step - loss: 1.1338 - acc: 0.9779 - val_loss: 1.3657 - val_acc: 1.0000\n",
      "Epoch 6/40\n",
      "2399/2399 [==============================] - 0s 23us/step - loss: 1.1145 - acc: 0.9829 - val_loss: 1.3408 - val_acc: 1.0000\n",
      "Epoch 7/40\n",
      "2399/2399 [==============================] - 0s 30us/step - loss: 1.0959 - acc: 0.9925 - val_loss: 1.3228 - val_acc: 1.0000\n",
      "Epoch 8/40\n",
      "2399/2399 [==============================] - 0s 27us/step - loss: 1.0774 - acc: 0.9887 - val_loss: 1.2990 - val_acc: 1.0000\n",
      "Epoch 9/40\n",
      "2399/2399 [==============================] - 0s 30us/step - loss: 1.0595 - acc: 0.9821 - val_loss: 1.2862 - val_acc: 1.0000\n",
      "Epoch 10/40\n",
      "2399/2399 [==============================] - 0s 26us/step - loss: 1.0423 - acc: 0.9892 - val_loss: 1.2813 - val_acc: 1.0000\n",
      "Epoch 11/40\n",
      "2399/2399 [==============================] - 0s 25us/step - loss: 1.0255 - acc: 0.9875 - val_loss: 1.2493 - val_acc: 1.0000\n",
      "Epoch 12/40\n",
      "2399/2399 [==============================] - 0s 25us/step - loss: 1.0091 - acc: 0.9883 - val_loss: 1.2372 - val_acc: 1.0000\n",
      "Epoch 13/40\n",
      "2399/2399 [==============================] - 0s 32us/step - loss: 0.9936 - acc: 0.9833 - val_loss: 1.2325 - val_acc: 1.0000\n",
      "Epoch 14/40\n",
      "2399/2399 [==============================] - 0s 33us/step - loss: 0.9780 - acc: 0.9933 - val_loss: 1.1995 - val_acc: 1.0000\n",
      "Epoch 15/40\n",
      "2399/2399 [==============================] - 0s 40us/step - loss: 0.9630 - acc: 0.9950 - val_loss: 1.1762 - val_acc: 1.0000\n",
      "Epoch 16/40\n",
      "2399/2399 [==============================] - 0s 42us/step - loss: 0.9483 - acc: 0.9933 - val_loss: 1.1620 - val_acc: 1.0000\n",
      "Epoch 17/40\n",
      "2399/2399 [==============================] - 0s 55us/step - loss: 0.9344 - acc: 0.9917 - val_loss: 1.1502 - val_acc: 1.0000\n",
      "Epoch 18/40\n",
      "2399/2399 [==============================] - 0s 45us/step - loss: 0.9204 - acc: 0.9904 - val_loss: 1.1455 - val_acc: 1.0000\n",
      "Epoch 19/40\n",
      "2399/2399 [==============================] - 0s 38us/step - loss: 0.9069 - acc: 0.9950 - val_loss: 1.1042 - val_acc: 1.0000\n",
      "Epoch 20/40\n",
      "2399/2399 [==============================] - 0s 39us/step - loss: 0.8940 - acc: 0.9867 - val_loss: 1.1144 - val_acc: 1.0000\n",
      "Epoch 21/40\n",
      "2399/2399 [==============================] - 0s 44us/step - loss: 0.8810 - acc: 0.9917 - val_loss: 1.0982 - val_acc: 1.0000\n",
      "Epoch 22/40\n",
      "2399/2399 [==============================] - 0s 43us/step - loss: 0.8685 - acc: 0.9950 - val_loss: 1.0720 - val_acc: 1.0000\n",
      "Epoch 23/40\n",
      "2399/2399 [==============================] - 0s 45us/step - loss: 0.8563 - acc: 0.9946 - val_loss: 1.0641 - val_acc: 1.0000\n",
      "Epoch 24/40\n",
      "2399/2399 [==============================] - 0s 41us/step - loss: 0.8445 - acc: 0.9950 - val_loss: 1.0378 - val_acc: 1.0000\n",
      "Epoch 25/40\n",
      "2399/2399 [==============================] - 0s 42us/step - loss: 0.8328 - acc: 0.9958 - val_loss: 1.0173 - val_acc: 1.0000\n",
      "Epoch 26/40\n",
      "2399/2399 [==============================] - 0s 47us/step - loss: 0.8213 - acc: 0.9887 - val_loss: 1.0247 - val_acc: 1.0000\n",
      "Epoch 27/40\n",
      "2399/2399 [==============================] - 0s 48us/step - loss: 0.8104 - acc: 0.9933 - val_loss: 1.0053 - val_acc: 1.0000\n",
      "Epoch 28/40\n",
      "2399/2399 [==============================] - 0s 50us/step - loss: 0.7995 - acc: 0.9958 - val_loss: 1.0011 - val_acc: 1.0000\n",
      "Epoch 29/40\n",
      "2399/2399 [==============================] - 0s 47us/step - loss: 0.7888 - acc: 0.9917 - val_loss: 0.9908 - val_acc: 1.0000\n",
      "Epoch 30/40\n",
      "2399/2399 [==============================] - 0s 47us/step - loss: 0.7785 - acc: 0.9958 - val_loss: 0.9698 - val_acc: 1.0000\n",
      "Epoch 31/40\n",
      "2399/2399 [==============================] - 0s 47us/step - loss: 0.7685 - acc: 0.9958 - val_loss: 0.9654 - val_acc: 1.0000\n",
      "Epoch 32/40\n",
      "2399/2399 [==============================] - 0s 48us/step - loss: 0.7585 - acc: 0.9946 - val_loss: 0.9525 - val_acc: 1.0000\n",
      "Epoch 33/40\n",
      "2399/2399 [==============================] - 0s 45us/step - loss: 0.7491 - acc: 0.9958 - val_loss: 0.9418 - val_acc: 1.0000\n",
      "Epoch 34/40\n",
      "2399/2399 [==============================] - 0s 45us/step - loss: 0.7394 - acc: 0.9958 - val_loss: 0.9474 - val_acc: 1.0000\n",
      "Epoch 35/40\n",
      "2399/2399 [==============================] - 0s 46us/step - loss: 0.7300 - acc: 0.9937 - val_loss: 0.9220 - val_acc: 1.0000\n",
      "Epoch 36/40\n",
      "2399/2399 [==============================] - 0s 36us/step - loss: 0.7209 - acc: 0.9962 - val_loss: 0.9018 - val_acc: 1.0000\n",
      "Epoch 37/40\n",
      "2399/2399 [==============================] - 0s 28us/step - loss: 0.7119 - acc: 0.9962 - val_loss: 0.9015 - val_acc: 1.0000\n",
      "Epoch 38/40\n",
      "2399/2399 [==============================] - 0s 26us/step - loss: 0.7033 - acc: 0.9962 - val_loss: 0.8953 - val_acc: 1.0000\n",
      "Epoch 39/40\n",
      "2399/2399 [==============================] - 0s 23us/step - loss: 0.6949 - acc: 0.9962 - val_loss: 0.8845 - val_acc: 1.0000\n",
      "Epoch 40/40\n",
      "2399/2399 [==============================] - 0s 21us/step - loss: 0.6866 - acc: 0.9942 - val_loss: 0.8727 - val_acc: 1.0000\n"
     ]
    },
    {
     "data": {
      "text/plain": [
       "<keras.callbacks.History at 0x21c78d49be0>"
      ]
     },
     "execution_count": 19,
     "metadata": {},
     "output_type": "execute_result"
    }
   ],
   "source": [
    "model1.fit(X_train, y_train, validation_data = (X_val, y_val), epochs = 40, batch_size = 64)"
   ]
  },
  {
   "cell_type": "code",
   "execution_count": 20,
   "metadata": {},
   "outputs": [
    {
     "name": "stdout",
     "output_type": "stream",
     "text": [
      "Train on 2399 samples, validate on 1 samples\n",
      "Epoch 1/40\n",
      "2399/2399 [==============================] - 0s 37us/step - loss: 0.6782 - acc: 0.9958 - val_loss: 0.8627 - val_acc: 1.0000\n",
      "Epoch 2/40\n",
      "2399/2399 [==============================] - 0s 40us/step - loss: 0.6702 - acc: 0.9942 - val_loss: 0.8508 - val_acc: 1.0000\n",
      "Epoch 3/40\n",
      "2399/2399 [==============================] - 0s 28us/step - loss: 0.6622 - acc: 0.9954 - val_loss: 0.8389 - val_acc: 1.0000\n",
      "Epoch 4/40\n",
      "2399/2399 [==============================] - 0s 27us/step - loss: 0.6546 - acc: 0.9967 - val_loss: 0.8385 - val_acc: 1.0000\n",
      "Epoch 5/40\n",
      "2399/2399 [==============================] - 0s 28us/step - loss: 0.6469 - acc: 0.9954 - val_loss: 0.8263 - val_acc: 1.0000\n",
      "Epoch 6/40\n",
      "2399/2399 [==============================] - 0s 27us/step - loss: 0.6394 - acc: 0.9962 - val_loss: 0.8133 - val_acc: 1.0000\n",
      "Epoch 7/40\n",
      "2399/2399 [==============================] - 0s 28us/step - loss: 0.6322 - acc: 0.9958 - val_loss: 0.8148 - val_acc: 1.0000\n",
      "Epoch 8/40\n",
      "2399/2399 [==============================] - 0s 28us/step - loss: 0.6249 - acc: 0.9954 - val_loss: 0.8057 - val_acc: 1.0000\n",
      "Epoch 9/40\n",
      "2399/2399 [==============================] - 0s 26us/step - loss: 0.6178 - acc: 0.9958 - val_loss: 0.7839 - val_acc: 1.0000\n",
      "Epoch 10/40\n",
      "2399/2399 [==============================] - 0s 28us/step - loss: 0.6110 - acc: 0.9967 - val_loss: 0.7743 - val_acc: 1.0000\n",
      "Epoch 11/40\n",
      "2399/2399 [==============================] - 0s 30us/step - loss: 0.6041 - acc: 0.9967 - val_loss: 0.7811 - val_acc: 1.0000\n",
      "Epoch 12/40\n",
      "2399/2399 [==============================] - 0s 33us/step - loss: 0.5973 - acc: 0.9967 - val_loss: 0.7749 - val_acc: 1.0000\n",
      "Epoch 13/40\n",
      "2399/2399 [==============================] - 0s 36us/step - loss: 0.5908 - acc: 0.9958 - val_loss: 0.7535 - val_acc: 1.0000\n",
      "Epoch 14/40\n",
      "2399/2399 [==============================] - 0s 26us/step - loss: 0.5845 - acc: 0.9967 - val_loss: 0.7501 - val_acc: 1.0000\n",
      "Epoch 15/40\n",
      "2399/2399 [==============================] - 0s 36us/step - loss: 0.5779 - acc: 0.9967 - val_loss: 0.7323 - val_acc: 1.0000\n",
      "Epoch 16/40\n",
      "2399/2399 [==============================] - 0s 33us/step - loss: 0.5717 - acc: 0.9967 - val_loss: 0.7324 - val_acc: 1.0000\n",
      "Epoch 17/40\n",
      "2399/2399 [==============================] - 0s 41us/step - loss: 0.5656 - acc: 0.9967 - val_loss: 0.7208 - val_acc: 1.0000\n",
      "Epoch 18/40\n",
      "2399/2399 [==============================] - 0s 25us/step - loss: 0.5596 - acc: 0.9967 - val_loss: 0.7265 - val_acc: 1.0000\n",
      "Epoch 19/40\n",
      "2399/2399 [==============================] - 0s 27us/step - loss: 0.5535 - acc: 0.9967 - val_loss: 0.7200 - val_acc: 1.0000\n",
      "Epoch 20/40\n",
      "2399/2399 [==============================] - 0s 27us/step - loss: 0.5477 - acc: 0.9967 - val_loss: 0.7141 - val_acc: 1.0000\n",
      "Epoch 21/40\n",
      "2399/2399 [==============================] - 0s 28us/step - loss: 0.5421 - acc: 0.9967 - val_loss: 0.7029 - val_acc: 1.0000\n",
      "Epoch 22/40\n",
      "2399/2399 [==============================] - 0s 53us/step - loss: 0.5363 - acc: 0.9967 - val_loss: 0.6930 - val_acc: 1.0000\n",
      "Epoch 23/40\n",
      "2399/2399 [==============================] - 0s 55us/step - loss: 0.5308 - acc: 0.9967 - val_loss: 0.6870 - val_acc: 1.0000\n",
      "Epoch 24/40\n",
      "2399/2399 [==============================] - 0s 42us/step - loss: 0.5253 - acc: 0.9967 - val_loss: 0.6845 - val_acc: 1.0000\n",
      "Epoch 25/40\n",
      "2399/2399 [==============================] - 0s 43us/step - loss: 0.5199 - acc: 0.9967 - val_loss: 0.6822 - val_acc: 1.0000\n",
      "Epoch 26/40\n",
      "2399/2399 [==============================] - 0s 49us/step - loss: 0.5145 - acc: 0.9967 - val_loss: 0.6599 - val_acc: 1.0000\n",
      "Epoch 27/40\n",
      "2399/2399 [==============================] - 0s 50us/step - loss: 0.5094 - acc: 0.9967 - val_loss: 0.6508 - val_acc: 1.0000\n",
      "Epoch 28/40\n",
      "2399/2399 [==============================] - 0s 44us/step - loss: 0.5042 - acc: 0.9967 - val_loss: 0.6466 - val_acc: 1.0000\n",
      "Epoch 29/40\n",
      "2399/2399 [==============================] - 0s 43us/step - loss: 0.4991 - acc: 0.9967 - val_loss: 0.6548 - val_acc: 1.0000\n",
      "Epoch 30/40\n",
      "2399/2399 [==============================] - 0s 29us/step - loss: 0.4941 - acc: 0.9967 - val_loss: 0.6454 - val_acc: 1.0000\n",
      "Epoch 31/40\n",
      "2399/2399 [==============================] - 0s 41us/step - loss: 0.4892 - acc: 0.9967 - val_loss: 0.6333 - val_acc: 1.0000\n",
      "Epoch 32/40\n",
      "2399/2399 [==============================] - 0s 29us/step - loss: 0.4844 - acc: 0.9967 - val_loss: 0.6237 - val_acc: 1.0000\n",
      "Epoch 33/40\n",
      "2399/2399 [==============================] - 0s 38us/step - loss: 0.4796 - acc: 0.9967 - val_loss: 0.6173 - val_acc: 1.0000\n",
      "Epoch 34/40\n",
      "2399/2399 [==============================] - 0s 48us/step - loss: 0.4750 - acc: 0.9962 - val_loss: 0.6070 - val_acc: 1.0000\n",
      "Epoch 35/40\n",
      "2399/2399 [==============================] - 0s 49us/step - loss: 0.4703 - acc: 0.9967 - val_loss: 0.6085 - val_acc: 1.0000\n",
      "Epoch 36/40\n",
      "2399/2399 [==============================] - 0s 46us/step - loss: 0.4657 - acc: 0.9971 - val_loss: 0.5933 - val_acc: 1.0000\n",
      "Epoch 37/40\n",
      "2399/2399 [==============================] - 0s 29us/step - loss: 0.4614 - acc: 0.9971 - val_loss: 0.6040 - val_acc: 1.0000\n",
      "Epoch 38/40\n",
      "2399/2399 [==============================] - 0s 24us/step - loss: 0.4569 - acc: 0.9971 - val_loss: 0.5902 - val_acc: 1.0000\n",
      "Epoch 39/40\n",
      "2399/2399 [==============================] - 0s 21us/step - loss: 0.4524 - acc: 0.9967 - val_loss: 0.5901 - val_acc: 1.0000\n",
      "Epoch 40/40\n",
      "2399/2399 [==============================] - 0s 22us/step - loss: 0.4480 - acc: 0.9967 - val_loss: 0.5764 - val_acc: 1.0000\n"
     ]
    },
    {
     "data": {
      "text/plain": [
       "<keras.callbacks.History at 0x21c78d0ee48>"
      ]
     },
     "execution_count": 20,
     "metadata": {},
     "output_type": "execute_result"
    }
   ],
   "source": [
    "model1.fit(X_train, y_train, validation_data = (X_val, y_val), epochs = 40, batch_size = 64)"
   ]
  },
  {
   "cell_type": "code",
   "execution_count": 21,
   "metadata": {},
   "outputs": [],
   "source": [
    "model1.save('svr_all_symbols.h5')"
   ]
  },
  {
   "cell_type": "code",
   "execution_count": null,
   "metadata": {},
   "outputs": [],
   "source": []
  }
 ],
 "metadata": {
  "kernelspec": {
   "display_name": "Python 3",
   "language": "python",
   "name": "python3"
  },
  "language_info": {
   "codemirror_mode": {
    "name": "ipython",
    "version": 3
   },
   "file_extension": ".py",
   "mimetype": "text/x-python",
   "name": "python",
   "nbconvert_exporter": "python",
   "pygments_lexer": "ipython3",
   "version": "3.7.3"
  }
 },
 "nbformat": 4,
 "nbformat_minor": 2
}
