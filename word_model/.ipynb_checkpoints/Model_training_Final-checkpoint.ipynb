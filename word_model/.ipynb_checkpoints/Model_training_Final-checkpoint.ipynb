{
 "cells": [
  {
   "cell_type": "code",
   "execution_count": 1,
   "metadata": {},
   "outputs": [
    {
     "name": "stderr",
     "output_type": "stream",
     "text": [
      "Using TensorFlow backend.\n"
     ]
    }
   ],
   "source": [
    "import os\n",
    "import time\n",
    "import glob\n",
    "\n",
    "import pandas as pd\n",
    "import numpy as np\n",
    "\n",
    "from sklearn import preprocessing\n",
    "\n",
    "from keras.utils.np_utils import to_categorical\n",
    "\n",
    "from keras.models import Sequential\n",
    "\n",
    "from sklearn.utils import shuffle\n",
    "\n",
    "from keras.models import Sequential\n",
    "\n",
    "from keras.layers import Dense\n",
    "\n",
    "from keras.layers import BatchNormalization\n",
    "\n",
    "from sklearn.model_selection import train_test_split"
   ]
  },
  {
   "cell_type": "code",
   "execution_count": 2,
   "metadata": {},
   "outputs": [
    {
     "name": "stdout",
     "output_type": "stream",
     "text": [
      "C:\\Users\\Puneet\\Documents\\svr_project_final\\word_model\n"
     ]
    }
   ],
   "source": [
    "execution_path = os.getcwd()\n",
    "print(execution_path)"
   ]
  },
  {
   "cell_type": "code",
   "execution_count": 3,
   "metadata": {},
   "outputs": [],
   "source": [
    "combined_csv = pd.read_csv(os.path.join(execution_path, 'combined_12_signs.csv'))"
   ]
  },
  {
   "cell_type": "code",
   "execution_count": 4,
   "metadata": {},
   "outputs": [
    {
     "data": {
      "text/html": [
       "<div>\n",
       "<style scoped>\n",
       "    .dataframe tbody tr th:only-of-type {\n",
       "        vertical-align: middle;\n",
       "    }\n",
       "\n",
       "    .dataframe tbody tr th {\n",
       "        vertical-align: top;\n",
       "    }\n",
       "\n",
       "    .dataframe thead th {\n",
       "        text-align: right;\n",
       "    }\n",
       "</style>\n",
       "<table border=\"1\" class=\"dataframe\">\n",
       "  <thead>\n",
       "    <tr style=\"text-align: right;\">\n",
       "      <th></th>\n",
       "      <th>0</th>\n",
       "      <th>1</th>\n",
       "      <th>2</th>\n",
       "      <th>3</th>\n",
       "      <th>4</th>\n",
       "      <th>5</th>\n",
       "      <th>6</th>\n",
       "      <th>7</th>\n",
       "      <th>8</th>\n",
       "      <th>9</th>\n",
       "      <th>10</th>\n",
       "      <th>11</th>\n",
       "      <th>12</th>\n",
       "    </tr>\n",
       "  </thead>\n",
       "  <tbody>\n",
       "    <tr>\n",
       "      <th>0</th>\n",
       "      <td>0.10</td>\n",
       "      <td>0.96</td>\n",
       "      <td>0.18</td>\n",
       "      <td>255</td>\n",
       "      <td>255</td>\n",
       "      <td>255</td>\n",
       "      <td>255</td>\n",
       "      <td>220</td>\n",
       "      <td>929</td>\n",
       "      <td>1</td>\n",
       "      <td>1</td>\n",
       "      <td>1</td>\n",
       "      <td>1</td>\n",
       "    </tr>\n",
       "    <tr>\n",
       "      <th>1</th>\n",
       "      <td>0.08</td>\n",
       "      <td>0.97</td>\n",
       "      <td>0.14</td>\n",
       "      <td>252</td>\n",
       "      <td>255</td>\n",
       "      <td>255</td>\n",
       "      <td>255</td>\n",
       "      <td>223</td>\n",
       "      <td>931</td>\n",
       "      <td>1</td>\n",
       "      <td>1</td>\n",
       "      <td>1</td>\n",
       "      <td>1</td>\n",
       "    </tr>\n",
       "    <tr>\n",
       "      <th>2</th>\n",
       "      <td>0.38</td>\n",
       "      <td>0.93</td>\n",
       "      <td>0.09</td>\n",
       "      <td>252</td>\n",
       "      <td>255</td>\n",
       "      <td>255</td>\n",
       "      <td>255</td>\n",
       "      <td>210</td>\n",
       "      <td>930</td>\n",
       "      <td>1</td>\n",
       "      <td>1</td>\n",
       "      <td>1</td>\n",
       "      <td>1</td>\n",
       "    </tr>\n",
       "    <tr>\n",
       "      <th>3</th>\n",
       "      <td>0.38</td>\n",
       "      <td>0.93</td>\n",
       "      <td>0.10</td>\n",
       "      <td>255</td>\n",
       "      <td>255</td>\n",
       "      <td>255</td>\n",
       "      <td>255</td>\n",
       "      <td>213</td>\n",
       "      <td>930</td>\n",
       "      <td>1</td>\n",
       "      <td>1</td>\n",
       "      <td>1</td>\n",
       "      <td>1</td>\n",
       "    </tr>\n",
       "    <tr>\n",
       "      <th>4</th>\n",
       "      <td>0.22</td>\n",
       "      <td>0.96</td>\n",
       "      <td>0.08</td>\n",
       "      <td>255</td>\n",
       "      <td>255</td>\n",
       "      <td>255</td>\n",
       "      <td>255</td>\n",
       "      <td>215</td>\n",
       "      <td>929</td>\n",
       "      <td>1</td>\n",
       "      <td>1</td>\n",
       "      <td>1</td>\n",
       "      <td>1</td>\n",
       "    </tr>\n",
       "    <tr>\n",
       "      <th>5</th>\n",
       "      <td>0.18</td>\n",
       "      <td>0.96</td>\n",
       "      <td>0.08</td>\n",
       "      <td>255</td>\n",
       "      <td>255</td>\n",
       "      <td>255</td>\n",
       "      <td>255</td>\n",
       "      <td>213</td>\n",
       "      <td>929</td>\n",
       "      <td>1</td>\n",
       "      <td>1</td>\n",
       "      <td>1</td>\n",
       "      <td>1</td>\n",
       "    </tr>\n",
       "    <tr>\n",
       "      <th>6</th>\n",
       "      <td>0.23</td>\n",
       "      <td>0.95</td>\n",
       "      <td>0.05</td>\n",
       "      <td>255</td>\n",
       "      <td>255</td>\n",
       "      <td>255</td>\n",
       "      <td>255</td>\n",
       "      <td>215</td>\n",
       "      <td>929</td>\n",
       "      <td>1</td>\n",
       "      <td>1</td>\n",
       "      <td>1</td>\n",
       "      <td>1</td>\n",
       "    </tr>\n",
       "    <tr>\n",
       "      <th>7</th>\n",
       "      <td>0.18</td>\n",
       "      <td>0.97</td>\n",
       "      <td>0.07</td>\n",
       "      <td>255</td>\n",
       "      <td>255</td>\n",
       "      <td>255</td>\n",
       "      <td>255</td>\n",
       "      <td>215</td>\n",
       "      <td>930</td>\n",
       "      <td>1</td>\n",
       "      <td>1</td>\n",
       "      <td>1</td>\n",
       "      <td>1</td>\n",
       "    </tr>\n",
       "    <tr>\n",
       "      <th>8</th>\n",
       "      <td>0.18</td>\n",
       "      <td>0.96</td>\n",
       "      <td>0.08</td>\n",
       "      <td>255</td>\n",
       "      <td>255</td>\n",
       "      <td>255</td>\n",
       "      <td>255</td>\n",
       "      <td>212</td>\n",
       "      <td>930</td>\n",
       "      <td>1</td>\n",
       "      <td>1</td>\n",
       "      <td>1</td>\n",
       "      <td>1</td>\n",
       "    </tr>\n",
       "    <tr>\n",
       "      <th>9</th>\n",
       "      <td>0.22</td>\n",
       "      <td>0.97</td>\n",
       "      <td>0.04</td>\n",
       "      <td>255</td>\n",
       "      <td>255</td>\n",
       "      <td>255</td>\n",
       "      <td>255</td>\n",
       "      <td>216</td>\n",
       "      <td>933</td>\n",
       "      <td>1</td>\n",
       "      <td>1</td>\n",
       "      <td>1</td>\n",
       "      <td>1</td>\n",
       "    </tr>\n",
       "  </tbody>\n",
       "</table>\n",
       "</div>"
      ],
      "text/plain": [
       "      0     1     2    3    4    5    6    7    8  9  10  11  12\n",
       "0  0.10  0.96  0.18  255  255  255  255  220  929  1   1   1   1\n",
       "1  0.08  0.97  0.14  252  255  255  255  223  931  1   1   1   1\n",
       "2  0.38  0.93  0.09  252  255  255  255  210  930  1   1   1   1\n",
       "3  0.38  0.93  0.10  255  255  255  255  213  930  1   1   1   1\n",
       "4  0.22  0.96  0.08  255  255  255  255  215  929  1   1   1   1\n",
       "5  0.18  0.96  0.08  255  255  255  255  213  929  1   1   1   1\n",
       "6  0.23  0.95  0.05  255  255  255  255  215  929  1   1   1   1\n",
       "7  0.18  0.97  0.07  255  255  255  255  215  930  1   1   1   1\n",
       "8  0.18  0.96  0.08  255  255  255  255  212  930  1   1   1   1\n",
       "9  0.22  0.97  0.04  255  255  255  255  216  933  1   1   1   1"
      ]
     },
     "execution_count": 4,
     "metadata": {},
     "output_type": "execute_result"
    }
   ],
   "source": [
    "combined_csv[0:10]"
   ]
  },
  {
   "cell_type": "code",
   "execution_count": 5,
   "metadata": {},
   "outputs": [
    {
     "name": "stdout",
     "output_type": "stream",
     "text": [
      "(1500, 13)\n"
     ]
    }
   ],
   "source": [
    "X_numpy = combined_csv.values\n",
    "print(X_numpy.shape)"
   ]
  },
  {
   "cell_type": "code",
   "execution_count": 6,
   "metadata": {},
   "outputs": [
    {
     "name": "stdout",
     "output_type": "stream",
     "text": [
      "[1.000e+00 1.000e+00 1.000e+00 2.550e+02 2.550e+02 2.550e+02 2.550e+02\n",
      " 2.550e+02 1.023e+03 1.000e+00 1.000e+00 1.000e+00 1.000e+00]\n",
      "(1500, 13)\n"
     ]
    }
   ],
   "source": [
    "norm_array = np.array([1, 1, 1, 255.0, 255.0, 255.0, 255.0, 255.0, 1023.0, 1, 1, 1, 1])\n",
    "print(norm_array)\n",
    "\n",
    "normalized_X = X_numpy / norm_array[None, :]\n",
    "print(normalized_X.shape)"
   ]
  },
  {
   "cell_type": "code",
   "execution_count": 7,
   "metadata": {},
   "outputs": [
    {
     "data": {
      "text/plain": [
       "array([0.1       , 0.96      , 0.18      , 1.        , 1.        ,\n",
       "       1.        , 1.        , 0.8627451 , 0.90811339, 1.        ,\n",
       "       1.        , 1.        , 1.        ])"
      ]
     },
     "execution_count": 7,
     "metadata": {},
     "output_type": "execute_result"
    }
   ],
   "source": [
    "normalized_X[0]"
   ]
  },
  {
   "cell_type": "code",
   "execution_count": 8,
   "metadata": {},
   "outputs": [],
   "source": [
    "combined_csv_labels = pd.read_csv(os.path.join(execution_path, \"combined_12_signs_labels.csv\"))"
   ]
  },
  {
   "cell_type": "code",
   "execution_count": 9,
   "metadata": {},
   "outputs": [
    {
     "data": {
      "text/html": [
       "<div>\n",
       "<style scoped>\n",
       "    .dataframe tbody tr th:only-of-type {\n",
       "        vertical-align: middle;\n",
       "    }\n",
       "\n",
       "    .dataframe tbody tr th {\n",
       "        vertical-align: top;\n",
       "    }\n",
       "\n",
       "    .dataframe thead th {\n",
       "        text-align: right;\n",
       "    }\n",
       "</style>\n",
       "<table border=\"1\" class=\"dataframe\">\n",
       "  <thead>\n",
       "    <tr style=\"text-align: right;\">\n",
       "      <th></th>\n",
       "      <th>0</th>\n",
       "    </tr>\n",
       "  </thead>\n",
       "  <tbody>\n",
       "    <tr>\n",
       "      <th>0</th>\n",
       "      <td>0</td>\n",
       "    </tr>\n",
       "    <tr>\n",
       "      <th>1</th>\n",
       "      <td>0</td>\n",
       "    </tr>\n",
       "    <tr>\n",
       "      <th>2</th>\n",
       "      <td>0</td>\n",
       "    </tr>\n",
       "    <tr>\n",
       "      <th>3</th>\n",
       "      <td>0</td>\n",
       "    </tr>\n",
       "    <tr>\n",
       "      <th>4</th>\n",
       "      <td>0</td>\n",
       "    </tr>\n",
       "    <tr>\n",
       "      <th>5</th>\n",
       "      <td>0</td>\n",
       "    </tr>\n",
       "    <tr>\n",
       "      <th>6</th>\n",
       "      <td>0</td>\n",
       "    </tr>\n",
       "    <tr>\n",
       "      <th>7</th>\n",
       "      <td>0</td>\n",
       "    </tr>\n",
       "    <tr>\n",
       "      <th>8</th>\n",
       "      <td>0</td>\n",
       "    </tr>\n",
       "    <tr>\n",
       "      <th>9</th>\n",
       "      <td>0</td>\n",
       "    </tr>\n",
       "  </tbody>\n",
       "</table>\n",
       "</div>"
      ],
      "text/plain": [
       "   0\n",
       "0  0\n",
       "1  0\n",
       "2  0\n",
       "3  0\n",
       "4  0\n",
       "5  0\n",
       "6  0\n",
       "7  0\n",
       "8  0\n",
       "9  0"
      ]
     },
     "execution_count": 9,
     "metadata": {},
     "output_type": "execute_result"
    }
   ],
   "source": [
    "combined_csv_labels[0:10]"
   ]
  },
  {
   "cell_type": "code",
   "execution_count": 10,
   "metadata": {},
   "outputs": [
    {
     "name": "stdout",
     "output_type": "stream",
     "text": [
      "(1500, 1)\n",
      "(1500, 15)\n"
     ]
    }
   ],
   "source": [
    "Y_numpy = combined_csv_labels.values\n",
    "print(Y_numpy.shape)\n",
    "\n",
    "labels_one_hot = to_categorical(Y_numpy)\n",
    "print(labels_one_hot.shape)"
   ]
  },
  {
   "cell_type": "code",
   "execution_count": 11,
   "metadata": {},
   "outputs": [
    {
     "name": "stdout",
     "output_type": "stream",
     "text": [
      "(1500, 13)\n"
     ]
    }
   ],
   "source": [
    "final_dataset, final_labels = shuffle(normalized_X, labels_one_hot)\n",
    "\n",
    "print(final_dataset.shape)"
   ]
  },
  {
   "cell_type": "code",
   "execution_count": 12,
   "metadata": {},
   "outputs": [
    {
     "name": "stdout",
     "output_type": "stream",
     "text": [
      "(1425, 13)\n",
      "(1425, 15)\n",
      "(75, 13)\n",
      "(75, 15)\n"
     ]
    }
   ],
   "source": [
    "X_train, X_val, y_train, y_val = train_test_split(final_dataset, final_labels, test_size=0.05, random_state=1)\n",
    "\n",
    "print(X_train.shape)\n",
    "print(y_train.shape)\n",
    "\n",
    "print(X_val.shape)\n",
    "print(y_val.shape)"
   ]
  },
  {
   "cell_type": "code",
   "execution_count": 13,
   "metadata": {},
   "outputs": [
    {
     "name": "stdout",
     "output_type": "stream",
     "text": [
      "13\n"
     ]
    }
   ],
   "source": [
    "input_shape = X_train.shape[1]\n",
    "\n",
    "print(input_shape)"
   ]
  },
  {
   "cell_type": "code",
   "execution_count": 15,
   "metadata": {},
   "outputs": [],
   "source": [
    "model1 = Sequential()\n",
    "\n",
    "model1.add(Dense(input_shape = (13,), units = 15, activation = 'softmax'))\n",
    "\n",
    "#model.add(Dense(units = 8, activation = 'sigmoid'))\n",
    "\n",
    "model1.compile(optimizer = 'adam', loss = 'categorical_crossentropy', metrics = ['accuracy'])"
   ]
  },
  {
   "cell_type": "code",
   "execution_count": 16,
   "metadata": {},
   "outputs": [
    {
     "name": "stdout",
     "output_type": "stream",
     "text": [
      "_________________________________________________________________\n",
      "Layer (type)                 Output Shape              Param #   \n",
      "=================================================================\n",
      "dense_2 (Dense)              (None, 15)                210       \n",
      "=================================================================\n",
      "Total params: 210\n",
      "Trainable params: 210\n",
      "Non-trainable params: 0\n",
      "_________________________________________________________________\n"
     ]
    }
   ],
   "source": [
    "model1.summary()"
   ]
  },
  {
   "cell_type": "code",
   "execution_count": 17,
   "metadata": {},
   "outputs": [
    {
     "name": "stdout",
     "output_type": "stream",
     "text": [
      "WARNING:tensorflow:From C:\\Users\\Puneet\\Anaconda3\\lib\\site-packages\\tensorflow\\python\\ops\\math_ops.py:3066: to_int32 (from tensorflow.python.ops.math_ops) is deprecated and will be removed in a future version.\n",
      "Instructions for updating:\n",
      "Use tf.cast instead.\n",
      "Train on 1425 samples, validate on 75 samples\n",
      "Epoch 1/40\n",
      "1425/1425 [==============================] - 0s 346us/step - loss: 2.7538 - acc: 0.0014 - val_loss: 2.7585 - val_acc: 0.0000e+00\n",
      "Epoch 2/40\n",
      "1425/1425 [==============================] - 0s 19us/step - loss: 2.6535 - acc: 7.0175e-04 - val_loss: 2.6589 - val_acc: 0.0000e+00\n",
      "Epoch 3/40\n",
      "1425/1425 [==============================] - 0s 25us/step - loss: 2.5660 - acc: 0.0028 - val_loss: 2.5706 - val_acc: 0.0000e+00\n",
      "Epoch 4/40\n",
      "1425/1425 [==============================] - 0s 27us/step - loss: 2.4875 - acc: 0.0926 - val_loss: 2.4899 - val_acc: 0.0933\n",
      "Epoch 5/40\n",
      "1425/1425 [==============================] - 0s 28us/step - loss: 2.4166 - acc: 0.2119 - val_loss: 2.4154 - val_acc: 0.2267\n",
      "Epoch 6/40\n",
      "1425/1425 [==============================] - 0s 29us/step - loss: 2.3496 - acc: 0.2996 - val_loss: 2.3453 - val_acc: 0.2400\n",
      "Epoch 7/40\n",
      "1425/1425 [==============================] - 0s 26us/step - loss: 2.2870 - acc: 0.3235 - val_loss: 2.2823 - val_acc: 0.2800\n",
      "Epoch 8/40\n",
      "1425/1425 [==============================] - 0s 26us/step - loss: 2.2275 - acc: 0.3789 - val_loss: 2.2191 - val_acc: 0.3467\n",
      "Epoch 9/40\n",
      "1425/1425 [==============================] - 0s 25us/step - loss: 2.1705 - acc: 0.4498 - val_loss: 2.1602 - val_acc: 0.5200\n",
      "Epoch 10/40\n",
      "1425/1425 [==============================] - 0s 27us/step - loss: 2.1159 - acc: 0.5509 - val_loss: 2.1025 - val_acc: 0.5467\n",
      "Epoch 11/40\n",
      "1425/1425 [==============================] - 0s 32us/step - loss: 2.0626 - acc: 0.5972 - val_loss: 2.0488 - val_acc: 0.5733\n",
      "Epoch 12/40\n",
      "1425/1425 [==============================] - 0s 27us/step - loss: 2.0111 - acc: 0.6379 - val_loss: 1.9939 - val_acc: 0.6000\n",
      "Epoch 13/40\n",
      "1425/1425 [==============================] - 0s 28us/step - loss: 1.9615 - acc: 0.6533 - val_loss: 1.9421 - val_acc: 0.6400\n",
      "Epoch 14/40\n",
      "1425/1425 [==============================] - 0s 32us/step - loss: 1.9131 - acc: 0.7088 - val_loss: 1.8936 - val_acc: 0.7467\n",
      "Epoch 15/40\n",
      "1425/1425 [==============================] - 0s 34us/step - loss: 1.8662 - acc: 0.7439 - val_loss: 1.8450 - val_acc: 0.7733\n",
      "Epoch 16/40\n",
      "1425/1425 [==============================] - 0s 39us/step - loss: 1.8205 - acc: 0.7740 - val_loss: 1.7994 - val_acc: 0.7733\n",
      "Epoch 17/40\n",
      "1425/1425 [==============================] - 0s 27us/step - loss: 1.7759 - acc: 0.8204 - val_loss: 1.7550 - val_acc: 0.8267\n",
      "Epoch 18/40\n",
      "1425/1425 [==============================] - 0s 34us/step - loss: 1.7324 - acc: 0.8667 - val_loss: 1.7118 - val_acc: 0.8800\n",
      "Epoch 19/40\n",
      "1425/1425 [==============================] - 0s 31us/step - loss: 1.6902 - acc: 0.8835 - val_loss: 1.6698 - val_acc: 0.9200\n",
      "Epoch 20/40\n",
      "1425/1425 [==============================] - 0s 36us/step - loss: 1.6492 - acc: 0.9032 - val_loss: 1.6297 - val_acc: 0.9200\n",
      "Epoch 21/40\n",
      "1425/1425 [==============================] - 0s 46us/step - loss: 1.6096 - acc: 0.9235 - val_loss: 1.5898 - val_acc: 0.9600\n",
      "Epoch 22/40\n",
      "1425/1425 [==============================] - 0s 51us/step - loss: 1.5701 - acc: 0.9635 - val_loss: 1.5504 - val_acc: 0.9733\n",
      "Epoch 23/40\n",
      "1425/1425 [==============================] - 0s 42us/step - loss: 1.5324 - acc: 0.9712 - val_loss: 1.5131 - val_acc: 0.9867\n",
      "Epoch 24/40\n",
      "1425/1425 [==============================] - 0s 46us/step - loss: 1.4957 - acc: 0.9719 - val_loss: 1.4767 - val_acc: 0.9867\n",
      "Epoch 25/40\n",
      "1425/1425 [==============================] - 0s 40us/step - loss: 1.4595 - acc: 0.9761 - val_loss: 1.4425 - val_acc: 0.9867\n",
      "Epoch 26/40\n",
      "1425/1425 [==============================] - 0s 33us/step - loss: 1.4247 - acc: 0.9832 - val_loss: 1.4081 - val_acc: 0.9867\n",
      "Epoch 27/40\n",
      "1425/1425 [==============================] - 0s 31us/step - loss: 1.3907 - acc: 0.9853 - val_loss: 1.3757 - val_acc: 0.9867\n",
      "Epoch 28/40\n",
      "1425/1425 [==============================] - 0s 32us/step - loss: 1.3576 - acc: 0.9853 - val_loss: 1.3428 - val_acc: 0.9867\n",
      "Epoch 29/40\n",
      "1425/1425 [==============================] - 0s 44us/step - loss: 1.3258 - acc: 0.9853 - val_loss: 1.3110 - val_acc: 0.9867\n",
      "Epoch 30/40\n",
      "1425/1425 [==============================] - 0s 60us/step - loss: 1.2946 - acc: 0.9853 - val_loss: 1.2811 - val_acc: 0.9867\n",
      "Epoch 31/40\n",
      "1425/1425 [==============================] - 0s 47us/step - loss: 1.2642 - acc: 0.9853 - val_loss: 1.2514 - val_acc: 0.9867\n",
      "Epoch 32/40\n",
      "1425/1425 [==============================] - 0s 54us/step - loss: 1.2348 - acc: 0.9853 - val_loss: 1.2216 - val_acc: 0.9867\n",
      "Epoch 33/40\n",
      "1425/1425 [==============================] - 0s 33us/step - loss: 1.2062 - acc: 0.9853 - val_loss: 1.1935 - val_acc: 0.9867\n",
      "Epoch 34/40\n",
      "1425/1425 [==============================] - 0s 43us/step - loss: 1.1782 - acc: 0.9853 - val_loss: 1.1652 - val_acc: 0.9867\n",
      "Epoch 35/40\n",
      "1425/1425 [==============================] - 0s 31us/step - loss: 1.1512 - acc: 0.9853 - val_loss: 1.1394 - val_acc: 0.9867\n",
      "Epoch 36/40\n",
      "1425/1425 [==============================] - 0s 27us/step - loss: 1.1248 - acc: 0.9853 - val_loss: 1.1138 - val_acc: 0.9867\n",
      "Epoch 37/40\n",
      "1425/1425 [==============================] - 0s 23us/step - loss: 1.0990 - acc: 0.9853 - val_loss: 1.0893 - val_acc: 0.9867\n",
      "Epoch 38/40\n",
      "1425/1425 [==============================] - 0s 25us/step - loss: 1.0744 - acc: 0.9853 - val_loss: 1.0649 - val_acc: 0.9867\n",
      "Epoch 39/40\n",
      "1425/1425 [==============================] - 0s 23us/step - loss: 1.0501 - acc: 0.9860 - val_loss: 1.0416 - val_acc: 0.9867\n",
      "Epoch 40/40\n",
      "1425/1425 [==============================] - 0s 23us/step - loss: 1.0265 - acc: 0.9895 - val_loss: 1.0188 - val_acc: 0.9867\n"
     ]
    },
    {
     "data": {
      "text/plain": [
       "<keras.callbacks.History at 0x14e741797b8>"
      ]
     },
     "execution_count": 17,
     "metadata": {},
     "output_type": "execute_result"
    }
   ],
   "source": [
    "model1.fit(X_train, y_train, validation_data = (X_val, y_val), epochs = 40, batch_size = 64)"
   ]
  },
  {
   "cell_type": "code",
   "execution_count": 18,
   "metadata": {},
   "outputs": [
    {
     "name": "stdout",
     "output_type": "stream",
     "text": [
      "Train on 1425 samples, validate on 75 samples\n",
      "Epoch 1/40\n",
      "1425/1425 [==============================] - 0s 23us/step - loss: 1.0033 - acc: 0.9965 - val_loss: 0.9962 - val_acc: 0.9867\n",
      "Epoch 2/40\n",
      "1425/1425 [==============================] - 0s 29us/step - loss: 0.9811 - acc: 0.9972 - val_loss: 0.9741 - val_acc: 0.9867\n",
      "Epoch 3/40\n",
      "1425/1425 [==============================] - 0s 27us/step - loss: 0.9596 - acc: 0.9979 - val_loss: 0.9538 - val_acc: 0.9867\n",
      "Epoch 4/40\n",
      "1425/1425 [==============================] - 0s 32us/step - loss: 0.9384 - acc: 0.9979 - val_loss: 0.9333 - val_acc: 0.9867\n",
      "Epoch 5/40\n",
      "1425/1425 [==============================] - 0s 29us/step - loss: 0.9179 - acc: 0.9979 - val_loss: 0.9137 - val_acc: 0.9867\n",
      "Epoch 6/40\n",
      "1425/1425 [==============================] - 0s 29us/step - loss: 0.8981 - acc: 0.9979 - val_loss: 0.8935 - val_acc: 0.9867\n",
      "Epoch 7/40\n",
      "1425/1425 [==============================] - 0s 30us/step - loss: 0.8787 - acc: 0.9979 - val_loss: 0.8746 - val_acc: 0.9867\n",
      "Epoch 8/40\n",
      "1425/1425 [==============================] - 0s 32us/step - loss: 0.8599 - acc: 0.9979 - val_loss: 0.8563 - val_acc: 0.9867\n",
      "Epoch 9/40\n",
      "1425/1425 [==============================] - 0s 30us/step - loss: 0.8416 - acc: 0.9979 - val_loss: 0.8385 - val_acc: 0.9867\n",
      "Epoch 10/40\n",
      "1425/1425 [==============================] - 0s 30us/step - loss: 0.8240 - acc: 0.9979 - val_loss: 0.8215 - val_acc: 0.9867\n",
      "Epoch 11/40\n",
      "1425/1425 [==============================] - 0s 36us/step - loss: 0.8065 - acc: 0.9979 - val_loss: 0.8044 - val_acc: 0.9867\n",
      "Epoch 12/40\n",
      "1425/1425 [==============================] - 0s 33us/step - loss: 0.7896 - acc: 0.9979 - val_loss: 0.7879 - val_acc: 0.9867\n",
      "Epoch 13/40\n",
      "1425/1425 [==============================] - 0s 32us/step - loss: 0.7730 - acc: 0.9979 - val_loss: 0.7707 - val_acc: 0.9867\n",
      "Epoch 14/40\n",
      "1425/1425 [==============================] - 0s 32us/step - loss: 0.7570 - acc: 0.9979 - val_loss: 0.7560 - val_acc: 0.9867\n",
      "Epoch 15/40\n",
      "1425/1425 [==============================] - 0s 37us/step - loss: 0.7414 - acc: 0.9979 - val_loss: 0.7407 - val_acc: 0.9867\n",
      "Epoch 16/40\n",
      "1425/1425 [==============================] - 0s 35us/step - loss: 0.7263 - acc: 0.9979 - val_loss: 0.7262 - val_acc: 0.9867\n",
      "Epoch 17/40\n",
      "1425/1425 [==============================] - 0s 35us/step - loss: 0.7117 - acc: 0.9979 - val_loss: 0.7119 - val_acc: 0.9867\n",
      "Epoch 18/40\n",
      "1425/1425 [==============================] - 0s 36us/step - loss: 0.6972 - acc: 0.9979 - val_loss: 0.6976 - val_acc: 0.9867\n",
      "Epoch 19/40\n",
      "1425/1425 [==============================] - 0s 45us/step - loss: 0.6832 - acc: 0.9979 - val_loss: 0.6834 - val_acc: 0.9867\n",
      "Epoch 20/40\n",
      "1425/1425 [==============================] - ETA: 0s - loss: 0.6799 - acc: 1.000 - 0s 36us/step - loss: 0.6697 - acc: 0.9979 - val_loss: 0.6705 - val_acc: 0.9867\n",
      "Epoch 21/40\n",
      "1425/1425 [==============================] - 0s 34us/step - loss: 0.6566 - acc: 0.9979 - val_loss: 0.6582 - val_acc: 0.9867\n",
      "Epoch 22/40\n",
      "1425/1425 [==============================] - 0s 32us/step - loss: 0.6437 - acc: 0.9979 - val_loss: 0.6449 - val_acc: 0.9867\n",
      "Epoch 23/40\n",
      "1425/1425 [==============================] - 0s 28us/step - loss: 0.6311 - acc: 0.9979 - val_loss: 0.6327 - val_acc: 0.9867\n",
      "Epoch 24/40\n",
      "1425/1425 [==============================] - 0s 28us/step - loss: 0.6189 - acc: 0.9979 - val_loss: 0.6203 - val_acc: 0.9867\n",
      "Epoch 25/40\n",
      "1425/1425 [==============================] - 0s 34us/step - loss: 0.6068 - acc: 0.9979 - val_loss: 0.6090 - val_acc: 0.9867\n",
      "Epoch 26/40\n",
      "1425/1425 [==============================] - 0s 37us/step - loss: 0.5952 - acc: 0.9979 - val_loss: 0.5973 - val_acc: 0.9867\n",
      "Epoch 27/40\n",
      "1425/1425 [==============================] - 0s 46us/step - loss: 0.5841 - acc: 0.9979 - val_loss: 0.5860 - val_acc: 0.9867\n",
      "Epoch 28/40\n",
      "1425/1425 [==============================] - 0s 38us/step - loss: 0.5730 - acc: 0.9979 - val_loss: 0.5757 - val_acc: 0.9867\n",
      "Epoch 29/40\n",
      "1425/1425 [==============================] - 0s 32us/step - loss: 0.5621 - acc: 0.9979 - val_loss: 0.5649 - val_acc: 0.9867\n",
      "Epoch 30/40\n",
      "1425/1425 [==============================] - 0s 39us/step - loss: 0.5517 - acc: 0.9979 - val_loss: 0.5548 - val_acc: 0.9867\n",
      "Epoch 31/40\n",
      "1425/1425 [==============================] - 0s 34us/step - loss: 0.5414 - acc: 0.9979 - val_loss: 0.5451 - val_acc: 0.9867\n",
      "Epoch 32/40\n",
      "1425/1425 [==============================] - 0s 30us/step - loss: 0.5315 - acc: 0.9979 - val_loss: 0.5351 - val_acc: 0.9867\n",
      "Epoch 33/40\n",
      "1425/1425 [==============================] - 0s 31us/step - loss: 0.5218 - acc: 0.9979 - val_loss: 0.5253 - val_acc: 0.9867\n",
      "Epoch 34/40\n",
      "1425/1425 [==============================] - 0s 45us/step - loss: 0.5122 - acc: 0.9979 - val_loss: 0.5161 - val_acc: 0.9867\n",
      "Epoch 35/40\n",
      "1425/1425 [==============================] - 0s 46us/step - loss: 0.5029 - acc: 0.9979 - val_loss: 0.5071 - val_acc: 0.9867\n",
      "Epoch 36/40\n",
      "1425/1425 [==============================] - 0s 43us/step - loss: 0.4941 - acc: 0.9979 - val_loss: 0.4984 - val_acc: 0.9867\n",
      "Epoch 37/40\n",
      "1425/1425 [==============================] - 0s 41us/step - loss: 0.4852 - acc: 0.9979 - val_loss: 0.4893 - val_acc: 0.9867\n",
      "Epoch 38/40\n",
      "1425/1425 [==============================] - 0s 30us/step - loss: 0.4766 - acc: 0.9979 - val_loss: 0.4809 - val_acc: 0.9867\n",
      "Epoch 39/40\n",
      "1425/1425 [==============================] - 0s 53us/step - loss: 0.4683 - acc: 0.9979 - val_loss: 0.4725 - val_acc: 0.9867\n",
      "Epoch 40/40\n",
      "1425/1425 [==============================] - 0s 34us/step - loss: 0.4600 - acc: 0.9979 - val_loss: 0.4642 - val_acc: 0.9867\n"
     ]
    },
    {
     "data": {
      "text/plain": [
       "<keras.callbacks.History at 0x14e74589ba8>"
      ]
     },
     "execution_count": 18,
     "metadata": {},
     "output_type": "execute_result"
    }
   ],
   "source": [
    "model1.fit(X_train, y_train, validation_data = (X_val, y_val), epochs = 40, batch_size = 64)"
   ]
  },
  {
   "cell_type": "code",
   "execution_count": 19,
   "metadata": {},
   "outputs": [
    {
     "name": "stdout",
     "output_type": "stream",
     "text": [
      "Train on 1425 samples, validate on 75 samples\n",
      "Epoch 1/40\n",
      "1425/1425 [==============================] - 0s 22us/step - loss: 0.4519 - acc: 0.9979 - val_loss: 0.4564 - val_acc: 0.9867\n",
      "Epoch 2/40\n",
      "1425/1425 [==============================] - 0s 31us/step - loss: 0.4442 - acc: 0.9979 - val_loss: 0.4488 - val_acc: 0.9867\n",
      "Epoch 3/40\n",
      "1425/1425 [==============================] - 0s 31us/step - loss: 0.4365 - acc: 0.9979 - val_loss: 0.4417 - val_acc: 0.9867\n",
      "Epoch 4/40\n",
      "1425/1425 [==============================] - 0s 31us/step - loss: 0.4291 - acc: 0.9979 - val_loss: 0.4345 - val_acc: 0.9867\n",
      "Epoch 5/40\n",
      "1425/1425 [==============================] - 0s 29us/step - loss: 0.4218 - acc: 0.9979 - val_loss: 0.4267 - val_acc: 0.9867\n",
      "Epoch 6/40\n",
      "1425/1425 [==============================] - 0s 31us/step - loss: 0.4147 - acc: 0.9979 - val_loss: 0.4201 - val_acc: 0.9867\n",
      "Epoch 7/40\n",
      "1425/1425 [==============================] - 0s 30us/step - loss: 0.4077 - acc: 0.9979 - val_loss: 0.4131 - val_acc: 0.9867\n",
      "Epoch 8/40\n",
      "1425/1425 [==============================] - 0s 32us/step - loss: 0.4009 - acc: 0.9979 - val_loss: 0.4064 - val_acc: 0.9867\n",
      "Epoch 9/40\n",
      "1425/1425 [==============================] - 0s 32us/step - loss: 0.3943 - acc: 0.9979 - val_loss: 0.3998 - val_acc: 0.9867\n",
      "Epoch 10/40\n",
      "1425/1425 [==============================] - 0s 32us/step - loss: 0.3878 - acc: 0.9979 - val_loss: 0.3937 - val_acc: 0.9867\n",
      "Epoch 11/40\n",
      "1425/1425 [==============================] - 0s 28us/step - loss: 0.3814 - acc: 0.9979 - val_loss: 0.3877 - val_acc: 0.9867\n",
      "Epoch 12/40\n",
      "1425/1425 [==============================] - 0s 34us/step - loss: 0.3752 - acc: 0.9979 - val_loss: 0.3816 - val_acc: 0.9867\n",
      "Epoch 13/40\n",
      "1425/1425 [==============================] - 0s 32us/step - loss: 0.3691 - acc: 0.9979 - val_loss: 0.3752 - val_acc: 0.9867\n",
      "Epoch 14/40\n",
      "1425/1425 [==============================] - 0s 34us/step - loss: 0.3631 - acc: 0.9979 - val_loss: 0.3694 - val_acc: 0.9867\n",
      "Epoch 15/40\n",
      "1425/1425 [==============================] - 0s 34us/step - loss: 0.3573 - acc: 0.9979 - val_loss: 0.3639 - val_acc: 0.9867\n",
      "Epoch 16/40\n",
      "1425/1425 [==============================] - 0s 29us/step - loss: 0.3517 - acc: 0.9979 - val_loss: 0.3580 - val_acc: 0.9867\n",
      "Epoch 17/40\n",
      "1425/1425 [==============================] - 0s 33us/step - loss: 0.3460 - acc: 0.9979 - val_loss: 0.3526 - val_acc: 0.9867\n",
      "Epoch 18/40\n",
      "1425/1425 [==============================] - 0s 38us/step - loss: 0.3406 - acc: 0.9979 - val_loss: 0.3471 - val_acc: 0.9867\n",
      "Epoch 19/40\n",
      "1425/1425 [==============================] - 0s 34us/step - loss: 0.3353 - acc: 0.9979 - val_loss: 0.3417 - val_acc: 0.9867\n",
      "Epoch 20/40\n",
      "1425/1425 [==============================] - 0s 44us/step - loss: 0.3301 - acc: 0.9979 - val_loss: 0.3369 - val_acc: 0.9867\n",
      "Epoch 21/40\n",
      "1425/1425 [==============================] - 0s 35us/step - loss: 0.3250 - acc: 0.9979 - val_loss: 0.3318 - val_acc: 0.9867\n",
      "Epoch 22/40\n",
      "1425/1425 [==============================] - 0s 33us/step - loss: 0.3201 - acc: 0.9979 - val_loss: 0.3269 - val_acc: 0.9867\n",
      "Epoch 23/40\n",
      "1425/1425 [==============================] - 0s 28us/step - loss: 0.3151 - acc: 0.9979 - val_loss: 0.3220 - val_acc: 0.9867\n",
      "Epoch 24/40\n",
      "1425/1425 [==============================] - 0s 32us/step - loss: 0.3103 - acc: 0.9979 - val_loss: 0.3172 - val_acc: 0.9867\n",
      "Epoch 25/40\n",
      "1425/1425 [==============================] - 0s 50us/step - loss: 0.3056 - acc: 0.9979 - val_loss: 0.3125 - val_acc: 0.9867\n",
      "Epoch 26/40\n",
      "1425/1425 [==============================] - 0s 32us/step - loss: 0.3010 - acc: 0.9979 - val_loss: 0.3080 - val_acc: 0.9867\n",
      "Epoch 27/40\n",
      "1425/1425 [==============================] - 0s 35us/step - loss: 0.2965 - acc: 0.9979 - val_loss: 0.3036 - val_acc: 0.9867\n",
      "Epoch 28/40\n",
      "1425/1425 [==============================] - 0s 30us/step - loss: 0.2920 - acc: 0.9979 - val_loss: 0.2989 - val_acc: 0.9867\n",
      "Epoch 29/40\n",
      "1425/1425 [==============================] - 0s 30us/step - loss: 0.2877 - acc: 0.9979 - val_loss: 0.2950 - val_acc: 0.9867\n",
      "Epoch 30/40\n",
      "1425/1425 [==============================] - 0s 31us/step - loss: 0.2835 - acc: 0.9979 - val_loss: 0.2907 - val_acc: 0.9867\n",
      "Epoch 31/40\n",
      "1425/1425 [==============================] - 0s 29us/step - loss: 0.2793 - acc: 0.9979 - val_loss: 0.2864 - val_acc: 0.9867\n",
      "Epoch 32/40\n",
      "1425/1425 [==============================] - 0s 29us/step - loss: 0.2752 - acc: 0.9979 - val_loss: 0.2823 - val_acc: 0.9867\n",
      "Epoch 33/40\n",
      "1425/1425 [==============================] - 0s 34us/step - loss: 0.2712 - acc: 0.9979 - val_loss: 0.2786 - val_acc: 0.9867\n",
      "Epoch 34/40\n",
      "1425/1425 [==============================] - 0s 43us/step - loss: 0.2673 - acc: 0.9979 - val_loss: 0.2750 - val_acc: 0.9867\n",
      "Epoch 35/40\n",
      "1425/1425 [==============================] - 0s 54us/step - loss: 0.2634 - acc: 0.9979 - val_loss: 0.2713 - val_acc: 0.9867\n",
      "Epoch 36/40\n",
      "1425/1425 [==============================] - 0s 48us/step - loss: 0.2597 - acc: 0.9979 - val_loss: 0.2676 - val_acc: 0.9867\n",
      "Epoch 37/40\n",
      "1425/1425 [==============================] - 0s 41us/step - loss: 0.2560 - acc: 0.9979 - val_loss: 0.2635 - val_acc: 0.9867\n",
      "Epoch 38/40\n",
      "1425/1425 [==============================] - 0s 39us/step - loss: 0.2524 - acc: 0.9979 - val_loss: 0.2604 - val_acc: 0.9867\n",
      "Epoch 39/40\n",
      "1425/1425 [==============================] - 0s 28us/step - loss: 0.2488 - acc: 0.9979 - val_loss: 0.2569 - val_acc: 0.9867\n",
      "Epoch 40/40\n",
      "1425/1425 [==============================] - 0s 29us/step - loss: 0.2453 - acc: 0.9979 - val_loss: 0.2534 - val_acc: 0.9867\n"
     ]
    },
    {
     "data": {
      "text/plain": [
       "<keras.callbacks.History at 0x14e74589208>"
      ]
     },
     "execution_count": 19,
     "metadata": {},
     "output_type": "execute_result"
    }
   ],
   "source": [
    "model1.fit(X_train, y_train, validation_data = (X_val, y_val), epochs = 40, batch_size = 64)"
   ]
  },
  {
   "cell_type": "code",
   "execution_count": 20,
   "metadata": {},
   "outputs": [
    {
     "name": "stdout",
     "output_type": "stream",
     "text": [
      "Train on 1425 samples, validate on 75 samples\n",
      "Epoch 1/40\n",
      "1425/1425 [==============================] - 0s 21us/step - loss: 0.2419 - acc: 0.9979 - val_loss: 0.2500 - val_acc: 0.9867\n",
      "Epoch 2/40\n",
      "1425/1425 [==============================] - 0s 33us/step - loss: 0.2385 - acc: 0.9979 - val_loss: 0.2466 - val_acc: 0.9867\n",
      "Epoch 3/40\n",
      "1425/1425 [==============================] - 0s 34us/step - loss: 0.2352 - acc: 0.9979 - val_loss: 0.2433 - val_acc: 0.9867\n",
      "Epoch 4/40\n",
      "1425/1425 [==============================] - 0s 31us/step - loss: 0.2320 - acc: 0.9979 - val_loss: 0.2399 - val_acc: 0.9867\n",
      "Epoch 5/40\n",
      "1425/1425 [==============================] - 0s 30us/step - loss: 0.2288 - acc: 0.9979 - val_loss: 0.2370 - val_acc: 0.9867\n",
      "Epoch 6/40\n",
      "1425/1425 [==============================] - 0s 32us/step - loss: 0.2257 - acc: 0.9979 - val_loss: 0.2342 - val_acc: 0.9867\n",
      "Epoch 7/40\n",
      "1425/1425 [==============================] - 0s 29us/step - loss: 0.2226 - acc: 0.9979 - val_loss: 0.2309 - val_acc: 0.9867\n",
      "Epoch 8/40\n",
      "1425/1425 [==============================] - 0s 34us/step - loss: 0.2196 - acc: 0.9979 - val_loss: 0.2281 - val_acc: 0.9867\n",
      "Epoch 9/40\n",
      "1425/1425 [==============================] - 0s 34us/step - loss: 0.2166 - acc: 0.9979 - val_loss: 0.2252 - val_acc: 0.9867\n",
      "Epoch 10/40\n",
      "1425/1425 [==============================] - 0s 34us/step - loss: 0.2137 - acc: 0.9979 - val_loss: 0.2225 - val_acc: 0.9867\n",
      "Epoch 11/40\n",
      "1425/1425 [==============================] - 0s 30us/step - loss: 0.2109 - acc: 0.9979 - val_loss: 0.2197 - val_acc: 0.9867\n",
      "Epoch 12/40\n",
      "1425/1425 [==============================] - 0s 30us/step - loss: 0.2081 - acc: 0.9979 - val_loss: 0.2169 - val_acc: 0.9867\n",
      "Epoch 13/40\n",
      "1425/1425 [==============================] - 0s 32us/step - loss: 0.2054 - acc: 0.9979 - val_loss: 0.2141 - val_acc: 0.9867\n",
      "Epoch 14/40\n",
      "1425/1425 [==============================] - 0s 31us/step - loss: 0.2026 - acc: 0.9979 - val_loss: 0.2113 - val_acc: 0.9867\n",
      "Epoch 15/40\n",
      "1425/1425 [==============================] - 0s 36us/step - loss: 0.2000 - acc: 0.9979 - val_loss: 0.2089 - val_acc: 0.9867\n",
      "Epoch 16/40\n",
      "1425/1425 [==============================] - 0s 30us/step - loss: 0.1974 - acc: 0.9979 - val_loss: 0.2064 - val_acc: 0.9867\n",
      "Epoch 17/40\n",
      "1425/1425 [==============================] - 0s 31us/step - loss: 0.1949 - acc: 0.9979 - val_loss: 0.2038 - val_acc: 0.9867\n",
      "Epoch 18/40\n",
      "1425/1425 [==============================] - 0s 29us/step - loss: 0.1923 - acc: 0.9979 - val_loss: 0.2015 - val_acc: 0.9867\n",
      "Epoch 19/40\n",
      "1425/1425 [==============================] - 0s 29us/step - loss: 0.1898 - acc: 0.9979 - val_loss: 0.1994 - val_acc: 0.9867\n",
      "Epoch 20/40\n",
      "1425/1425 [==============================] - 0s 32us/step - loss: 0.1874 - acc: 0.9979 - val_loss: 0.1966 - val_acc: 0.9867\n",
      "Epoch 21/40\n",
      "1425/1425 [==============================] - 0s 30us/step - loss: 0.1850 - acc: 0.9979 - val_loss: 0.1943 - val_acc: 0.9867\n",
      "Epoch 22/40\n",
      "1425/1425 [==============================] - 0s 34us/step - loss: 0.1826 - acc: 0.9979 - val_loss: 0.1920 - val_acc: 0.9867\n",
      "Epoch 23/40\n",
      "1425/1425 [==============================] - 0s 33us/step - loss: 0.1803 - acc: 0.9979 - val_loss: 0.1899 - val_acc: 0.9867\n",
      "Epoch 24/40\n",
      "1425/1425 [==============================] - 0s 45us/step - loss: 0.1780 - acc: 0.9979 - val_loss: 0.1873 - val_acc: 0.9867\n",
      "Epoch 25/40\n",
      "1425/1425 [==============================] - 0s 43us/step - loss: 0.1757 - acc: 0.9979 - val_loss: 0.1851 - val_acc: 0.9867\n",
      "Epoch 26/40\n",
      "1425/1425 [==============================] - 0s 39us/step - loss: 0.1736 - acc: 0.9979 - val_loss: 0.1829 - val_acc: 0.9867\n",
      "Epoch 27/40\n",
      "1425/1425 [==============================] - 0s 58us/step - loss: 0.1714 - acc: 0.9979 - val_loss: 0.1810 - val_acc: 0.9867\n",
      "Epoch 28/40\n",
      "1425/1425 [==============================] - 0s 42us/step - loss: 0.1693 - acc: 0.9979 - val_loss: 0.1789 - val_acc: 0.9867\n",
      "Epoch 29/40\n",
      "1425/1425 [==============================] - 0s 46us/step - loss: 0.1672 - acc: 0.9979 - val_loss: 0.1767 - val_acc: 0.9867\n",
      "Epoch 30/40\n",
      "1425/1425 [==============================] - 0s 46us/step - loss: 0.1651 - acc: 0.9979 - val_loss: 0.1750 - val_acc: 0.9867\n",
      "Epoch 31/40\n",
      "1425/1425 [==============================] - 0s 41us/step - loss: 0.1631 - acc: 0.9979 - val_loss: 0.1732 - val_acc: 0.9867\n",
      "Epoch 32/40\n",
      "1425/1425 [==============================] - 0s 34us/step - loss: 0.1611 - acc: 0.9979 - val_loss: 0.1712 - val_acc: 0.9867\n",
      "Epoch 33/40\n",
      "1425/1425 [==============================] - 0s 37us/step - loss: 0.1591 - acc: 0.9979 - val_loss: 0.1690 - val_acc: 0.9867\n",
      "Epoch 34/40\n",
      "1425/1425 [==============================] - 0s 34us/step - loss: 0.1572 - acc: 0.9979 - val_loss: 0.1669 - val_acc: 0.9867\n",
      "Epoch 35/40\n",
      "1425/1425 [==============================] - 0s 35us/step - loss: 0.1553 - acc: 0.9979 - val_loss: 0.1650 - val_acc: 0.9867\n",
      "Epoch 36/40\n",
      "1425/1425 [==============================] - 0s 39us/step - loss: 0.1534 - acc: 0.9979 - val_loss: 0.1634 - val_acc: 0.9867\n",
      "Epoch 37/40\n",
      "1425/1425 [==============================] - 0s 28us/step - loss: 0.1516 - acc: 0.9979 - val_loss: 0.1615 - val_acc: 0.9867\n",
      "Epoch 38/40\n",
      "1425/1425 [==============================] - 0s 32us/step - loss: 0.1497 - acc: 0.9979 - val_loss: 0.1596 - val_acc: 0.9867\n",
      "Epoch 39/40\n",
      "1425/1425 [==============================] - 0s 30us/step - loss: 0.1479 - acc: 0.9979 - val_loss: 0.1580 - val_acc: 0.9867\n",
      "Epoch 40/40\n",
      "1425/1425 [==============================] - 0s 22us/step - loss: 0.1462 - acc: 0.9979 - val_loss: 0.1565 - val_acc: 0.9867\n"
     ]
    },
    {
     "data": {
      "text/plain": [
       "<keras.callbacks.History at 0x14e74416a90>"
      ]
     },
     "execution_count": 20,
     "metadata": {},
     "output_type": "execute_result"
    }
   ],
   "source": [
    "model1.fit(X_train, y_train, validation_data = (X_val, y_val), epochs = 40, batch_size = 64)"
   ]
  },
  {
   "cell_type": "code",
   "execution_count": 21,
   "metadata": {},
   "outputs": [
    {
     "name": "stdout",
     "output_type": "stream",
     "text": [
      "Train on 1425 samples, validate on 75 samples\n",
      "Epoch 1/40\n",
      "1425/1425 [==============================] - 0s 22us/step - loss: 0.1445 - acc: 0.9979 - val_loss: 0.1547 - val_acc: 0.9867\n",
      "Epoch 2/40\n",
      "1425/1425 [==============================] - 0s 34us/step - loss: 0.1427 - acc: 0.9979 - val_loss: 0.1531 - val_acc: 0.9867\n",
      "Epoch 3/40\n",
      "1425/1425 [==============================] - 0s 37us/step - loss: 0.1411 - acc: 0.9979 - val_loss: 0.1513 - val_acc: 0.9867\n",
      "Epoch 4/40\n",
      "1425/1425 [==============================] - 0s 38us/step - loss: 0.1394 - acc: 0.9979 - val_loss: 0.1497 - val_acc: 0.9867\n",
      "Epoch 5/40\n",
      "1425/1425 [==============================] - 0s 34us/step - loss: 0.1378 - acc: 0.9979 - val_loss: 0.1479 - val_acc: 0.9867\n",
      "Epoch 6/40\n",
      "1425/1425 [==============================] - 0s 31us/step - loss: 0.1362 - acc: 0.9979 - val_loss: 0.1464 - val_acc: 0.9867\n",
      "Epoch 7/40\n",
      "1425/1425 [==============================] - 0s 29us/step - loss: 0.1346 - acc: 0.9979 - val_loss: 0.1449 - val_acc: 0.9867\n",
      "Epoch 8/40\n",
      "1425/1425 [==============================] - 0s 30us/step - loss: 0.1330 - acc: 0.9979 - val_loss: 0.1435 - val_acc: 0.9867\n",
      "Epoch 9/40\n",
      "1425/1425 [==============================] - 0s 28us/step - loss: 0.1316 - acc: 0.9979 - val_loss: 0.1423 - val_acc: 0.9867\n",
      "Epoch 10/40\n",
      "1425/1425 [==============================] - 0s 30us/step - loss: 0.1300 - acc: 0.9979 - val_loss: 0.1408 - val_acc: 0.9867\n",
      "Epoch 11/40\n",
      "1425/1425 [==============================] - 0s 32us/step - loss: 0.1285 - acc: 0.9979 - val_loss: 0.1392 - val_acc: 0.9867\n",
      "Epoch 12/40\n",
      "1425/1425 [==============================] - 0s 27us/step - loss: 0.1271 - acc: 0.9979 - val_loss: 0.1380 - val_acc: 0.9867\n",
      "Epoch 13/40\n",
      "1425/1425 [==============================] - 0s 30us/step - loss: 0.1256 - acc: 0.9979 - val_loss: 0.1366 - val_acc: 0.9867\n",
      "Epoch 14/40\n",
      "1425/1425 [==============================] - 0s 28us/step - loss: 0.1242 - acc: 0.9979 - val_loss: 0.1350 - val_acc: 0.9867\n",
      "Epoch 15/40\n",
      "1425/1425 [==============================] - 0s 28us/step - loss: 0.1228 - acc: 0.9979 - val_loss: 0.1337 - val_acc: 0.9867\n",
      "Epoch 16/40\n",
      "1425/1425 [==============================] - 0s 32us/step - loss: 0.1214 - acc: 0.9979 - val_loss: 0.1323 - val_acc: 0.9867\n",
      "Epoch 17/40\n",
      "1425/1425 [==============================] - 0s 39us/step - loss: 0.1200 - acc: 0.9979 - val_loss: 0.1309 - val_acc: 0.9867\n",
      "Epoch 18/40\n",
      "1425/1425 [==============================] - 0s 45us/step - loss: 0.1187 - acc: 0.9979 - val_loss: 0.1296 - val_acc: 0.9867\n",
      "Epoch 19/40\n",
      "1425/1425 [==============================] - 0s 39us/step - loss: 0.1174 - acc: 0.9979 - val_loss: 0.1282 - val_acc: 0.9867\n",
      "Epoch 20/40\n",
      "1425/1425 [==============================] - 0s 27us/step - loss: 0.1161 - acc: 0.9979 - val_loss: 0.1273 - val_acc: 0.9867\n",
      "Epoch 21/40\n",
      "1425/1425 [==============================] - 0s 27us/step - loss: 0.1148 - acc: 0.9979 - val_loss: 0.1258 - val_acc: 0.9867\n",
      "Epoch 22/40\n",
      "1425/1425 [==============================] - 0s 32us/step - loss: 0.1135 - acc: 0.9979 - val_loss: 0.1246 - val_acc: 0.9867\n",
      "Epoch 23/40\n",
      "1425/1425 [==============================] - 0s 27us/step - loss: 0.1123 - acc: 0.9979 - val_loss: 0.1235 - val_acc: 0.9867\n",
      "Epoch 24/40\n",
      "1425/1425 [==============================] - 0s 39us/step - loss: 0.1111 - acc: 0.9979 - val_loss: 0.1222 - val_acc: 0.9867\n",
      "Epoch 25/40\n",
      "1425/1425 [==============================] - 0s 34us/step - loss: 0.1099 - acc: 0.9979 - val_loss: 0.1211 - val_acc: 0.9867\n",
      "Epoch 26/40\n",
      "1425/1425 [==============================] - 0s 29us/step - loss: 0.1087 - acc: 0.9979 - val_loss: 0.1201 - val_acc: 0.9867\n",
      "Epoch 27/40\n",
      "1425/1425 [==============================] - 0s 28us/step - loss: 0.1075 - acc: 0.9979 - val_loss: 0.1192 - val_acc: 0.9867\n",
      "Epoch 28/40\n",
      "1425/1425 [==============================] - 0s 30us/step - loss: 0.1063 - acc: 0.9979 - val_loss: 0.1178 - val_acc: 0.9867\n",
      "Epoch 29/40\n",
      "1425/1425 [==============================] - 0s 24us/step - loss: 0.1052 - acc: 0.9979 - val_loss: 0.1166 - val_acc: 0.9867\n",
      "Epoch 30/40\n",
      "1425/1425 [==============================] - 0s 33us/step - loss: 0.1041 - acc: 0.9979 - val_loss: 0.1156 - val_acc: 0.9867\n",
      "Epoch 31/40\n",
      "1425/1425 [==============================] - 0s 49us/step - loss: 0.1029 - acc: 0.9979 - val_loss: 0.1146 - val_acc: 0.9867\n",
      "Epoch 32/40\n",
      "1425/1425 [==============================] - 0s 54us/step - loss: 0.1018 - acc: 0.9979 - val_loss: 0.1135 - val_acc: 0.9867\n",
      "Epoch 33/40\n",
      "1425/1425 [==============================] - 0s 51us/step - loss: 0.1007 - acc: 0.9979 - val_loss: 0.1125 - val_acc: 0.9867\n",
      "Epoch 34/40\n",
      "1425/1425 [==============================] - 0s 39us/step - loss: 0.0996 - acc: 0.9979 - val_loss: 0.1114 - val_acc: 0.9867\n",
      "Epoch 35/40\n",
      "1425/1425 [==============================] - 0s 39us/step - loss: 0.0986 - acc: 0.9979 - val_loss: 0.1104 - val_acc: 0.9867\n",
      "Epoch 36/40\n",
      "1425/1425 [==============================] - 0s 44us/step - loss: 0.0975 - acc: 0.9979 - val_loss: 0.1093 - val_acc: 0.9867\n",
      "Epoch 37/40\n",
      "1425/1425 [==============================] - 0s 32us/step - loss: 0.0965 - acc: 0.9979 - val_loss: 0.1084 - val_acc: 0.9867\n",
      "Epoch 38/40\n",
      "1425/1425 [==============================] - 0s 25us/step - loss: 0.0955 - acc: 0.9979 - val_loss: 0.1073 - val_acc: 0.9867\n",
      "Epoch 39/40\n",
      "1425/1425 [==============================] - 0s 22us/step - loss: 0.0945 - acc: 0.9979 - val_loss: 0.1065 - val_acc: 0.9867\n",
      "Epoch 40/40\n",
      "1425/1425 [==============================] - 0s 23us/step - loss: 0.0935 - acc: 0.9979 - val_loss: 0.1057 - val_acc: 0.9867\n"
     ]
    },
    {
     "data": {
      "text/plain": [
       "<keras.callbacks.History at 0x14e73e67f28>"
      ]
     },
     "execution_count": 21,
     "metadata": {},
     "output_type": "execute_result"
    }
   ],
   "source": [
    "model1.fit(X_train, y_train, validation_data = (X_val, y_val), epochs = 40, batch_size = 64)"
   ]
  },
  {
   "cell_type": "code",
   "execution_count": 20,
   "metadata": {},
   "outputs": [],
   "source": [
    "from keras.models import load_model"
   ]
  },
  {
   "cell_type": "code",
   "execution_count": 2,
   "metadata": {},
   "outputs": [
    {
     "name": "stdout",
     "output_type": "stream",
     "text": [
      "WARNING:tensorflow:From C:\\Users\\Puneet\\Anaconda3\\lib\\site-packages\\tensorflow\\python\\framework\\op_def_library.py:263: colocate_with (from tensorflow.python.framework.ops) is deprecated and will be removed in a future version.\n",
      "Instructions for updating:\n",
      "Colocations handled automatically by placer.\n",
      "WARNING:tensorflow:From C:\\Users\\Puneet\\Anaconda3\\lib\\site-packages\\tensorflow\\python\\ops\\math_ops.py:3066: to_int32 (from tensorflow.python.ops.math_ops) is deprecated and will be removed in a future version.\n",
      "Instructions for updating:\n",
      "Use tf.cast instead.\n"
     ]
    }
   ],
   "source": [
    "model = load_model('svr_all_symbols.h5')"
   ]
  },
  {
   "cell_type": "code",
   "execution_count": 22,
   "metadata": {},
   "outputs": [],
   "source": [
    "model1.save('svr_all_symbols.h5')"
   ]
  },
  {
   "cell_type": "code",
   "execution_count": 23,
   "metadata": {},
   "outputs": [],
   "source": [
    "sample_number = 11"
   ]
  },
  {
   "cell_type": "code",
   "execution_count": 23,
   "metadata": {},
   "outputs": [
    {
     "name": "stdout",
     "output_type": "stream",
     "text": [
      "(1, 13)\n",
      "[0. 0. 0. 0. 0. 0. 0. 0. 0. 0. 0. 0. 0. 0. 0. 0. 0. 0. 0. 0. 0. 0. 0. 0.\n",
      " 0. 0. 0. 0. 0. 0. 0. 0. 0. 1. 0. 0. 0. 0.]\n"
     ]
    }
   ],
   "source": [
    "test_data_sample = X_val[sample_number].reshape(1, 13)\n",
    "test_data_actual_label = y_val[sample_number]\n",
    "\n",
    "print(test_data_sample.shape)\n",
    "print(test_data_actual_label)"
   ]
  },
  {
   "cell_type": "code",
   "execution_count": 24,
   "metadata": {},
   "outputs": [
    {
     "data": {
      "text/plain": [
       "array([[ 0.23      ,  0.95      , -0.17      ,  0.23137255,  1.        ,\n",
       "         1.        ,  0.19215686,  0.35294118,  0.99804497,  0.        ,\n",
       "         0.        ,  0.        ,  1.        ]])"
      ]
     },
     "execution_count": 24,
     "metadata": {},
     "output_type": "execute_result"
    }
   ],
   "source": [
    "test_data_sample"
   ]
  },
  {
   "cell_type": "code",
   "execution_count": 27,
   "metadata": {},
   "outputs": [],
   "source": [
    "predicted_prob = model1.predict(test_data_sample)\n",
    "predicted_label = np.argmax(predicted_prob)"
   ]
  },
  {
   "cell_type": "code",
   "execution_count": 28,
   "metadata": {},
   "outputs": [
    {
     "name": "stdout",
     "output_type": "stream",
     "text": [
      "[[5.1576202e-04 6.5235067e-03 2.8418361e-03 4.6065212e-05 2.0517504e-05\n",
      "  3.8813851e-05 3.5860713e-03 3.0541734e-05 1.8418493e-06 3.8681816e-07\n",
      "  1.6031782e-07 4.3055221e-05 1.9775900e-06 2.5870844e-03 1.3130282e-03\n",
      "  1.9373300e-03 5.5728521e-04 5.5670327e-05 9.2402894e-05 1.5221446e-04\n",
      "  1.3692985e-06 1.7843849e-08 1.7540994e-01 1.3418623e-03 2.0452506e-05\n",
      "  6.9941728e-07 3.6299173e-04 4.1497618e-04 4.2275701e-06 5.6553837e-03\n",
      "  2.4223054e-06 3.9685842e-06 1.9775191e-02 7.6931149e-01 6.9207167e-03\n",
      "  2.4235420e-04 5.8643650e-06 1.8051159e-04]]\n",
      "33\n"
     ]
    }
   ],
   "source": [
    "print(predicted_prob)\n",
    "print(predicted_label)"
   ]
  },
  {
   "cell_type": "code",
   "execution_count": 29,
   "metadata": {},
   "outputs": [
    {
     "data": {
      "text/plain": [
       "0.7693115"
      ]
     },
     "execution_count": 29,
     "metadata": {},
     "output_type": "execute_result"
    }
   ],
   "source": [
    "predicted_prob[0][predicted_label]"
   ]
  },
  {
   "cell_type": "code",
   "execution_count": 39,
   "metadata": {},
   "outputs": [
    {
     "name": "stdout",
     "output_type": "stream",
     "text": [
      "0\n"
     ]
    }
   ],
   "source": [
    "print(np.argmax(predicted_label))"
   ]
  },
  {
   "cell_type": "code",
   "execution_count": null,
   "metadata": {},
   "outputs": [],
   "source": []
  }
 ],
 "metadata": {
  "kernelspec": {
   "display_name": "Python 3",
   "language": "python",
   "name": "python3"
  },
  "language_info": {
   "codemirror_mode": {
    "name": "ipython",
    "version": 3
   },
   "file_extension": ".py",
   "mimetype": "text/x-python",
   "name": "python",
   "nbconvert_exporter": "python",
   "pygments_lexer": "ipython3",
   "version": "3.7.3"
  }
 },
 "nbformat": 4,
 "nbformat_minor": 2
}
