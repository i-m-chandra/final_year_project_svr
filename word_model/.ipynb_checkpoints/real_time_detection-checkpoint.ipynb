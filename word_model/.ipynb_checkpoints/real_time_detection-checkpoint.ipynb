{
 "cells": [
  {
   "cell_type": "code",
   "execution_count": 1,
   "metadata": {},
   "outputs": [],
   "source": [
    "import serial \n",
    "import time\n",
    "import csv"
   ]
  },
  {
   "cell_type": "code",
   "execution_count": 2,
   "metadata": {},
   "outputs": [],
   "source": [
    "import numpy as np"
   ]
  },
  {
   "cell_type": "code",
   "execution_count": 3,
   "metadata": {},
   "outputs": [],
   "source": [
    "from win32com.client import Dispatch"
   ]
  },
  {
   "cell_type": "code",
   "execution_count": 4,
   "metadata": {},
   "outputs": [
    {
     "name": "stderr",
     "output_type": "stream",
     "text": [
      "Using TensorFlow backend.\n"
     ]
    }
   ],
   "source": [
    "from keras.models import load_model"
   ]
  },
  {
   "cell_type": "code",
   "execution_count": 5,
   "metadata": {},
   "outputs": [
    {
     "name": "stdout",
     "output_type": "stream",
     "text": [
      "WARNING:tensorflow:From C:\\Users\\Puneet\\Anaconda3\\lib\\site-packages\\tensorflow\\python\\framework\\op_def_library.py:263: colocate_with (from tensorflow.python.framework.ops) is deprecated and will be removed in a future version.\n",
      "Instructions for updating:\n",
      "Colocations handled automatically by placer.\n",
      "WARNING:tensorflow:From C:\\Users\\Puneet\\Anaconda3\\lib\\site-packages\\tensorflow\\python\\ops\\math_ops.py:3066: to_int32 (from tensorflow.python.ops.math_ops) is deprecated and will be removed in a future version.\n",
      "Instructions for updating:\n",
      "Use tf.cast instead.\n"
     ]
    }
   ],
   "source": [
    "model = load_model('svr_all_symbols.h5')"
   ]
  },
  {
   "cell_type": "code",
   "execution_count": 6,
   "metadata": {},
   "outputs": [],
   "source": [
    "ser = serial.Serial(port='COM13', baudrate=9600)"
   ]
  },
  {
   "cell_type": "code",
   "execution_count": 7,
   "metadata": {},
   "outputs": [
    {
     "name": "stdout",
     "output_type": "stream",
     "text": [
      "b'LowTHUMB = 34\\r\\n'\n",
      "b'HighTHUMB = 120\\r\\n'\n",
      "b'             \\r\\n'\n",
      "b'LowINDEX = 43\\r\\n'\n",
      "b'HighINDEX = 197\\r\\n'\n",
      "b'             \\r\\n'\n",
      "b'LowMIDDLE = 30\\r\\n'\n",
      "b'HighMIDDLE = 161\\r\\n'\n",
      "b'             \\r\\n'\n",
      "b'LowRING = 30\\r\\n'\n",
      "b'HighRING = 192\\r\\n'\n",
      "b'             \\r\\n'\n",
      "b'LowPINKEY = 36\\r\\n'\n",
      "b'HighPINKEY = 157\\r\\n'\n",
      "b'             \\r\\n'\n",
      "b'-0.05,0.97,0.14,228,228,235,222,187,1023,0,0,0,0,2\\r\\n'\n",
      "b'-0.05,0.98,0.11,222,218,222,204,173,1023,0,0,0,0,2\\r\\n'\n",
      "b'-0.01,0.99,0.08,222,217,218,192,166,1023,0,0,0,0,2\\r\\n'\n",
      "b'-0.02,0.98,-0.02,192,200,194,143,135,1023,0,0,0,0,2\\r\\n'\n",
      "b'0.08,0.93,0.16,18,5,12,8,13,1023,0,1,1,1,2\\r\\n'\n",
      "b'-0.10,0.98,0.13,234,235,231,234,192,1023,0,0,0,0,2\\r\\n'\n",
      "b'-0.11,0.99,0.05,246,231,237,234,217,1023,0,0,0,0,2\\r\\n'\n",
      "b'0.20,0.86,-0.13,240,213,214,201,192,1023,0,0,0,0,2\\r\\n'\n",
      "b'-0.14,1.03,0.06,243,207,200,181,171,1023,0,0,0,0,2\\r\\n'\n"
     ]
    },
    {
     "ename": "KeyboardInterrupt",
     "evalue": "",
     "output_type": "error",
     "traceback": [
      "\u001b[1;31m---------------------------------------------------------------------------\u001b[0m",
      "\u001b[1;31mKeyboardInterrupt\u001b[0m                         Traceback (most recent call last)",
      "\u001b[1;32m<ipython-input-7-ab2f2a75cf79>\u001b[0m in \u001b[0;36m<module>\u001b[1;34m\u001b[0m\n\u001b[0;32m      1\u001b[0m \u001b[1;32mwhile\u001b[0m \u001b[1;32mTrue\u001b[0m\u001b[1;33m:\u001b[0m\u001b[1;33m\u001b[0m\u001b[1;33m\u001b[0m\u001b[0m\n\u001b[1;32m----> 2\u001b[1;33m     \u001b[0mprint\u001b[0m\u001b[1;33m(\u001b[0m\u001b[0mser\u001b[0m\u001b[1;33m.\u001b[0m\u001b[0mreadline\u001b[0m\u001b[1;33m(\u001b[0m\u001b[1;33m)\u001b[0m\u001b[1;33m)\u001b[0m\u001b[1;33m\u001b[0m\u001b[1;33m\u001b[0m\u001b[0m\n\u001b[0m",
      "\u001b[1;32m~\\Anaconda3\\lib\\site-packages\\serial\\serialwin32.py\u001b[0m in \u001b[0;36mread\u001b[1;34m(self, size)\u001b[0m\n\u001b[0;32m    288\u001b[0m                     \u001b[0mctypes\u001b[0m\u001b[1;33m.\u001b[0m\u001b[0mbyref\u001b[0m\u001b[1;33m(\u001b[0m\u001b[0mself\u001b[0m\u001b[1;33m.\u001b[0m\u001b[0m_overlapped_read\u001b[0m\u001b[1;33m)\u001b[0m\u001b[1;33m,\u001b[0m\u001b[1;33m\u001b[0m\u001b[1;33m\u001b[0m\u001b[0m\n\u001b[0;32m    289\u001b[0m                     \u001b[0mctypes\u001b[0m\u001b[1;33m.\u001b[0m\u001b[0mbyref\u001b[0m\u001b[1;33m(\u001b[0m\u001b[0mrc\u001b[0m\u001b[1;33m)\u001b[0m\u001b[1;33m,\u001b[0m\u001b[1;33m\u001b[0m\u001b[1;33m\u001b[0m\u001b[0m\n\u001b[1;32m--> 290\u001b[1;33m                     True)\n\u001b[0m\u001b[0;32m    291\u001b[0m                 \u001b[1;32mif\u001b[0m \u001b[1;32mnot\u001b[0m \u001b[0mresult_ok\u001b[0m\u001b[1;33m:\u001b[0m\u001b[1;33m\u001b[0m\u001b[1;33m\u001b[0m\u001b[0m\n\u001b[0;32m    292\u001b[0m                     \u001b[1;32mif\u001b[0m \u001b[0mwin32\u001b[0m\u001b[1;33m.\u001b[0m\u001b[0mGetLastError\u001b[0m\u001b[1;33m(\u001b[0m\u001b[1;33m)\u001b[0m \u001b[1;33m!=\u001b[0m \u001b[0mwin32\u001b[0m\u001b[1;33m.\u001b[0m\u001b[0mERROR_OPERATION_ABORTED\u001b[0m\u001b[1;33m:\u001b[0m\u001b[1;33m\u001b[0m\u001b[1;33m\u001b[0m\u001b[0m\n",
      "\u001b[1;31mKeyboardInterrupt\u001b[0m: "
     ]
    }
   ],
   "source": [
    "while True:\n",
    "    print(ser.readline())"
   ]
  },
  {
   "cell_type": "code",
   "execution_count": 8,
   "metadata": {},
   "outputs": [],
   "source": [
    "ser.close()"
   ]
  },
  {
   "cell_type": "code",
   "execution_count": 10,
   "metadata": {},
   "outputs": [],
   "source": [
    "ser = serial.Serial(port='COM13', baudrate=9600)"
   ]
  },
  {
   "cell_type": "code",
   "execution_count": 11,
   "metadata": {},
   "outputs": [],
   "source": [
    "speak = Dispatch(\"SAPI.SpVoice\")"
   ]
  },
  {
   "cell_type": "code",
   "execution_count": 12,
   "metadata": {},
   "outputs": [
    {
     "name": "stdout",
     "output_type": "stream",
     "text": [
      "this is the label without threshold Good Morning\n",
      "probability is  0.5929819\n",
      "this is the label without threshold Good Morning\n",
      "probability is  0.6322029\n",
      "this is the label without threshold Good Morning\n",
      "probability is  0.6183787\n",
      "this is the label without threshold Good Morning\n",
      "probability is  0.6282065\n",
      "this is the label without threshold Good Morning\n",
      "probability is  0.62650603\n",
      "this is the label without threshold Good Morning\n",
      "probability is  0.6248247\n"
     ]
    },
    {
     "ename": "KeyboardInterrupt",
     "evalue": "",
     "output_type": "error",
     "traceback": [
      "\u001b[1;31m---------------------------------------------------------------------------\u001b[0m",
      "\u001b[1;31mKeyboardInterrupt\u001b[0m                         Traceback (most recent call last)",
      "\u001b[1;32m<ipython-input-12-7f12ab6e1106>\u001b[0m in \u001b[0;36m<module>\u001b[1;34m\u001b[0m\n\u001b[0;32m      1\u001b[0m \u001b[0mprevious_word\u001b[0m \u001b[1;33m=\u001b[0m \u001b[1;34m\"\"\u001b[0m\u001b[1;33m\u001b[0m\u001b[1;33m\u001b[0m\u001b[0m\n\u001b[0;32m      2\u001b[0m \u001b[1;32mwhile\u001b[0m \u001b[1;32mTrue\u001b[0m\u001b[1;33m:\u001b[0m\u001b[1;33m\u001b[0m\u001b[1;33m\u001b[0m\u001b[0m\n\u001b[1;32m----> 3\u001b[1;33m     \u001b[0mdata\u001b[0m \u001b[1;33m=\u001b[0m \u001b[0mser\u001b[0m\u001b[1;33m.\u001b[0m\u001b[0mreadline\u001b[0m\u001b[1;33m(\u001b[0m\u001b[1;33m)\u001b[0m\u001b[1;33m.\u001b[0m\u001b[0mdecode\u001b[0m\u001b[1;33m(\u001b[0m\u001b[1;34m\"utf-8\"\u001b[0m\u001b[1;33m)\u001b[0m\u001b[1;33m\u001b[0m\u001b[1;33m\u001b[0m\u001b[0m\n\u001b[0m\u001b[0;32m      4\u001b[0m     \u001b[0mlists\u001b[0m \u001b[1;33m=\u001b[0m \u001b[0mdata\u001b[0m\u001b[1;33m.\u001b[0m\u001b[0msplit\u001b[0m\u001b[1;33m(\u001b[0m\u001b[1;34m\",\"\u001b[0m\u001b[1;33m)\u001b[0m\u001b[1;33m\u001b[0m\u001b[1;33m\u001b[0m\u001b[0m\n\u001b[0;32m      5\u001b[0m     \u001b[1;31m#print(\"lists is: \", lists)\u001b[0m\u001b[1;33m\u001b[0m\u001b[1;33m\u001b[0m\u001b[1;33m\u001b[0m\u001b[0m\n",
      "\u001b[1;32m~\\Anaconda3\\lib\\site-packages\\serial\\serialwin32.py\u001b[0m in \u001b[0;36mread\u001b[1;34m(self, size)\u001b[0m\n\u001b[0;32m    288\u001b[0m                     \u001b[0mctypes\u001b[0m\u001b[1;33m.\u001b[0m\u001b[0mbyref\u001b[0m\u001b[1;33m(\u001b[0m\u001b[0mself\u001b[0m\u001b[1;33m.\u001b[0m\u001b[0m_overlapped_read\u001b[0m\u001b[1;33m)\u001b[0m\u001b[1;33m,\u001b[0m\u001b[1;33m\u001b[0m\u001b[1;33m\u001b[0m\u001b[0m\n\u001b[0;32m    289\u001b[0m                     \u001b[0mctypes\u001b[0m\u001b[1;33m.\u001b[0m\u001b[0mbyref\u001b[0m\u001b[1;33m(\u001b[0m\u001b[0mrc\u001b[0m\u001b[1;33m)\u001b[0m\u001b[1;33m,\u001b[0m\u001b[1;33m\u001b[0m\u001b[1;33m\u001b[0m\u001b[0m\n\u001b[1;32m--> 290\u001b[1;33m                     True)\n\u001b[0m\u001b[0;32m    291\u001b[0m                 \u001b[1;32mif\u001b[0m \u001b[1;32mnot\u001b[0m \u001b[0mresult_ok\u001b[0m\u001b[1;33m:\u001b[0m\u001b[1;33m\u001b[0m\u001b[1;33m\u001b[0m\u001b[0m\n\u001b[0;32m    292\u001b[0m                     \u001b[1;32mif\u001b[0m \u001b[0mwin32\u001b[0m\u001b[1;33m.\u001b[0m\u001b[0mGetLastError\u001b[0m\u001b[1;33m(\u001b[0m\u001b[1;33m)\u001b[0m \u001b[1;33m!=\u001b[0m \u001b[0mwin32\u001b[0m\u001b[1;33m.\u001b[0m\u001b[0mERROR_OPERATION_ABORTED\u001b[0m\u001b[1;33m:\u001b[0m\u001b[1;33m\u001b[0m\u001b[1;33m\u001b[0m\u001b[0m\n",
      "\u001b[1;31mKeyboardInterrupt\u001b[0m: "
     ]
    }
   ],
   "source": [
    "previous_word = \"\"\n",
    "while True:\n",
    "    data = ser.readline().decode(\"utf-8\")\n",
    "    lists = data.split(\",\")\n",
    "    #print(\"lists is: \", lists)\n",
    "    #print(len(lists))\n",
    "    if(len(lists) == 14) :\n",
    "        #print(lists)\n",
    "        x_orient = float(lists[0])\n",
    "        y_orient = float(lists[1])\n",
    "        z_orient = float(lists[2])\n",
    "        thumb = int(lists[3])/255.0\n",
    "        index = int(lists[4])/255.0\n",
    "        middle = int(lists[5])/255.0\n",
    "        ring = int(lists[6])/255.0\n",
    "        little = int(lists[7])/255.0\n",
    "        touch = int(lists[8])/1023.0\n",
    "        touch_index = int(lists[9])\n",
    "        touch_middle = int(lists[10])\n",
    "        touch_ring = int(lists[11])\n",
    "        touch_little = int(lists[12])\n",
    "        no_use = int(lists[13])\n",
    "        \n",
    "        real_time_array = np.array([x_orient, y_orient, z_orient, thumb, index, middle, ring, little, touch, touch_index,\n",
    "                          touch_middle, touch_ring, touch_little, no_use])[0:13]\n",
    "        #print(real_time_array.shape)\n",
    "        #print(real_time_array)\n",
    "        real_time_array = real_time_array.reshape(1, 13)\n",
    "        \n",
    "        prob_prediction = model.predict(real_time_array)\n",
    "        predicted_label = np.argmax(prob_prediction)\n",
    "        #print(predicted_label)\n",
    "        \n",
    "        word = \"\"\n",
    "        \n",
    "        a=0\n",
    "        \n",
    "        if predicted_label == 0:\n",
    "            word = \"hello\"\n",
    "        elif predicted_label == 1:\n",
    "            word = \"how\"\n",
    "        elif predicted_label == 2:\n",
    "            word = \"are\"\n",
    "        elif predicted_label == 3:\n",
    "            word = \"you ?\"\n",
    "        elif predicted_label == 4:\n",
    "            word = \"I am\"\n",
    "        elif predicted_label == 5:\n",
    "            word = \"fine.\"\n",
    "        elif predicted_label == 6:\n",
    "            word = \"thank you!\"\n",
    "        elif predicted_label == 7:\n",
    "            word = \"working\"\n",
    "        elif predicted_label == 8:\n",
    "            word = \"on\"\n",
    "        elif predicted_label == 9:\n",
    "            word = \"idea\"\n",
    "        elif predicted_label == 10:\n",
    "            word = \"called\"\n",
    "        elif predicted_label == 11:\n",
    "            word = \"Good Morning\"\n",
    "        elif predicted_label == 12:\n",
    "            word = \"Sign and\"\n",
    "        elif predicted_label == 13:\n",
    "            word = \"B\"\n",
    "        elif predicted_label == 14:\n",
    "            word = \"C\"\n",
    "        elif predicted_label == 15:\n",
    "            word = \"D\"\n",
    "        elif predicted_label == 16:\n",
    "            word = \"E\"\n",
    "        elif predicted_label == 17:\n",
    "            word = \"F\"\n",
    "        elif predicted_label == 18:\n",
    "            word = \"G\"\n",
    "        elif predicted_label == 19:\n",
    "            word = \"H\"\n",
    "        elif predicted_label == 20:\n",
    "            word = \"I\"\n",
    "        elif predicted_label == 21:\n",
    "            word = \"J\"\n",
    "        elif predicted_label == 22:\n",
    "            word = \"K\"\n",
    "        elif predicted_label == 23:\n",
    "            word = \"L\"\n",
    "        elif predicted_label == 24:\n",
    "            word = \"M\"\n",
    "        elif predicted_label == 25:\n",
    "            word = \"N\"\n",
    "        elif predicted_label == 26:\n",
    "            word = \"O\"\n",
    "        elif predicted_label == 27:\n",
    "            word = \"P\"\n",
    "        elif predicted_label == 28:\n",
    "            word = \"Q\"\n",
    "        elif predicted_label == 29:\n",
    "            word = \"R\"\n",
    "        elif predicted_label == 30:\n",
    "            word = \"S\"\n",
    "        elif predicted_label == 31:\n",
    "            word = \"T\"\n",
    "        elif predicted_label == 32:\n",
    "            word = \"U\"\n",
    "        elif predicted_label == 33:\n",
    "            word = \"V\"\n",
    "        elif predicted_label == 34:\n",
    "            word = \"W\"\n",
    "        elif predicted_label == 35:\n",
    "            word = \"X\"\n",
    "        elif predicted_label == 36:\n",
    "            word = \"Y\"\n",
    "        elif predicted_label == 37:\n",
    "            word = \"Z\"\n",
    "            \n",
    "        if word == previous_word:\n",
    "            # do nothing\n",
    "            previous_word = word\n",
    "        else:\n",
    "            print(\"this is the label without threshold\", word)\n",
    "            print(\"probability is \", prob_prediction[0][predicted_label])\n",
    "            if prob_prediction[0][predicted_label] > 0.75:\n",
    "                print(word)\n",
    "                previous_word = word\n",
    "                speak.Speak(word)"
   ]
  },
  {
   "cell_type": "code",
   "execution_count": null,
   "metadata": {},
   "outputs": [],
   "source": []
  },
  {
   "cell_type": "code",
   "execution_count": null,
   "metadata": {},
   "outputs": [],
   "source": []
  }
 ],
 "metadata": {
  "kernelspec": {
   "display_name": "Python 3",
   "language": "python",
   "name": "python3"
  },
  "language_info": {
   "codemirror_mode": {
    "name": "ipython",
    "version": 3
   },
   "file_extension": ".py",
   "mimetype": "text/x-python",
   "name": "python",
   "nbconvert_exporter": "python",
   "pygments_lexer": "ipython3",
   "version": "3.7.3"
  }
 },
 "nbformat": 4,
 "nbformat_minor": 2
}
