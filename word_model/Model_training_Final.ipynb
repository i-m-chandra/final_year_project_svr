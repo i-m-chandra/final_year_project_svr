{
 "cells": [
  {
   "cell_type": "code",
   "execution_count": 213,
   "metadata": {},
   "outputs": [],
   "source": [
    "import os\n",
    "import time\n",
    "import glob\n",
    "\n",
    "import pandas as pd\n",
    "import numpy as np\n",
    "\n",
    "from sklearn import preprocessing\n",
    "\n",
    "from keras.utils.np_utils import to_categorical\n",
    "\n",
    "from keras.models import Sequential\n",
    "\n",
    "from sklearn.utils import shuffle\n",
    "\n",
    "from keras.models import Sequential\n",
    "\n",
    "from keras.layers import Dense\n",
    "\n",
    "from keras.layers import BatchNormalization\n",
    "\n",
    "from sklearn.model_selection import train_test_split"
   ]
  },
  {
   "cell_type": "code",
   "execution_count": 214,
   "metadata": {},
   "outputs": [
    {
     "name": "stdout",
     "output_type": "stream",
     "text": [
      "/home/imchandra/Desktop/SVRNEW/word_model\n"
     ]
    }
   ],
   "source": [
    "execution_path = os.getcwd()\n",
    "print(execution_path)"
   ]
  },
  {
   "cell_type": "code",
   "execution_count": 215,
   "metadata": {},
   "outputs": [],
   "source": [
    "combined_csv = pd.read_csv(os.path.join(execution_path, 'combined_12_signs.csv'))"
   ]
  },
  {
   "cell_type": "code",
   "execution_count": 216,
   "metadata": {},
   "outputs": [
    {
     "data": {
      "text/html": [
       "<div>\n",
       "<style scoped>\n",
       "    .dataframe tbody tr th:only-of-type {\n",
       "        vertical-align: middle;\n",
       "    }\n",
       "\n",
       "    .dataframe tbody tr th {\n",
       "        vertical-align: top;\n",
       "    }\n",
       "\n",
       "    .dataframe thead th {\n",
       "        text-align: right;\n",
       "    }\n",
       "</style>\n",
       "<table border=\"1\" class=\"dataframe\">\n",
       "  <thead>\n",
       "    <tr style=\"text-align: right;\">\n",
       "      <th></th>\n",
       "      <th>0</th>\n",
       "      <th>1</th>\n",
       "      <th>2</th>\n",
       "      <th>3</th>\n",
       "      <th>4</th>\n",
       "      <th>5</th>\n",
       "      <th>6</th>\n",
       "      <th>7</th>\n",
       "      <th>8</th>\n",
       "      <th>9</th>\n",
       "      <th>10</th>\n",
       "      <th>11</th>\n",
       "      <th>12</th>\n",
       "    </tr>\n",
       "  </thead>\n",
       "  <tbody>\n",
       "    <tr>\n",
       "      <th>0</th>\n",
       "      <td>-0.82</td>\n",
       "      <td>0.58</td>\n",
       "      <td>0.00</td>\n",
       "      <td>57</td>\n",
       "      <td>64</td>\n",
       "      <td>44</td>\n",
       "      <td>38</td>\n",
       "      <td>49</td>\n",
       "      <td>933</td>\n",
       "      <td>1</td>\n",
       "      <td>1</td>\n",
       "      <td>1</td>\n",
       "      <td>1</td>\n",
       "    </tr>\n",
       "    <tr>\n",
       "      <th>1</th>\n",
       "      <td>-0.83</td>\n",
       "      <td>0.53</td>\n",
       "      <td>-0.01</td>\n",
       "      <td>52</td>\n",
       "      <td>60</td>\n",
       "      <td>49</td>\n",
       "      <td>44</td>\n",
       "      <td>53</td>\n",
       "      <td>931</td>\n",
       "      <td>1</td>\n",
       "      <td>1</td>\n",
       "      <td>1</td>\n",
       "      <td>1</td>\n",
       "    </tr>\n",
       "    <tr>\n",
       "      <th>2</th>\n",
       "      <td>-0.80</td>\n",
       "      <td>0.53</td>\n",
       "      <td>0.03</td>\n",
       "      <td>62</td>\n",
       "      <td>69</td>\n",
       "      <td>54</td>\n",
       "      <td>42</td>\n",
       "      <td>57</td>\n",
       "      <td>929</td>\n",
       "      <td>1</td>\n",
       "      <td>1</td>\n",
       "      <td>1</td>\n",
       "      <td>1</td>\n",
       "    </tr>\n",
       "    <tr>\n",
       "      <th>3</th>\n",
       "      <td>-0.40</td>\n",
       "      <td>0.36</td>\n",
       "      <td>-0.04</td>\n",
       "      <td>57</td>\n",
       "      <td>57</td>\n",
       "      <td>41</td>\n",
       "      <td>30</td>\n",
       "      <td>43</td>\n",
       "      <td>931</td>\n",
       "      <td>1</td>\n",
       "      <td>1</td>\n",
       "      <td>1</td>\n",
       "      <td>1</td>\n",
       "    </tr>\n",
       "    <tr>\n",
       "      <th>4</th>\n",
       "      <td>-0.82</td>\n",
       "      <td>0.70</td>\n",
       "      <td>-0.14</td>\n",
       "      <td>62</td>\n",
       "      <td>65</td>\n",
       "      <td>48</td>\n",
       "      <td>36</td>\n",
       "      <td>43</td>\n",
       "      <td>1023</td>\n",
       "      <td>0</td>\n",
       "      <td>1</td>\n",
       "      <td>1</td>\n",
       "      <td>1</td>\n",
       "    </tr>\n",
       "    <tr>\n",
       "      <th>5</th>\n",
       "      <td>-0.95</td>\n",
       "      <td>0.71</td>\n",
       "      <td>-0.03</td>\n",
       "      <td>67</td>\n",
       "      <td>65</td>\n",
       "      <td>51</td>\n",
       "      <td>42</td>\n",
       "      <td>51</td>\n",
       "      <td>1023</td>\n",
       "      <td>0</td>\n",
       "      <td>1</td>\n",
       "      <td>1</td>\n",
       "      <td>1</td>\n",
       "    </tr>\n",
       "    <tr>\n",
       "      <th>6</th>\n",
       "      <td>-0.69</td>\n",
       "      <td>0.62</td>\n",
       "      <td>-0.09</td>\n",
       "      <td>75</td>\n",
       "      <td>76</td>\n",
       "      <td>66</td>\n",
       "      <td>47</td>\n",
       "      <td>56</td>\n",
       "      <td>1022</td>\n",
       "      <td>0</td>\n",
       "      <td>1</td>\n",
       "      <td>1</td>\n",
       "      <td>1</td>\n",
       "    </tr>\n",
       "    <tr>\n",
       "      <th>7</th>\n",
       "      <td>-0.74</td>\n",
       "      <td>0.60</td>\n",
       "      <td>-0.07</td>\n",
       "      <td>72</td>\n",
       "      <td>72</td>\n",
       "      <td>62</td>\n",
       "      <td>50</td>\n",
       "      <td>62</td>\n",
       "      <td>1020</td>\n",
       "      <td>0</td>\n",
       "      <td>1</td>\n",
       "      <td>1</td>\n",
       "      <td>1</td>\n",
       "    </tr>\n",
       "    <tr>\n",
       "      <th>8</th>\n",
       "      <td>-0.85</td>\n",
       "      <td>0.60</td>\n",
       "      <td>-0.04</td>\n",
       "      <td>70</td>\n",
       "      <td>53</td>\n",
       "      <td>46</td>\n",
       "      <td>42</td>\n",
       "      <td>49</td>\n",
       "      <td>1023</td>\n",
       "      <td>0</td>\n",
       "      <td>1</td>\n",
       "      <td>1</td>\n",
       "      <td>1</td>\n",
       "    </tr>\n",
       "    <tr>\n",
       "      <th>9</th>\n",
       "      <td>-0.72</td>\n",
       "      <td>0.55</td>\n",
       "      <td>-0.08</td>\n",
       "      <td>72</td>\n",
       "      <td>58</td>\n",
       "      <td>48</td>\n",
       "      <td>36</td>\n",
       "      <td>48</td>\n",
       "      <td>1021</td>\n",
       "      <td>0</td>\n",
       "      <td>1</td>\n",
       "      <td>1</td>\n",
       "      <td>1</td>\n",
       "    </tr>\n",
       "  </tbody>\n",
       "</table>\n",
       "</div>"
      ],
      "text/plain": [
       "      0     1     2   3   4   5   6   7     8  9  10  11  12\n",
       "0 -0.82  0.58  0.00  57  64  44  38  49   933  1   1   1   1\n",
       "1 -0.83  0.53 -0.01  52  60  49  44  53   931  1   1   1   1\n",
       "2 -0.80  0.53  0.03  62  69  54  42  57   929  1   1   1   1\n",
       "3 -0.40  0.36 -0.04  57  57  41  30  43   931  1   1   1   1\n",
       "4 -0.82  0.70 -0.14  62  65  48  36  43  1023  0   1   1   1\n",
       "5 -0.95  0.71 -0.03  67  65  51  42  51  1023  0   1   1   1\n",
       "6 -0.69  0.62 -0.09  75  76  66  47  56  1022  0   1   1   1\n",
       "7 -0.74  0.60 -0.07  72  72  62  50  62  1020  0   1   1   1\n",
       "8 -0.85  0.60 -0.04  70  53  46  42  49  1023  0   1   1   1\n",
       "9 -0.72  0.55 -0.08  72  58  48  36  48  1021  0   1   1   1"
      ]
     },
     "execution_count": 216,
     "metadata": {},
     "output_type": "execute_result"
    }
   ],
   "source": [
    "combined_csv[0:10]"
   ]
  },
  {
   "cell_type": "code",
   "execution_count": 217,
   "metadata": {},
   "outputs": [
    {
     "name": "stdout",
     "output_type": "stream",
     "text": [
      "(1700, 13)\n"
     ]
    }
   ],
   "source": [
    "X_numpy = combined_csv.values\n",
    "print(X_numpy.shape)"
   ]
  },
  {
   "cell_type": "code",
   "execution_count": 218,
   "metadata": {},
   "outputs": [
    {
     "name": "stdout",
     "output_type": "stream",
     "text": [
      "[1.000e+00 1.000e+00 1.000e+00 2.550e+02 2.550e+02 2.550e+02 2.550e+02\n",
      " 2.550e+02 1.023e+03 1.000e+00 1.000e+00 1.000e+00 1.000e+00]\n",
      "(1700, 13)\n"
     ]
    }
   ],
   "source": [
    "norm_array = np.array([1, 1, 1, 255.0, 255.0, 255.0, 255.0, 255.0, 1023.0, 1, 1, 1, 1])\n",
    "print(norm_array)\n",
    "\n",
    "normalized_X = X_numpy / norm_array[None, :]\n",
    "print(normalized_X.shape)"
   ]
  },
  {
   "cell_type": "code",
   "execution_count": 219,
   "metadata": {},
   "outputs": [
    {
     "data": {
      "text/plain": [
       "array([-0.82      ,  0.58      ,  0.        ,  0.22352941,  0.25098039,\n",
       "        0.17254902,  0.14901961,  0.19215686,  0.91202346,  1.        ,\n",
       "        1.        ,  1.        ,  1.        ])"
      ]
     },
     "execution_count": 219,
     "metadata": {},
     "output_type": "execute_result"
    }
   ],
   "source": [
    "normalized_X[0]"
   ]
  },
  {
   "cell_type": "code",
   "execution_count": 220,
   "metadata": {},
   "outputs": [],
   "source": [
    "combined_csv_labels = pd.read_csv(os.path.join(execution_path, \"combined_12_signs_labels.csv\"))"
   ]
  },
  {
   "cell_type": "code",
   "execution_count": 221,
   "metadata": {},
   "outputs": [
    {
     "data": {
      "text/html": [
       "<div>\n",
       "<style scoped>\n",
       "    .dataframe tbody tr th:only-of-type {\n",
       "        vertical-align: middle;\n",
       "    }\n",
       "\n",
       "    .dataframe tbody tr th {\n",
       "        vertical-align: top;\n",
       "    }\n",
       "\n",
       "    .dataframe thead th {\n",
       "        text-align: right;\n",
       "    }\n",
       "</style>\n",
       "<table border=\"1\" class=\"dataframe\">\n",
       "  <thead>\n",
       "    <tr style=\"text-align: right;\">\n",
       "      <th></th>\n",
       "      <th>0</th>\n",
       "    </tr>\n",
       "  </thead>\n",
       "  <tbody>\n",
       "    <tr>\n",
       "      <th>0</th>\n",
       "      <td>11</td>\n",
       "    </tr>\n",
       "    <tr>\n",
       "      <th>1</th>\n",
       "      <td>11</td>\n",
       "    </tr>\n",
       "    <tr>\n",
       "      <th>2</th>\n",
       "      <td>11</td>\n",
       "    </tr>\n",
       "    <tr>\n",
       "      <th>3</th>\n",
       "      <td>11</td>\n",
       "    </tr>\n",
       "    <tr>\n",
       "      <th>4</th>\n",
       "      <td>11</td>\n",
       "    </tr>\n",
       "    <tr>\n",
       "      <th>5</th>\n",
       "      <td>11</td>\n",
       "    </tr>\n",
       "    <tr>\n",
       "      <th>6</th>\n",
       "      <td>11</td>\n",
       "    </tr>\n",
       "    <tr>\n",
       "      <th>7</th>\n",
       "      <td>11</td>\n",
       "    </tr>\n",
       "    <tr>\n",
       "      <th>8</th>\n",
       "      <td>11</td>\n",
       "    </tr>\n",
       "    <tr>\n",
       "      <th>9</th>\n",
       "      <td>11</td>\n",
       "    </tr>\n",
       "  </tbody>\n",
       "</table>\n",
       "</div>"
      ],
      "text/plain": [
       "    0\n",
       "0  11\n",
       "1  11\n",
       "2  11\n",
       "3  11\n",
       "4  11\n",
       "5  11\n",
       "6  11\n",
       "7  11\n",
       "8  11\n",
       "9  11"
      ]
     },
     "execution_count": 221,
     "metadata": {},
     "output_type": "execute_result"
    }
   ],
   "source": [
    "combined_csv_labels[0:10]"
   ]
  },
  {
   "cell_type": "code",
   "execution_count": 222,
   "metadata": {},
   "outputs": [
    {
     "name": "stdout",
     "output_type": "stream",
     "text": [
      "(1700, 1)\n",
      "(1700, 44)\n"
     ]
    }
   ],
   "source": [
    "Y_numpy = combined_csv_labels.values\n",
    "print(Y_numpy.shape)\n",
    "\n",
    "labels_one_hot = to_categorical(Y_numpy)\n",
    "print(labels_one_hot.shape)"
   ]
  },
  {
   "cell_type": "code",
   "execution_count": 223,
   "metadata": {},
   "outputs": [
    {
     "name": "stdout",
     "output_type": "stream",
     "text": [
      "(1700, 13)\n"
     ]
    }
   ],
   "source": [
    "final_dataset, final_labels = shuffle(normalized_X, labels_one_hot)\n",
    "\n",
    "print(final_dataset.shape)"
   ]
  },
  {
   "cell_type": "code",
   "execution_count": 323,
   "metadata": {},
   "outputs": [
    {
     "name": "stdout",
     "output_type": "stream",
     "text": [
      "(1649, 13)\n",
      "(1649, 44)\n",
      "(51, 13)\n",
      "(51, 44)\n"
     ]
    }
   ],
   "source": [
    "X_train, X_val, y_train, y_val = train_test_split(final_dataset, final_labels, test_size=0.03, random_state=1)\n",
    "\n",
    "print(X_train.shape)\n",
    "print(y_train.shape)\n",
    "\n",
    "print(X_val.shape)\n",
    "print(y_val.shape)"
   ]
  },
  {
   "cell_type": "code",
   "execution_count": 324,
   "metadata": {},
   "outputs": [
    {
     "name": "stdout",
     "output_type": "stream",
     "text": [
      "13\n"
     ]
    }
   ],
   "source": [
    "input_shape = X_train.shape[1]\n",
    "\n",
    "print(input_shape)"
   ]
  },
  {
   "cell_type": "code",
   "execution_count": 325,
   "metadata": {},
   "outputs": [],
   "source": [
    "model1 = Sequential()\n",
    "\n",
    "model1.add(Dense(input_shape = (13,), units = 44, activation = 'softmax'))\n",
    "\n",
    "#model.add(Dense(units = 8, activation = 'sigmoid'))\n",
    "\n",
    "model1.compile(optimizer = 'adam', loss = 'categorical_crossentropy', metrics = ['accuracy'])"
   ]
  },
  {
   "cell_type": "code",
   "execution_count": 326,
   "metadata": {},
   "outputs": [
    {
     "name": "stdout",
     "output_type": "stream",
     "text": [
      "Model: \"sequential_16\"\n",
      "_________________________________________________________________\n",
      "Layer (type)                 Output Shape              Param #   \n",
      "=================================================================\n",
      "dense_16 (Dense)             (None, 44)                616       \n",
      "=================================================================\n",
      "Total params: 616\n",
      "Trainable params: 616\n",
      "Non-trainable params: 0\n",
      "_________________________________________________________________\n"
     ]
    }
   ],
   "source": [
    "model1.summary()"
   ]
  },
  {
   "cell_type": "code",
   "execution_count": 327,
   "metadata": {},
   "outputs": [
    {
     "name": "stdout",
     "output_type": "stream",
     "text": [
      "Train on 1649 samples, validate on 51 samples\n",
      "Epoch 1/44\n",
      "1649/1649 [==============================] - 1s 512us/step - loss: 3.6824 - acc: 6.0643e-04 - val_loss: 3.6088 - val_acc: 0.0000e+00\n",
      "Epoch 2/44\n",
      "1649/1649 [==============================] - 0s 26us/step - loss: 3.4627 - acc: 0.0024 - val_loss: 3.4010 - val_acc: 0.0000e+00\n",
      "Epoch 3/44\n",
      "1649/1649 [==============================] - 0s 32us/step - loss: 3.2685 - acc: 0.0509 - val_loss: 3.2206 - val_acc: 0.0588\n",
      "Epoch 4/44\n",
      "1649/1649 [==============================] - 0s 24us/step - loss: 3.0993 - acc: 0.0625 - val_loss: 3.0615 - val_acc: 0.0588\n",
      "Epoch 5/44\n",
      "1649/1649 [==============================] - 0s 21us/step - loss: 2.9509 - acc: 0.1067 - val_loss: 2.9184 - val_acc: 0.0980\n",
      "Epoch 6/44\n",
      "1649/1649 [==============================] - 0s 31us/step - loss: 2.8180 - acc: 0.1625 - val_loss: 2.7921 - val_acc: 0.1373\n",
      "Epoch 7/44\n",
      "1649/1649 [==============================] - 0s 26us/step - loss: 2.6993 - acc: 0.2644 - val_loss: 2.6786 - val_acc: 0.2745\n",
      "Epoch 8/44\n",
      "1649/1649 [==============================] - 0s 25us/step - loss: 2.5917 - acc: 0.4403 - val_loss: 2.5740 - val_acc: 0.4706\n",
      "Epoch 9/44\n",
      "1649/1649 [==============================] - 0s 29us/step - loss: 2.4932 - acc: 0.5500 - val_loss: 2.4779 - val_acc: 0.5294\n",
      "Epoch 10/44\n",
      "1649/1649 [==============================] - 0s 28us/step - loss: 2.4018 - acc: 0.6804 - val_loss: 2.3868 - val_acc: 0.6667\n",
      "Epoch 11/44\n",
      "1649/1649 [==============================] - 0s 29us/step - loss: 2.3174 - acc: 0.8308 - val_loss: 2.3031 - val_acc: 0.8039\n",
      "Epoch 12/44\n",
      "1649/1649 [==============================] - 0s 25us/step - loss: 2.2364 - acc: 0.8563 - val_loss: 2.2218 - val_acc: 0.8235\n",
      "Epoch 13/44\n",
      "1649/1649 [==============================] - 0s 25us/step - loss: 2.1606 - acc: 0.8648 - val_loss: 2.1460 - val_acc: 0.8235\n",
      "Epoch 14/44\n",
      "1649/1649 [==============================] - 0s 29us/step - loss: 2.0885 - acc: 0.8702 - val_loss: 2.0732 - val_acc: 0.8235\n",
      "Epoch 15/44\n",
      "1649/1649 [==============================] - 0s 29us/step - loss: 2.0198 - acc: 0.8708 - val_loss: 2.0054 - val_acc: 0.8235\n",
      "Epoch 16/44\n",
      "1649/1649 [==============================] - 0s 26us/step - loss: 1.9542 - acc: 0.8739 - val_loss: 1.9408 - val_acc: 0.8235\n",
      "Epoch 17/44\n",
      "1649/1649 [==============================] - 0s 34us/step - loss: 1.8914 - acc: 0.8781 - val_loss: 1.8777 - val_acc: 0.8235\n",
      "Epoch 18/44\n",
      "1649/1649 [==============================] - 0s 26us/step - loss: 1.8312 - acc: 0.8860 - val_loss: 1.8167 - val_acc: 0.8627\n",
      "Epoch 19/44\n",
      "1649/1649 [==============================] - 0s 23us/step - loss: 1.7737 - acc: 0.9030 - val_loss: 1.7576 - val_acc: 0.9020\n",
      "Epoch 20/44\n",
      "1649/1649 [==============================] - 0s 25us/step - loss: 1.7182 - acc: 0.9133 - val_loss: 1.7025 - val_acc: 0.9216\n",
      "Epoch 21/44\n",
      "1649/1649 [==============================] - 0s 27us/step - loss: 1.6651 - acc: 0.9193 - val_loss: 1.6488 - val_acc: 0.9216\n",
      "Epoch 22/44\n",
      "1649/1649 [==============================] - 0s 29us/step - loss: 1.6141 - acc: 0.9278 - val_loss: 1.5973 - val_acc: 0.9216\n",
      "Epoch 23/44\n",
      "1649/1649 [==============================] - 0s 26us/step - loss: 1.5650 - acc: 0.9315 - val_loss: 1.5481 - val_acc: 0.9412\n",
      "Epoch 24/44\n",
      "1649/1649 [==============================] - 0s 27us/step - loss: 1.5176 - acc: 0.9745 - val_loss: 1.5013 - val_acc: 1.0000\n",
      "Epoch 25/44\n",
      "1649/1649 [==============================] - 0s 25us/step - loss: 1.4724 - acc: 0.9909 - val_loss: 1.4564 - val_acc: 1.0000\n",
      "Epoch 26/44\n",
      "1649/1649 [==============================] - 0s 26us/step - loss: 1.4286 - acc: 0.9915 - val_loss: 1.4131 - val_acc: 1.0000\n",
      "Epoch 27/44\n",
      "1649/1649 [==============================] - 0s 31us/step - loss: 1.3866 - acc: 0.9927 - val_loss: 1.3690 - val_acc: 1.0000\n",
      "Epoch 28/44\n",
      "1649/1649 [==============================] - 0s 28us/step - loss: 1.3460 - acc: 0.9927 - val_loss: 1.3309 - val_acc: 1.0000\n",
      "Epoch 29/44\n",
      "1649/1649 [==============================] - 0s 31us/step - loss: 1.3069 - acc: 0.9927 - val_loss: 1.2920 - val_acc: 1.0000\n",
      "Epoch 30/44\n",
      "1649/1649 [==============================] - 0s 29us/step - loss: 1.2694 - acc: 0.9927 - val_loss: 1.2543 - val_acc: 1.0000\n",
      "Epoch 31/44\n",
      "1649/1649 [==============================] - 0s 37us/step - loss: 1.2332 - acc: 0.9939 - val_loss: 1.2178 - val_acc: 1.0000\n",
      "Epoch 32/44\n",
      "1649/1649 [==============================] - 0s 29us/step - loss: 1.1983 - acc: 0.9945 - val_loss: 1.1830 - val_acc: 1.0000\n",
      "Epoch 33/44\n",
      "1649/1649 [==============================] - 0s 29us/step - loss: 1.1648 - acc: 0.9945 - val_loss: 1.1499 - val_acc: 1.0000\n",
      "Epoch 34/44\n",
      "1649/1649 [==============================] - 0s 30us/step - loss: 1.1326 - acc: 0.9951 - val_loss: 1.1168 - val_acc: 1.0000\n",
      "Epoch 35/44\n",
      "1649/1649 [==============================] - 0s 30us/step - loss: 1.1015 - acc: 0.9945 - val_loss: 1.0865 - val_acc: 1.0000\n",
      "Epoch 36/44\n",
      "1649/1649 [==============================] - 0s 30us/step - loss: 1.0713 - acc: 0.9951 - val_loss: 1.0567 - val_acc: 1.0000\n",
      "Epoch 37/44\n",
      "1649/1649 [==============================] - 0s 28us/step - loss: 1.0424 - acc: 0.9958 - val_loss: 1.0283 - val_acc: 1.0000\n",
      "Epoch 38/44\n",
      "1649/1649 [==============================] - 0s 23us/step - loss: 1.0146 - acc: 0.9958 - val_loss: 0.9996 - val_acc: 1.0000\n",
      "Epoch 39/44\n",
      "1649/1649 [==============================] - 0s 25us/step - loss: 0.9877 - acc: 0.9958 - val_loss: 0.9741 - val_acc: 1.0000\n",
      "Epoch 40/44\n",
      "1649/1649 [==============================] - 0s 23us/step - loss: 0.9616 - acc: 0.9958 - val_loss: 0.9477 - val_acc: 1.0000\n",
      "Epoch 41/44\n",
      "1649/1649 [==============================] - 0s 25us/step - loss: 0.9365 - acc: 0.9958 - val_loss: 0.9244 - val_acc: 1.0000\n",
      "Epoch 42/44\n",
      "1649/1649 [==============================] - 0s 24us/step - loss: 0.9124 - acc: 0.9958 - val_loss: 0.8991 - val_acc: 1.0000\n",
      "Epoch 43/44\n",
      "1649/1649 [==============================] - 0s 25us/step - loss: 0.8889 - acc: 0.9958 - val_loss: 0.8758 - val_acc: 1.0000\n",
      "Epoch 44/44\n",
      "1649/1649 [==============================] - 0s 27us/step - loss: 0.8665 - acc: 0.9958 - val_loss: 0.8539 - val_acc: 1.0000\n"
     ]
    },
    {
     "data": {
      "text/plain": [
       "<keras.callbacks.History at 0x7f765f5689e8>"
      ]
     },
     "execution_count": 327,
     "metadata": {},
     "output_type": "execute_result"
    }
   ],
   "source": [
    "model1.fit(X_train, y_train, validation_data = (X_val, y_val), epochs = 44, batch_size = 64)"
   ]
  },
  {
   "cell_type": "code",
   "execution_count": 328,
   "metadata": {},
   "outputs": [
    {
     "name": "stdout",
     "output_type": "stream",
     "text": [
      "Train on 1649 samples, validate on 51 samples\n",
      "Epoch 1/40\n",
      "1649/1649 [==============================] - 0s 30us/step - loss: 0.8446 - acc: 0.9958 - val_loss: 0.8326 - val_acc: 1.0000\n",
      "Epoch 2/40\n",
      "1649/1649 [==============================] - 0s 30us/step - loss: 0.8236 - acc: 0.9958 - val_loss: 0.8113 - val_acc: 1.0000\n",
      "Epoch 3/40\n",
      "1649/1649 [==============================] - 0s 27us/step - loss: 0.8032 - acc: 0.9958 - val_loss: 0.7911 - val_acc: 1.0000\n",
      "Epoch 4/40\n",
      "1649/1649 [==============================] - 0s 28us/step - loss: 0.7835 - acc: 0.9958 - val_loss: 0.7723 - val_acc: 1.0000\n",
      "Epoch 5/40\n",
      "1649/1649 [==============================] - 0s 31us/step - loss: 0.7645 - acc: 0.9958 - val_loss: 0.7529 - val_acc: 1.0000\n",
      "Epoch 6/40\n",
      "1649/1649 [==============================] - 0s 26us/step - loss: 0.7462 - acc: 0.9958 - val_loss: 0.7350 - val_acc: 1.0000\n",
      "Epoch 7/40\n",
      "1649/1649 [==============================] - 0s 27us/step - loss: 0.7284 - acc: 0.9958 - val_loss: 0.7161 - val_acc: 1.0000\n",
      "Epoch 8/40\n",
      "1649/1649 [==============================] - 0s 29us/step - loss: 0.7112 - acc: 0.9958 - val_loss: 0.7007 - val_acc: 1.0000\n",
      "Epoch 9/40\n",
      "1649/1649 [==============================] - 0s 29us/step - loss: 0.6945 - acc: 0.9958 - val_loss: 0.6839 - val_acc: 1.0000\n",
      "Epoch 10/40\n",
      "1649/1649 [==============================] - 0s 29us/step - loss: 0.6784 - acc: 0.9958 - val_loss: 0.6668 - val_acc: 1.0000\n",
      "Epoch 11/40\n",
      "1649/1649 [==============================] - 0s 28us/step - loss: 0.6628 - acc: 0.9958 - val_loss: 0.6526 - val_acc: 1.0000\n",
      "Epoch 12/40\n",
      "1649/1649 [==============================] - 0s 27us/step - loss: 0.6476 - acc: 0.9964 - val_loss: 0.6374 - val_acc: 1.0000\n",
      "Epoch 13/40\n",
      "1649/1649 [==============================] - 0s 29us/step - loss: 0.6330 - acc: 0.9964 - val_loss: 0.6226 - val_acc: 1.0000\n",
      "Epoch 14/40\n",
      "1649/1649 [==============================] - 0s 26us/step - loss: 0.6189 - acc: 0.9964 - val_loss: 0.6094 - val_acc: 1.0000\n",
      "Epoch 15/40\n",
      "1649/1649 [==============================] - 0s 32us/step - loss: 0.6051 - acc: 0.9964 - val_loss: 0.5958 - val_acc: 1.0000\n",
      "Epoch 16/40\n",
      "1649/1649 [==============================] - 0s 35us/step - loss: 0.5918 - acc: 0.9964 - val_loss: 0.5817 - val_acc: 1.0000\n",
      "Epoch 17/40\n",
      "1649/1649 [==============================] - 0s 31us/step - loss: 0.5788 - acc: 0.9964 - val_loss: 0.5695 - val_acc: 1.0000\n",
      "Epoch 18/40\n",
      "1649/1649 [==============================] - 0s 43us/step - loss: 0.5663 - acc: 0.9964 - val_loss: 0.5569 - val_acc: 1.0000\n",
      "Epoch 19/40\n",
      "1649/1649 [==============================] - 0s 34us/step - loss: 0.5542 - acc: 0.9964 - val_loss: 0.5451 - val_acc: 1.0000\n",
      "Epoch 20/40\n",
      "1649/1649 [==============================] - 0s 35us/step - loss: 0.5424 - acc: 0.9964 - val_loss: 0.5330 - val_acc: 1.0000\n",
      "Epoch 21/40\n",
      "1649/1649 [==============================] - 0s 30us/step - loss: 0.5310 - acc: 0.9964 - val_loss: 0.5217 - val_acc: 1.0000\n",
      "Epoch 22/40\n",
      "1649/1649 [==============================] - 0s 32us/step - loss: 0.5199 - acc: 0.9964 - val_loss: 0.5117 - val_acc: 1.0000\n",
      "Epoch 23/40\n",
      "1649/1649 [==============================] - 0s 28us/step - loss: 0.5092 - acc: 0.9964 - val_loss: 0.5010 - val_acc: 1.0000\n",
      "Epoch 24/40\n",
      "1649/1649 [==============================] - 0s 35us/step - loss: 0.4988 - acc: 0.9964 - val_loss: 0.4906 - val_acc: 1.0000\n",
      "Epoch 25/40\n",
      "1649/1649 [==============================] - 0s 29us/step - loss: 0.4884 - acc: 0.9964 - val_loss: 0.4803 - val_acc: 1.0000\n",
      "Epoch 26/40\n",
      "1649/1649 [==============================] - 0s 32us/step - loss: 0.4787 - acc: 0.9964 - val_loss: 0.4695 - val_acc: 1.0000\n",
      "Epoch 27/40\n",
      "1649/1649 [==============================] - 0s 32us/step - loss: 0.4690 - acc: 0.9964 - val_loss: 0.4613 - val_acc: 1.0000\n",
      "Epoch 28/40\n",
      "1649/1649 [==============================] - 0s 31us/step - loss: 0.4596 - acc: 0.9964 - val_loss: 0.4519 - val_acc: 1.0000\n",
      "Epoch 29/40\n",
      "1649/1649 [==============================] - 0s 28us/step - loss: 0.4506 - acc: 0.9964 - val_loss: 0.4426 - val_acc: 1.0000\n",
      "Epoch 30/40\n",
      "1649/1649 [==============================] - 0s 28us/step - loss: 0.4418 - acc: 0.9964 - val_loss: 0.4337 - val_acc: 1.0000\n",
      "Epoch 31/40\n",
      "1649/1649 [==============================] - 0s 39us/step - loss: 0.4331 - acc: 0.9964 - val_loss: 0.4251 - val_acc: 1.0000\n",
      "Epoch 32/40\n",
      "1649/1649 [==============================] - 0s 32us/step - loss: 0.4248 - acc: 0.9964 - val_loss: 0.4165 - val_acc: 1.0000\n",
      "Epoch 33/40\n",
      "1649/1649 [==============================] - 0s 25us/step - loss: 0.4167 - acc: 0.9964 - val_loss: 0.4089 - val_acc: 1.0000\n",
      "Epoch 34/40\n",
      "1649/1649 [==============================] - 0s 26us/step - loss: 0.4087 - acc: 0.9964 - val_loss: 0.4010 - val_acc: 1.0000\n",
      "Epoch 35/40\n",
      "1649/1649 [==============================] - 0s 29us/step - loss: 0.4011 - acc: 0.9964 - val_loss: 0.3939 - val_acc: 1.0000\n",
      "Epoch 36/40\n",
      "1649/1649 [==============================] - 0s 33us/step - loss: 0.3936 - acc: 0.9964 - val_loss: 0.3858 - val_acc: 1.0000\n",
      "Epoch 37/40\n",
      "1649/1649 [==============================] - 0s 26us/step - loss: 0.3862 - acc: 0.9964 - val_loss: 0.3783 - val_acc: 1.0000\n",
      "Epoch 38/40\n",
      "1649/1649 [==============================] - 0s 27us/step - loss: 0.3791 - acc: 0.9964 - val_loss: 0.3713 - val_acc: 1.0000\n",
      "Epoch 39/40\n",
      "1649/1649 [==============================] - 0s 26us/step - loss: 0.3722 - acc: 0.9964 - val_loss: 0.3648 - val_acc: 1.0000\n",
      "Epoch 40/40\n",
      "1649/1649 [==============================] - 0s 24us/step - loss: 0.3654 - acc: 0.9964 - val_loss: 0.3577 - val_acc: 1.0000\n"
     ]
    },
    {
     "data": {
      "text/plain": [
       "<keras.callbacks.History at 0x7f765f55e4e0>"
      ]
     },
     "execution_count": 328,
     "metadata": {},
     "output_type": "execute_result"
    }
   ],
   "source": [
    "model1.fit(X_train, y_train, validation_data = (X_val, y_val), epochs = 40, batch_size = 64)"
   ]
  },
  {
   "cell_type": "code",
   "execution_count": 329,
   "metadata": {},
   "outputs": [
    {
     "name": "stdout",
     "output_type": "stream",
     "text": [
      "Train on 1649 samples, validate on 51 samples\n",
      "Epoch 1/40\n",
      "1649/1649 [==============================] - 0s 25us/step - loss: 0.3588 - acc: 0.9964 - val_loss: 0.3515 - val_acc: 1.0000\n",
      "Epoch 2/40\n",
      "1649/1649 [==============================] - 0s 28us/step - loss: 0.3524 - acc: 0.9964 - val_loss: 0.3454 - val_acc: 1.0000\n",
      "Epoch 3/40\n",
      "1649/1649 [==============================] - 0s 27us/step - loss: 0.3461 - acc: 0.9964 - val_loss: 0.3386 - val_acc: 1.0000\n",
      "Epoch 4/40\n",
      "1649/1649 [==============================] - 0s 26us/step - loss: 0.3400 - acc: 0.9964 - val_loss: 0.3322 - val_acc: 1.0000\n",
      "Epoch 5/40\n",
      "1649/1649 [==============================] - 0s 30us/step - loss: 0.3341 - acc: 0.9964 - val_loss: 0.3265 - val_acc: 1.0000\n",
      "Epoch 6/40\n",
      "1649/1649 [==============================] - 0s 29us/step - loss: 0.3282 - acc: 0.9964 - val_loss: 0.3210 - val_acc: 1.0000\n",
      "Epoch 7/40\n",
      "1649/1649 [==============================] - 0s 30us/step - loss: 0.3225 - acc: 0.9964 - val_loss: 0.3154 - val_acc: 1.0000\n",
      "Epoch 8/40\n",
      "1649/1649 [==============================] - 0s 29us/step - loss: 0.3170 - acc: 0.9964 - val_loss: 0.3101 - val_acc: 1.0000\n",
      "Epoch 9/40\n",
      "1649/1649 [==============================] - 0s 26us/step - loss: 0.3116 - acc: 0.9964 - val_loss: 0.3042 - val_acc: 1.0000\n",
      "Epoch 10/40\n",
      "1649/1649 [==============================] - 0s 30us/step - loss: 0.3062 - acc: 0.9964 - val_loss: 0.2988 - val_acc: 1.0000\n",
      "Epoch 11/40\n",
      "1649/1649 [==============================] - 0s 30us/step - loss: 0.3011 - acc: 0.9964 - val_loss: 0.2936 - val_acc: 1.0000\n",
      "Epoch 12/40\n",
      "1649/1649 [==============================] - 0s 30us/step - loss: 0.2962 - acc: 0.9964 - val_loss: 0.2888 - val_acc: 1.0000\n",
      "Epoch 13/40\n",
      "1649/1649 [==============================] - 0s 25us/step - loss: 0.2911 - acc: 0.9964 - val_loss: 0.2839 - val_acc: 1.0000\n",
      "Epoch 14/40\n",
      "1649/1649 [==============================] - 0s 30us/step - loss: 0.2864 - acc: 0.9964 - val_loss: 0.2794 - val_acc: 1.0000\n",
      "Epoch 15/40\n",
      "1649/1649 [==============================] - 0s 28us/step - loss: 0.2817 - acc: 0.9964 - val_loss: 0.2747 - val_acc: 1.0000\n",
      "Epoch 16/40\n",
      "1649/1649 [==============================] - 0s 29us/step - loss: 0.2770 - acc: 0.9964 - val_loss: 0.2697 - val_acc: 1.0000\n",
      "Epoch 17/40\n",
      "1649/1649 [==============================] - 0s 29us/step - loss: 0.2726 - acc: 0.9964 - val_loss: 0.2653 - val_acc: 1.0000\n",
      "Epoch 18/40\n",
      "1649/1649 [==============================] - 0s 31us/step - loss: 0.2682 - acc: 0.9964 - val_loss: 0.2607 - val_acc: 1.0000\n",
      "Epoch 19/40\n",
      "1649/1649 [==============================] - 0s 26us/step - loss: 0.2638 - acc: 0.9964 - val_loss: 0.2568 - val_acc: 1.0000\n",
      "Epoch 20/40\n",
      "1649/1649 [==============================] - 0s 29us/step - loss: 0.2596 - acc: 0.9964 - val_loss: 0.2524 - val_acc: 1.0000\n",
      "Epoch 21/40\n",
      "1649/1649 [==============================] - 0s 31us/step - loss: 0.2555 - acc: 0.9964 - val_loss: 0.2481 - val_acc: 1.0000\n",
      "Epoch 22/40\n",
      "1649/1649 [==============================] - 0s 28us/step - loss: 0.2515 - acc: 0.9964 - val_loss: 0.2445 - val_acc: 1.0000\n",
      "Epoch 23/40\n",
      "1649/1649 [==============================] - 0s 26us/step - loss: 0.2476 - acc: 0.9964 - val_loss: 0.2403 - val_acc: 1.0000\n",
      "Epoch 24/40\n",
      "1649/1649 [==============================] - 0s 30us/step - loss: 0.2437 - acc: 0.9964 - val_loss: 0.2362 - val_acc: 1.0000\n",
      "Epoch 25/40\n",
      "1649/1649 [==============================] - 0s 27us/step - loss: 0.2399 - acc: 0.9964 - val_loss: 0.2324 - val_acc: 1.0000\n",
      "Epoch 26/40\n",
      "1649/1649 [==============================] - 0s 28us/step - loss: 0.2363 - acc: 0.9964 - val_loss: 0.2288 - val_acc: 1.0000\n",
      "Epoch 27/40\n",
      "1649/1649 [==============================] - 0s 30us/step - loss: 0.2327 - acc: 0.9964 - val_loss: 0.2256 - val_acc: 1.0000\n",
      "Epoch 28/40\n",
      "1649/1649 [==============================] - 0s 30us/step - loss: 0.2291 - acc: 0.9964 - val_loss: 0.2214 - val_acc: 1.0000\n",
      "Epoch 29/40\n",
      "1649/1649 [==============================] - 0s 31us/step - loss: 0.2257 - acc: 0.9964 - val_loss: 0.2183 - val_acc: 1.0000\n",
      "Epoch 30/40\n",
      "1649/1649 [==============================] - 0s 28us/step - loss: 0.2222 - acc: 0.9964 - val_loss: 0.2148 - val_acc: 1.0000\n",
      "Epoch 31/40\n",
      "1649/1649 [==============================] - 0s 28us/step - loss: 0.2189 - acc: 0.9964 - val_loss: 0.2115 - val_acc: 1.0000\n",
      "Epoch 32/40\n",
      "1649/1649 [==============================] - 0s 28us/step - loss: 0.2156 - acc: 0.9964 - val_loss: 0.2082 - val_acc: 1.0000\n",
      "Epoch 33/40\n",
      "1649/1649 [==============================] - 0s 29us/step - loss: 0.2124 - acc: 0.9964 - val_loss: 0.2053 - val_acc: 1.0000\n",
      "Epoch 34/40\n",
      "1649/1649 [==============================] - 0s 28us/step - loss: 0.2093 - acc: 0.9964 - val_loss: 0.2019 - val_acc: 1.0000\n",
      "Epoch 35/40\n",
      "1649/1649 [==============================] - 0s 27us/step - loss: 0.2063 - acc: 0.9964 - val_loss: 0.1989 - val_acc: 1.0000\n",
      "Epoch 36/40\n",
      "1649/1649 [==============================] - 0s 42us/step - loss: 0.2032 - acc: 0.9964 - val_loss: 0.1957 - val_acc: 1.0000\n",
      "Epoch 37/40\n",
      "1649/1649 [==============================] - 0s 32us/step - loss: 0.2003 - acc: 0.9964 - val_loss: 0.1929 - val_acc: 1.0000\n",
      "Epoch 38/40\n",
      "1649/1649 [==============================] - 0s 37us/step - loss: 0.1974 - acc: 0.9970 - val_loss: 0.1902 - val_acc: 1.0000\n",
      "Epoch 39/40\n",
      "1649/1649 [==============================] - 0s 37us/step - loss: 0.1945 - acc: 0.9964 - val_loss: 0.1871 - val_acc: 1.0000\n",
      "Epoch 40/40\n",
      "1649/1649 [==============================] - 0s 33us/step - loss: 0.1918 - acc: 0.9970 - val_loss: 0.1842 - val_acc: 1.0000\n"
     ]
    },
    {
     "data": {
      "text/plain": [
       "<keras.callbacks.History at 0x7f765f2f5b38>"
      ]
     },
     "execution_count": 329,
     "metadata": {},
     "output_type": "execute_result"
    }
   ],
   "source": [
    "model1.fit(X_train, y_train, validation_data = (X_val, y_val), epochs = 40, batch_size = 64)"
   ]
  },
  {
   "cell_type": "code",
   "execution_count": 330,
   "metadata": {},
   "outputs": [
    {
     "name": "stdout",
     "output_type": "stream",
     "text": [
      "Train on 1649 samples, validate on 51 samples\n",
      "Epoch 1/40\n",
      "1649/1649 [==============================] - 0s 37us/step - loss: 0.1891 - acc: 0.9970 - val_loss: 0.1815 - val_acc: 1.0000\n",
      "Epoch 2/40\n",
      "1649/1649 [==============================] - 0s 33us/step - loss: 0.1863 - acc: 0.9964 - val_loss: 0.1788 - val_acc: 1.0000\n",
      "Epoch 3/40\n",
      "1649/1649 [==============================] - 0s 28us/step - loss: 0.1837 - acc: 0.9970 - val_loss: 0.1763 - val_acc: 1.0000\n",
      "Epoch 4/40\n",
      "1649/1649 [==============================] - 0s 30us/step - loss: 0.1812 - acc: 0.9970 - val_loss: 0.1738 - val_acc: 1.0000\n",
      "Epoch 5/40\n",
      "1649/1649 [==============================] - 0s 43us/step - loss: 0.1786 - acc: 0.9970 - val_loss: 0.1712 - val_acc: 1.0000\n",
      "Epoch 6/40\n",
      "1649/1649 [==============================] - 0s 31us/step - loss: 0.1761 - acc: 0.9970 - val_loss: 0.1689 - val_acc: 1.0000\n",
      "Epoch 7/40\n",
      "1649/1649 [==============================] - 0s 29us/step - loss: 0.1737 - acc: 0.9970 - val_loss: 0.1663 - val_acc: 1.0000\n",
      "Epoch 8/40\n",
      "1649/1649 [==============================] - 0s 22us/step - loss: 0.1713 - acc: 0.9970 - val_loss: 0.1640 - val_acc: 1.0000\n",
      "Epoch 9/40\n",
      "1649/1649 [==============================] - 0s 21us/step - loss: 0.1690 - acc: 0.9970 - val_loss: 0.1612 - val_acc: 1.0000\n",
      "Epoch 10/40\n",
      "1649/1649 [==============================] - 0s 22us/step - loss: 0.1667 - acc: 0.9970 - val_loss: 0.1593 - val_acc: 1.0000\n",
      "Epoch 11/40\n",
      "1649/1649 [==============================] - 0s 21us/step - loss: 0.1644 - acc: 0.9970 - val_loss: 0.1569 - val_acc: 1.0000\n",
      "Epoch 12/40\n",
      "1649/1649 [==============================] - 0s 21us/step - loss: 0.1622 - acc: 0.9970 - val_loss: 0.1549 - val_acc: 1.0000\n",
      "Epoch 13/40\n",
      "1649/1649 [==============================] - 0s 22us/step - loss: 0.1600 - acc: 0.9970 - val_loss: 0.1523 - val_acc: 1.0000\n",
      "Epoch 14/40\n",
      "1649/1649 [==============================] - 0s 21us/step - loss: 0.1578 - acc: 0.9970 - val_loss: 0.1504 - val_acc: 1.0000\n",
      "Epoch 15/40\n",
      "1649/1649 [==============================] - 0s 21us/step - loss: 0.1558 - acc: 0.9970 - val_loss: 0.1481 - val_acc: 1.0000\n",
      "Epoch 16/40\n",
      "1649/1649 [==============================] - 0s 21us/step - loss: 0.1537 - acc: 0.9970 - val_loss: 0.1461 - val_acc: 1.0000\n",
      "Epoch 17/40\n",
      "1649/1649 [==============================] - 0s 22us/step - loss: 0.1516 - acc: 0.9970 - val_loss: 0.1441 - val_acc: 1.0000\n",
      "Epoch 18/40\n",
      "1649/1649 [==============================] - 0s 21us/step - loss: 0.1497 - acc: 0.9970 - val_loss: 0.1420 - val_acc: 1.0000\n",
      "Epoch 19/40\n",
      "1649/1649 [==============================] - 0s 22us/step - loss: 0.1477 - acc: 0.9970 - val_loss: 0.1403 - val_acc: 1.0000\n",
      "Epoch 20/40\n",
      "1649/1649 [==============================] - 0s 27us/step - loss: 0.1457 - acc: 0.9970 - val_loss: 0.1382 - val_acc: 1.0000\n",
      "Epoch 21/40\n",
      "1649/1649 [==============================] - 0s 29us/step - loss: 0.1438 - acc: 0.9970 - val_loss: 0.1361 - val_acc: 1.0000\n",
      "Epoch 22/40\n",
      "1649/1649 [==============================] - 0s 27us/step - loss: 0.1420 - acc: 0.9970 - val_loss: 0.1345 - val_acc: 1.0000\n",
      "Epoch 23/40\n",
      "1649/1649 [==============================] - 0s 28us/step - loss: 0.1402 - acc: 0.9970 - val_loss: 0.1326 - val_acc: 1.0000\n",
      "Epoch 24/40\n",
      "1649/1649 [==============================] - 0s 28us/step - loss: 0.1383 - acc: 0.9970 - val_loss: 0.1308 - val_acc: 1.0000\n",
      "Epoch 25/40\n",
      "1649/1649 [==============================] - 0s 27us/step - loss: 0.1366 - acc: 0.9970 - val_loss: 0.1291 - val_acc: 1.0000\n",
      "Epoch 26/40\n",
      "1649/1649 [==============================] - 0s 27us/step - loss: 0.1348 - acc: 0.9970 - val_loss: 0.1273 - val_acc: 1.0000\n",
      "Epoch 27/40\n",
      "1649/1649 [==============================] - 0s 24us/step - loss: 0.1332 - acc: 0.9970 - val_loss: 0.1254 - val_acc: 1.0000\n",
      "Epoch 28/40\n",
      "1649/1649 [==============================] - 0s 26us/step - loss: 0.1315 - acc: 0.9970 - val_loss: 0.1238 - val_acc: 1.0000\n",
      "Epoch 29/40\n",
      "1649/1649 [==============================] - 0s 26us/step - loss: 0.1298 - acc: 0.9970 - val_loss: 0.1221 - val_acc: 1.0000\n",
      "Epoch 30/40\n",
      "1649/1649 [==============================] - 0s 23us/step - loss: 0.1282 - acc: 0.9970 - val_loss: 0.1206 - val_acc: 1.0000\n",
      "Epoch 31/40\n",
      "1649/1649 [==============================] - 0s 26us/step - loss: 0.1266 - acc: 0.9970 - val_loss: 0.1189 - val_acc: 1.0000\n",
      "Epoch 32/40\n",
      "1649/1649 [==============================] - 0s 25us/step - loss: 0.1250 - acc: 0.9970 - val_loss: 0.1173 - val_acc: 1.0000\n",
      "Epoch 33/40\n",
      "1649/1649 [==============================] - 0s 24us/step - loss: 0.1234 - acc: 0.9970 - val_loss: 0.1156 - val_acc: 1.0000\n",
      "Epoch 34/40\n",
      "1649/1649 [==============================] - 0s 23us/step - loss: 0.1219 - acc: 0.9970 - val_loss: 0.1141 - val_acc: 1.0000\n",
      "Epoch 35/40\n",
      "1649/1649 [==============================] - 0s 23us/step - loss: 0.1204 - acc: 0.9970 - val_loss: 0.1127 - val_acc: 1.0000\n",
      "Epoch 36/40\n",
      "1649/1649 [==============================] - 0s 27us/step - loss: 0.1190 - acc: 0.9970 - val_loss: 0.1113 - val_acc: 1.0000\n",
      "Epoch 37/40\n",
      "1649/1649 [==============================] - 0s 24us/step - loss: 0.1175 - acc: 0.9970 - val_loss: 0.1097 - val_acc: 1.0000\n",
      "Epoch 38/40\n",
      "1649/1649 [==============================] - 0s 25us/step - loss: 0.1161 - acc: 0.9970 - val_loss: 0.1084 - val_acc: 1.0000\n",
      "Epoch 39/40\n",
      "1649/1649 [==============================] - 0s 23us/step - loss: 0.1147 - acc: 0.9970 - val_loss: 0.1069 - val_acc: 1.0000\n",
      "Epoch 40/40\n",
      "1649/1649 [==============================] - 0s 24us/step - loss: 0.1133 - acc: 0.9970 - val_loss: 0.1055 - val_acc: 1.0000\n"
     ]
    },
    {
     "data": {
      "text/plain": [
       "<keras.callbacks.History at 0x7f765f568160>"
      ]
     },
     "execution_count": 330,
     "metadata": {},
     "output_type": "execute_result"
    }
   ],
   "source": [
    "model1.fit(X_train, y_train, validation_data = (X_val, y_val), epochs = 40, batch_size = 64)"
   ]
  },
  {
   "cell_type": "code",
   "execution_count": 331,
   "metadata": {},
   "outputs": [
    {
     "name": "stdout",
     "output_type": "stream",
     "text": [
      "Train on 1649 samples, validate on 51 samples\n",
      "Epoch 1/40\n",
      "1649/1649 [==============================] - 0s 23us/step - loss: 0.1119 - acc: 0.9970 - val_loss: 0.1042 - val_acc: 1.0000\n",
      "Epoch 2/40\n",
      "1649/1649 [==============================] - 0s 25us/step - loss: 0.1106 - acc: 0.9970 - val_loss: 0.1029 - val_acc: 1.0000\n",
      "Epoch 3/40\n",
      "1649/1649 [==============================] - 0s 26us/step - loss: 0.1093 - acc: 0.9970 - val_loss: 0.1016 - val_acc: 1.0000\n",
      "Epoch 4/40\n",
      "1649/1649 [==============================] - 0s 24us/step - loss: 0.1080 - acc: 0.9970 - val_loss: 0.1002 - val_acc: 1.0000\n",
      "Epoch 5/40\n",
      "1649/1649 [==============================] - 0s 30us/step - loss: 0.1067 - acc: 0.9970 - val_loss: 0.0990 - val_acc: 1.0000\n",
      "Epoch 6/40\n",
      "1649/1649 [==============================] - 0s 24us/step - loss: 0.1055 - acc: 0.9970 - val_loss: 0.0975 - val_acc: 1.0000\n",
      "Epoch 7/40\n",
      "1649/1649 [==============================] - 0s 23us/step - loss: 0.1042 - acc: 0.9970 - val_loss: 0.0965 - val_acc: 1.0000\n",
      "Epoch 8/40\n",
      "1649/1649 [==============================] - 0s 23us/step - loss: 0.1030 - acc: 0.9970 - val_loss: 0.0953 - val_acc: 1.0000\n",
      "Epoch 9/40\n",
      "1649/1649 [==============================] - 0s 22us/step - loss: 0.1018 - acc: 0.9970 - val_loss: 0.0941 - val_acc: 1.0000\n",
      "Epoch 10/40\n",
      "1649/1649 [==============================] - 0s 22us/step - loss: 0.1006 - acc: 0.9970 - val_loss: 0.0928 - val_acc: 1.0000\n",
      "Epoch 11/40\n",
      "1649/1649 [==============================] - 0s 23us/step - loss: 0.0994 - acc: 0.9970 - val_loss: 0.0917 - val_acc: 1.0000\n",
      "Epoch 12/40\n",
      "1649/1649 [==============================] - 0s 25us/step - loss: 0.0983 - acc: 0.9970 - val_loss: 0.0904 - val_acc: 1.0000\n",
      "Epoch 13/40\n",
      "1649/1649 [==============================] - 0s 26us/step - loss: 0.0971 - acc: 0.9970 - val_loss: 0.0894 - val_acc: 1.0000\n",
      "Epoch 14/40\n",
      "1649/1649 [==============================] - 0s 23us/step - loss: 0.0960 - acc: 0.9970 - val_loss: 0.0883 - val_acc: 1.0000\n",
      "Epoch 15/40\n",
      "1649/1649 [==============================] - 0s 26us/step - loss: 0.0949 - acc: 0.9970 - val_loss: 0.0871 - val_acc: 1.0000\n",
      "Epoch 16/40\n",
      "1649/1649 [==============================] - 0s 24us/step - loss: 0.0938 - acc: 0.9970 - val_loss: 0.0860 - val_acc: 1.0000\n",
      "Epoch 17/40\n",
      "1649/1649 [==============================] - 0s 23us/step - loss: 0.0927 - acc: 0.9970 - val_loss: 0.0849 - val_acc: 1.0000\n",
      "Epoch 18/40\n",
      "1649/1649 [==============================] - 0s 21us/step - loss: 0.0917 - acc: 0.9970 - val_loss: 0.0840 - val_acc: 1.0000\n",
      "Epoch 19/40\n",
      "1649/1649 [==============================] - 0s 23us/step - loss: 0.0907 - acc: 0.9970 - val_loss: 0.0830 - val_acc: 1.0000\n",
      "Epoch 20/40\n",
      "1649/1649 [==============================] - 0s 23us/step - loss: 0.0896 - acc: 0.9970 - val_loss: 0.0819 - val_acc: 1.0000\n",
      "Epoch 21/40\n",
      "1649/1649 [==============================] - 0s 22us/step - loss: 0.0886 - acc: 0.9970 - val_loss: 0.0809 - val_acc: 1.0000\n",
      "Epoch 22/40\n",
      "1649/1649 [==============================] - 0s 23us/step - loss: 0.0877 - acc: 0.9970 - val_loss: 0.0798 - val_acc: 1.0000\n",
      "Epoch 23/40\n",
      "1649/1649 [==============================] - 0s 24us/step - loss: 0.0867 - acc: 0.9970 - val_loss: 0.0790 - val_acc: 1.0000\n",
      "Epoch 24/40\n",
      "1649/1649 [==============================] - 0s 22us/step - loss: 0.0857 - acc: 0.9970 - val_loss: 0.0779 - val_acc: 1.0000\n",
      "Epoch 25/40\n",
      "1649/1649 [==============================] - 0s 25us/step - loss: 0.0848 - acc: 0.9970 - val_loss: 0.0771 - val_acc: 1.0000\n",
      "Epoch 26/40\n",
      "1649/1649 [==============================] - 0s 22us/step - loss: 0.0838 - acc: 0.9970 - val_loss: 0.0761 - val_acc: 1.0000\n",
      "Epoch 27/40\n",
      "1649/1649 [==============================] - 0s 22us/step - loss: 0.0829 - acc: 0.9970 - val_loss: 0.0752 - val_acc: 1.0000\n",
      "Epoch 28/40\n",
      "1649/1649 [==============================] - 0s 22us/step - loss: 0.0820 - acc: 0.9970 - val_loss: 0.0742 - val_acc: 1.0000\n",
      "Epoch 29/40\n",
      "1649/1649 [==============================] - 0s 23us/step - loss: 0.0811 - acc: 0.9970 - val_loss: 0.0734 - val_acc: 1.0000\n",
      "Epoch 30/40\n",
      "1649/1649 [==============================] - 0s 36us/step - loss: 0.0802 - acc: 0.9970 - val_loss: 0.0724 - val_acc: 1.0000\n",
      "Epoch 31/40\n",
      "1649/1649 [==============================] - 0s 32us/step - loss: 0.0793 - acc: 0.9970 - val_loss: 0.0716 - val_acc: 1.0000\n",
      "Epoch 32/40\n",
      "1649/1649 [==============================] - 0s 30us/step - loss: 0.0784 - acc: 0.9970 - val_loss: 0.0708 - val_acc: 1.0000\n",
      "Epoch 33/40\n",
      "1649/1649 [==============================] - 0s 29us/step - loss: 0.0776 - acc: 0.9970 - val_loss: 0.0700 - val_acc: 1.0000\n",
      "Epoch 34/40\n",
      "1649/1649 [==============================] - 0s 33us/step - loss: 0.0768 - acc: 0.9970 - val_loss: 0.0691 - val_acc: 1.0000\n",
      "Epoch 35/40\n",
      "1649/1649 [==============================] - 0s 21us/step - loss: 0.0759 - acc: 0.9970 - val_loss: 0.0682 - val_acc: 1.0000\n",
      "Epoch 36/40\n",
      "1649/1649 [==============================] - 0s 22us/step - loss: 0.0751 - acc: 0.9970 - val_loss: 0.0675 - val_acc: 1.0000\n",
      "Epoch 37/40\n",
      "1649/1649 [==============================] - 0s 25us/step - loss: 0.0743 - acc: 0.9970 - val_loss: 0.0667 - val_acc: 1.0000\n",
      "Epoch 38/40\n",
      "1649/1649 [==============================] - 0s 22us/step - loss: 0.0735 - acc: 0.9970 - val_loss: 0.0659 - val_acc: 1.0000\n",
      "Epoch 39/40\n",
      "1649/1649 [==============================] - 0s 23us/step - loss: 0.0727 - acc: 0.9970 - val_loss: 0.0651 - val_acc: 1.0000\n",
      "Epoch 40/40\n",
      "1649/1649 [==============================] - 0s 21us/step - loss: 0.0720 - acc: 0.9970 - val_loss: 0.0644 - val_acc: 1.0000\n"
     ]
    },
    {
     "data": {
      "text/plain": [
       "<keras.callbacks.History at 0x7f765f2a1710>"
      ]
     },
     "execution_count": 331,
     "metadata": {},
     "output_type": "execute_result"
    }
   ],
   "source": [
    "model1.fit(X_train, y_train, validation_data = (X_val, y_val), epochs = 40, batch_size = 64)"
   ]
  },
  {
   "cell_type": "code",
   "execution_count": 332,
   "metadata": {},
   "outputs": [],
   "source": [
    "model1.save(\"svr_all_symbols.h5\")"
   ]
  },
  {
   "cell_type": "code",
   "execution_count": 333,
   "metadata": {},
   "outputs": [],
   "source": [
    "from keras.models import load_model"
   ]
  },
  {
   "cell_type": "code",
   "execution_count": 334,
   "metadata": {},
   "outputs": [],
   "source": [
    "model = load_model('svr_all_symbols.h5')"
   ]
  },
  {
   "cell_type": "code",
   "execution_count": 335,
   "metadata": {},
   "outputs": [],
   "source": [
    "model1.save('svr_all_symbols.h5')"
   ]
  },
  {
   "cell_type": "code",
   "execution_count": 336,
   "metadata": {},
   "outputs": [],
   "source": [
    "sample_number = 3"
   ]
  },
  {
   "cell_type": "code",
   "execution_count": 337,
   "metadata": {},
   "outputs": [
    {
     "name": "stdout",
     "output_type": "stream",
     "text": [
      "(1, 13)\n",
      "[0. 0. 0. 0. 0. 0. 0. 0. 0. 1. 0. 0. 0. 0. 0. 0. 0. 0. 0. 0. 0. 0. 0. 0.\n",
      " 0. 0. 0. 0. 0. 0. 0. 0. 0. 0. 0. 0. 0. 0. 0. 0. 0. 0. 0. 0.]\n"
     ]
    }
   ],
   "source": [
    "test_data_sample = X_val[sample_number].reshape(1, 13)\n",
    "test_data_actual_label = y_val[sample_number]\n",
    "\n",
    "print(test_data_sample.shape)\n",
    "print(test_data_actual_label)"
   ]
  },
  {
   "cell_type": "code",
   "execution_count": 338,
   "metadata": {},
   "outputs": [
    {
     "data": {
      "text/plain": [
       "array([[-0.3       ,  1.        , -0.        ,  0.25098039,  0.98039216,\n",
       "         0.2       ,  0.19215686,  0.21176471,  1.        ,  0.        ,\n",
       "         0.        ,  1.        ,  1.        ]])"
      ]
     },
     "execution_count": 338,
     "metadata": {},
     "output_type": "execute_result"
    }
   ],
   "source": [
    "test_data_sample"
   ]
  },
  {
   "cell_type": "code",
   "execution_count": 339,
   "metadata": {},
   "outputs": [],
   "source": [
    "predicted_prob = model1.predict(test_data_sample)\n",
    "predicted_label = np.argmax(predicted_prob)"
   ]
  },
  {
   "cell_type": "code",
   "execution_count": 340,
   "metadata": {},
   "outputs": [
    {
     "name": "stdout",
     "output_type": "stream",
     "text": [
      "[[8.5000129e-04 3.4261610e-02 5.8642814e-05 2.4128056e-04 6.4182637e-04\n",
      "  4.6307184e-03 9.2611226e-05 8.8141451e-04 1.0495984e-03 8.6520481e-01\n",
      "  9.2713301e-05 1.1550881e-02 3.3051832e-04 1.0170584e-02 6.6594236e-02\n",
      "  1.8661573e-05 1.3932502e-05 1.0506468e-05 2.3803750e-05 2.4394680e-05\n",
      "  4.6201272e-05 3.0892748e-05 1.4727561e-05 1.2781488e-05 3.3564989e-05\n",
      "  5.7693131e-05 3.3691409e-05 2.9792711e-05 3.1399595e-05 3.2238095e-05\n",
      "  1.6876618e-05 2.5764344e-05 1.3769501e-05 1.6276059e-05 2.1436652e-05\n",
      "  3.3627115e-05 1.9799812e-05 1.4907988e-05 2.6330792e-05 2.1069354e-05\n",
      "  2.6477319e-05 1.5519841e-05 1.1106493e-03 1.5717978e-03]]\n",
      "9\n"
     ]
    }
   ],
   "source": [
    "print(predicted_prob)\n",
    "print(predicted_label)"
   ]
  },
  {
   "cell_type": "code",
   "execution_count": 341,
   "metadata": {},
   "outputs": [
    {
     "data": {
      "text/plain": [
       "0.8652048"
      ]
     },
     "execution_count": 341,
     "metadata": {},
     "output_type": "execute_result"
    }
   ],
   "source": [
    "predicted_prob[0][predicted_label]"
   ]
  },
  {
   "cell_type": "code",
   "execution_count": 342,
   "metadata": {},
   "outputs": [
    {
     "name": "stdout",
     "output_type": "stream",
     "text": [
      "0\n"
     ]
    }
   ],
   "source": [
    "print(np.argmax(predicted_label))"
   ]
  },
  {
   "cell_type": "code",
   "execution_count": null,
   "metadata": {},
   "outputs": [],
   "source": []
  },
  {
   "cell_type": "code",
   "execution_count": null,
   "metadata": {},
   "outputs": [],
   "source": []
  }
 ],
 "metadata": {
  "kernelspec": {
   "display_name": "Python 3",
   "language": "python",
   "name": "python3"
  },
  "language_info": {
   "codemirror_mode": {
    "name": "ipython",
    "version": 3
   },
   "file_extension": ".py",
   "mimetype": "text/x-python",
   "name": "python",
   "nbconvert_exporter": "python",
   "pygments_lexer": "ipython3",
   "version": "3.7.3"
  }
 },
 "nbformat": 4,
 "nbformat_minor": 2
}
